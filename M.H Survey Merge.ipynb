{
 "cells": [
  {
   "cell_type": "code",
   "execution_count": 1,
   "id": "f819e1ab",
   "metadata": {},
   "outputs": [],
   "source": [
    "# Import Libraries\n",
    "\n",
    "import pandas as pd\n",
    "import numpy as np"
   ]
  },
  {
   "cell_type": "code",
   "execution_count": 7,
   "id": "7113af22",
   "metadata": {},
   "outputs": [],
   "source": [
    "# Load Every Year\n",
    "\n",
    "df2014= pd.read_csv('Desktop/Data Projects/MH Survey DATA/2014.csv')\n",
    "df2016= pd.read_csv('Desktop/Data Projects/MH Survey DATA/2016.csv')\n",
    "df2017= pd.read_csv('Desktop/Data Projects/MH Survey DATA/2017.csv')\n",
    "df2018= pd.read_csv('Desktop/Data Projects/MH Survey DATA/2018.csv')\n",
    "df2019= pd.read_csv('Desktop/Data Projects/MH Survey DATA/2019.csv')\n",
    "df2020= pd.read_csv('Desktop/Data Projects/MH Survey DATA/2020.csv')\n",
    "df2021= pd.read_csv('Desktop/Data Projects/MH Survey DATA/2021.csv')"
   ]
  },
  {
   "cell_type": "code",
   "execution_count": 16,
   "id": "02649b60",
   "metadata": {},
   "outputs": [
    {
     "name": "stdout",
     "output_type": "stream",
     "text": [
      "The shape is (rows, columns) :  (1259, 27)\n",
      "The shape is (rows, columns) :  (1433, 63)\n",
      "The shape is (rows, columns) :  (756, 123)\n",
      "The shape is (rows, columns) :  (417, 123)\n",
      "The shape is (rows, columns) :  (352, 82)\n",
      "The shape is (rows, columns) :  (180, 120)\n",
      "The shape is (rows, columns) :  (131, 124)\n"
     ]
    }
   ],
   "source": [
    "# Understanding Data\n",
    "\n",
    "print(\"The shape is (rows, columns) : \" ,df2014.shape)\n",
    "print(\"The shape is (rows, columns) : \" ,df2016.shape)\n",
    "print(\"The shape is (rows, columns) : \" ,df2017.shape)\n",
    "print(\"The shape is (rows, columns) : \" ,df2018.shape)\n",
    "print(\"The shape is (rows, columns) : \" ,df2019.shape)\n",
    "print(\"The shape is (rows, columns) : \" ,df2020.shape)\n",
    "print(\"The shape is (rows, columns) : \" ,df2021.shape)"
   ]
  },
  {
   "cell_type": "code",
   "execution_count": 21,
   "id": "267d8106",
   "metadata": {},
   "outputs": [
    {
     "name": "stdout",
     "output_type": "stream",
     "text": [
      "2014---> the columns present are:  Index(['Timestamp', 'Age', 'Gender', 'Country', 'state', 'self_employed',\n",
      "       'family_history', 'treatment', 'work_interfere', 'no_employees',\n",
      "       'remote_work', 'tech_company', 'benefits', 'care_options',\n",
      "       'wellness_program', 'seek_help', 'anonymity', 'leave',\n",
      "       'mental_health_consequence', 'phys_health_consequence', 'coworkers',\n",
      "       'supervisor', 'mental_health_interview', 'phys_health_interview',\n",
      "       'mental_vs_physical', 'obs_consequence', 'comments'],\n",
      "      dtype='object')\n",
      "2016--->the columns present are:  Index(['Are you self-employed?',\n",
      "       'How many employees does your company or organization have?',\n",
      "       'Is your employer primarily a tech company/organization?',\n",
      "       'Is your primary role within your company related to tech/IT?',\n",
      "       'Does your employer provide mental health benefits as part of healthcare coverage?',\n",
      "       'Do you know the options for mental health care available under your employer-provided coverage?',\n",
      "       'Has your employer ever formally discussed mental health (for example, as part of a wellness campaign or other official communication)?',\n",
      "       'Does your employer offer resources to learn more about mental health concerns and options for seeking help?',\n",
      "       'Is your anonymity protected if you choose to take advantage of mental health or substance abuse treatment resources provided by your employer?',\n",
      "       'If a mental health issue prompted you to request a medical leave from work, asking for that leave would be:',\n",
      "       'Do you think that discussing a mental health disorder with your employer would have negative consequences?',\n",
      "       'Do you think that discussing a physical health issue with your employer would have negative consequences?',\n",
      "       'Would you feel comfortable discussing a mental health disorder with your coworkers?',\n",
      "       'Would you feel comfortable discussing a mental health disorder with your direct supervisor(s)?',\n",
      "       'Do you feel that your employer takes mental health as seriously as physical health?',\n",
      "       'Have you heard of or observed negative consequences for co-workers who have been open about mental health issues in your workplace?',\n",
      "       'Do you have medical coverage (private insurance or state-provided) which includes treatment of  mental health issues?',\n",
      "       'Do you know local or online resources to seek help for a mental health disorder?',\n",
      "       'If you have been diagnosed or treated for a mental health disorder, do you ever reveal this to clients or business contacts?',\n",
      "       'If you have revealed a mental health issue to a client or business contact, do you believe this has impacted you negatively?',\n",
      "       'If you have been diagnosed or treated for a mental health disorder, do you ever reveal this to coworkers or employees?',\n",
      "       'If you have revealed a mental health issue to a coworker or employee, do you believe this has impacted you negatively?',\n",
      "       'Do you believe your productivity is ever affected by a mental health issue?',\n",
      "       'If yes, what percentage of your work time (time performing primary or secondary job functions) is affected by a mental health issue?',\n",
      "       'Do you have previous employers?',\n",
      "       'Have your previous employers provided mental health benefits?',\n",
      "       'Were you aware of the options for mental health care provided by your previous employers?',\n",
      "       'Did your previous employers ever formally discuss mental health (as part of a wellness campaign or other official communication)?',\n",
      "       'Did your previous employers provide resources to learn more about mental health issues and how to seek help?',\n",
      "       'Was your anonymity protected if you chose to take advantage of mental health or substance abuse treatment resources with previous employers?',\n",
      "       'Do you think that discussing a mental health disorder with previous employers would have negative consequences?',\n",
      "       'Do you think that discussing a physical health issue with previous employers would have negative consequences?',\n",
      "       'Would you have been willing to discuss a mental health issue with your previous co-workers?',\n",
      "       'Would you have been willing to discuss a mental health issue with your direct supervisor(s)?',\n",
      "       'Did you feel that your previous employers took mental health as seriously as physical health?',\n",
      "       'Did you hear of or observe negative consequences for co-workers with mental health issues in your previous workplaces?',\n",
      "       'Would you be willing to bring up a physical health issue with a potential employer in an interview?',\n",
      "       'Why or why not?',\n",
      "       'Would you bring up a mental health issue with a potential employer in an interview?',\n",
      "       'Why or why not?.1',\n",
      "       'Do you feel that being identified as a person with a mental health issue would hurt your career?',\n",
      "       'Do you think that team members/co-workers would view you more negatively if they knew you suffered from a mental health issue?',\n",
      "       'How willing would you be to share with friends and family that you have a mental illness?',\n",
      "       'Have you observed or experienced an unsupportive or badly handled response to a mental health issue in your current or previous workplace?',\n",
      "       'Have your observations of how another individual who discussed a mental health disorder made you less likely to reveal a mental health issue yourself in your current workplace?',\n",
      "       'Do you have a family history of mental illness?',\n",
      "       'Have you had a mental health disorder in the past?',\n",
      "       'Do you currently have a mental health disorder?',\n",
      "       'If yes, what condition(s) have you been diagnosed with?',\n",
      "       'If maybe, what condition(s) do you believe you have?',\n",
      "       'Have you been diagnosed with a mental health condition by a medical professional?',\n",
      "       'If so, what condition(s) were you diagnosed with?',\n",
      "       'Have you ever sought treatment for a mental health issue from a mental health professional?',\n",
      "       'If you have a mental health issue, do you feel that it interferes with your work when being treated effectively?',\n",
      "       'If you have a mental health issue, do you feel that it interferes with your work when NOT being treated effectively?',\n",
      "       'What is your age?', 'What is your gender?',\n",
      "       'What country do you live in?',\n",
      "       'What US state or territory do you live in?',\n",
      "       'What country do you work in?',\n",
      "       'What US state or territory do you work in?',\n",
      "       'Which of the following best describes your work position?',\n",
      "       'Do you work remotely?'],\n",
      "      dtype='object')\n",
      "2017--->the columns present are:  Index(['#', '<strong>Are you self-employed?</strong>',\n",
      "       'How many employees does your company or organization have?',\n",
      "       'Is your employer primarily a tech company/organization?',\n",
      "       'Is your primary role within your company related to tech/IT?',\n",
      "       'Does your employer provide mental health benefits as part of healthcare coverage?',\n",
      "       'Do you know the options for mental health care available under your employer-provided health coverage?',\n",
      "       'Has your employer ever formally discussed mental health (for example, as part of a wellness campaign or other official communication)?',\n",
      "       'Does your employer offer resources to learn more about mental health disorders and options for seeking help?',\n",
      "       'Is your anonymity protected if you choose to take advantage of mental health or substance abuse treatment resources provided by your employer?',\n",
      "       ...\n",
      "       'What is your gender?', 'What country do you <strong>live</strong> in?',\n",
      "       'What US state or territory do you <strong>live</strong> in?',\n",
      "       'What is your race?', 'Other.3',\n",
      "       'What country do you <strong>work</strong> in?',\n",
      "       'What US state or territory do you <strong>work</strong> in?',\n",
      "       'Start Date (UTC)', 'Submit Date (UTC)', 'Network ID'],\n",
      "      dtype='object', length=123)\n",
      "2018--->the columns present are:  Index(['#', '<strong>Are you self-employed?</strong>',\n",
      "       'How many employees does your company or organization have?',\n",
      "       'Is your employer primarily a tech company/organization?',\n",
      "       'Is your primary role within your company related to tech/IT?',\n",
      "       'Does your employer provide mental health benefits as part of healthcare coverage?',\n",
      "       'Do you know the options for mental health care available under your employer-provided health coverage?',\n",
      "       'Has your employer ever formally discussed mental health (for example, as part of a wellness campaign or other official communication)?',\n",
      "       'Does your employer offer resources to learn more about mental health disorders and options for seeking help?',\n",
      "       'Is your anonymity protected if you choose to take advantage of mental health or substance abuse treatment resources provided by your employer?',\n",
      "       ...\n",
      "       'What is your gender?', 'What country do you <strong>live</strong> in?',\n",
      "       'What US state or territory do you <strong>live</strong> in?',\n",
      "       'What is your race?', 'Other.3',\n",
      "       'What country do you <strong>work</strong> in?',\n",
      "       'What US state or territory do you <strong>work</strong> in?',\n",
      "       'Start Date (UTC)', 'Submit Date (UTC)', 'Network ID'],\n",
      "      dtype='object', length=123)\n",
      "2019--->the columns present are:  Index(['*Are you self-employed?*',\n",
      "       'How many employees does your company or organization have?',\n",
      "       'Is your employer primarily a tech company/organization?',\n",
      "       'Is your primary role within your company related to tech/IT?',\n",
      "       'Does your employer provide mental health benefits as part of healthcare coverage?',\n",
      "       'Do you know the options for mental health care available under your employer-provided health coverage?',\n",
      "       'Has your employer ever formally discussed mental health (for example, as part of a wellness campaign or other official communication)?',\n",
      "       'Does your employer offer resources to learn more about mental health disorders and options for seeking help?',\n",
      "       'Is your anonymity protected if you choose to take advantage of mental health or substance abuse treatment resources provided by your employer?',\n",
      "       'If a mental health issue prompted you to request a medical leave from work, how easy or difficult would it be to ask for that leave?',\n",
      "       'Would you feel more comfortable talking to your coworkers about your physical health or your mental health?',\n",
      "       'Would you feel comfortable discussing a mental health issue with your direct supervisor(s)?',\n",
      "       'Have you ever discussed your mental health with your employer?',\n",
      "       'Describe the conversation you had with your employer about your mental health, including their reactions and what actions were taken to address your mental health issue/questions.',\n",
      "       'Would you feel comfortable discussing a mental health issue with your coworkers?',\n",
      "       'Have you ever discussed your mental health with coworkers?',\n",
      "       'Describe the conversation with coworkers you had about your mental health including their reactions.',\n",
      "       'Have you ever had a coworker discuss their or another coworker's mental health with you?',\n",
      "       'Describe the conversation your coworker had with you about their mental health (please do not use names).',\n",
      "       'Overall, how much importance does your employer place on physical health?',\n",
      "       'Overall, how much importance does your employer place on mental health?',\n",
      "       'Do you have medical coverage (private insurance or state-provided) that includes treatment of mental health disorders?',\n",
      "       'Do you know local or online resources to seek help for a mental health issue?',\n",
      "       'If you have been diagnosed or treated for a mental health disorder, do you ever reveal this to clients or business contacts?',\n",
      "       'If you have revealed a mental health disorder to a client or business contact, how has this affected you or the relationship?',\n",
      "       'If you have been diagnosed or treated for a mental health disorder, do you ever reveal this to coworkers or employees?',\n",
      "       'If you have revealed a mental health disorder to a coworker or employee, how has this impacted you or the relationship?',\n",
      "       'Do you believe your productivity is ever affected by a mental health issue?',\n",
      "       'If yes, what percentage of your work time (time performing primary or secondary job functions) is affected by a mental health issue?',\n",
      "       '*Do you have previous employers?*',\n",
      "       'Was your employer primarily a tech company/organization?',\n",
      "       'Have your previous employers provided mental health benefits?',\n",
      "       'Were you aware of the options for mental health care provided by your previous employers?',\n",
      "       'Did your previous employers ever formally discuss mental health (as part of a wellness campaign or other official communication)?',\n",
      "       'Did your previous employers provide resources to learn more about mental health disorders and how to seek help?',\n",
      "       'Was your anonymity protected if you chose to take advantage of mental health or substance abuse treatment resources with previous employers?',\n",
      "       'Would you have felt more comfortable talking to your previous employer about your physical health or your mental health?',\n",
      "       'Would you have been willing to discuss your mental health with your direct supervisor(s)?',\n",
      "       'Did you ever discuss your mental health with your previous employer?',\n",
      "       'Describe the conversation you had with your previous employer about your mental health, including their reactions and actions taken to address your mental health issue/questions.',\n",
      "       'Would you have been willing to discuss your mental health with your coworkers at previous employers?',\n",
      "       'Did you ever discuss your mental health with a previous coworker(s)?',\n",
      "       'Describe the conversation you had with your previous coworkers about your mental health including their reactions.',\n",
      "       'Did you ever have a previous coworker discuss their or another coworker's mental health with you?',\n",
      "       'Describe the conversation your coworker had with you about their mental health (please do not use names)..1',\n",
      "       'Overall, how much importance did your previous employer place on physical health?',\n",
      "       'Overall, how much importance did your previous employer place on mental health?',\n",
      "       'Do you *currently* have a mental health disorder?',\n",
      "       'Have you ever been *diagnosed* with a mental health disorder?',\n",
      "       '*What disorder(s) have you been diagnosed with?*',\n",
      "       '*If possibly, what disorder(s) do you believe you have?*',\n",
      "       '*If so, what disorder(s) were you diagnosed with?*',\n",
      "       'Have you had a mental health disorder in the past?',\n",
      "       'Have you ever sought treatment for a mental health disorder from a mental health professional?',\n",
      "       'Do you have a family history of mental illness?',\n",
      "       'If you have a mental health disorder, how often do you feel that it interferes with your work *when being treated effectively?*',\n",
      "       'If you have a mental health disorder, how often do you feel that it interferes with your work *when* _*NOT*_* being treated effectively (i.e., when you are experiencing symptoms)?*',\n",
      "       'Have your observations of how another individual who discussed a mental health issue made you less likely to reveal a mental health issue yourself in your current workplace?',\n",
      "       'How willing would you be to share with friends and family that you have a mental illness?',\n",
      "       'Would you be willing to bring up a physical health issue with a potential employer in an interview?',\n",
      "       'Why or why not?',\n",
      "       'Would you bring up your *mental* health with a potential employer in an interview?',\n",
      "       'Why or why not?.1',\n",
      "       'Are you openly identified at work as a person with a mental health issue?',\n",
      "       'Has being identified as a person with a mental health issue affected your career?',\n",
      "       'How has it affected your career?',\n",
      "       'If they knew you suffered from a mental health disorder, how do you think that your team members/co-workers would react?',\n",
      "       'Have you observed or experienced an *unsupportive or badly handled response* to a mental health issue in your current or previous workplace?',\n",
      "       'Describe the circumstances of the badly handled or unsupportive response.',\n",
      "       'Have you observed or experienced a *supportive or well handled response* to a mental health issue in your current or previous workplace?',\n",
      "       'Describe the circumstances of the supportive or well handled response.',\n",
      "       'Overall, how well do you think the tech industry supports employees with mental health issues?',\n",
      "       'Briefly describe what you think the industry as a whole and/or employers could do to improve mental health support for employees.',\n",
      "       'If there is anything else you would like to tell us that has not been covered by the survey questions, please use this space to do so.',\n",
      "       'Would you be willing to talk to one of us more extensively about your experiences with mental health issues in the tech industry? (Note that all interview responses would be used _anonymously_ and only with your permission.)',\n",
      "       'What is your age?', 'What is your gender?',\n",
      "       'What country do you *live* in?',\n",
      "       'What US state or territory do you *live* in?', 'What is your race?',\n",
      "       'What country do you *work* in?',\n",
      "       'What US state or territory do you *work* in?'],\n",
      "      dtype='object')\n",
      "2020--->the columns present are:  Index(['#', '*Are you self-employed?*',\n",
      "       'How many employees does your company or organization have?',\n",
      "       'Is your employer primarily a tech company/organization?',\n",
      "       'Is your primary role within your company related to tech/IT?',\n",
      "       'Does your employer provide mental health benefits as part of healthcare coverage?',\n",
      "       'Do you know the options for mental health care available under your employer-provided health coverage?',\n",
      "       'Has your employer ever formally discussed mental health (for example, as part of a wellness campaign or other official communication)?',\n",
      "       'Does your employer offer resources to learn more about mental health disorders and options for seeking help?',\n",
      "       'Is your anonymity protected if you choose to take advantage of mental health or substance abuse treatment resources provided by your employer?',\n",
      "       ...\n",
      "       'If there is anything else you would like to tell us that has not been covered by the survey questions, please use this space to do so.',\n",
      "       'Would you be willing to talk to one of us more extensively about your experiences with mental health issues in the tech industry? (Note that all interview responses would be used _anonymously_ and only with your permission.)',\n",
      "       'What is your age?', 'What is your gender?',\n",
      "       'What country do you *live* in?',\n",
      "       'What US state or territory do you *live* in?', 'What is your race?',\n",
      "       'Other.3', 'What country do you *work* in?',\n",
      "       'What US state or territory do you *work* in?'],\n",
      "      dtype='object', length=120)\n",
      "2021--->the columns present are:  Index(['#', '*Are you self-employed?*',\n",
      "       'How many employees does your company or organization have?',\n",
      "       'Is your employer primarily a tech company/organization?',\n",
      "       'Is your primary role within your company related to tech/IT?',\n",
      "       'Does your employer provide mental health benefits as part of healthcare coverage?',\n",
      "       'Do you know the options for mental health care available under your employer-provided health coverage?',\n",
      "       'Has your employer ever formally discussed mental health (for example, as part of a wellness campaign or other official communication)?',\n",
      "       'Does your employer offer resources to learn more about mental health disorders and options for seeking help?',\n",
      "       'Is your anonymity protected if you choose to take advantage of mental health or substance abuse treatment resources provided by your employer?',\n",
      "       ...\n",
      "       'What country do you *live* in?',\n",
      "       'What US state or territory do you *live* in?', 'What is your race?',\n",
      "       'Other.3', 'What country do you *work* in?',\n",
      "       'What US state or territory do you *work* in?',\n",
      "       'Have you been diagnosed with COVID-19?', 'Start Date (UTC)',\n",
      "       'Submit Date (UTC)', 'Network ID'],\n",
      "      dtype='object', length=124)\n"
     ]
    }
   ],
   "source": [
    "# Row difference is expectable. Column differences means, we need to make a selection of those of interest,\n",
    "#   and see wheter they are present in all years surveys. \n",
    "\n",
    "print(\"2014--->the columns present are: \",df2014.columns)\n",
    "print(\"2016--->the columns present are: \",df2016.columns)\n",
    "print(\"2017--->the columns present are: \",df2017.columns)\n",
    "print(\"2018--->the columns present are: \",df2018.columns)\n",
    "print(\"2019--->the columns present are: \",df2019.columns)\n",
    "print(\"2020--->the columns present are: \",df2020.columns)\n",
    "print(\"2021--->the columns present are: \",df2021.columns)\n"
   ]
  },
  {
   "cell_type": "code",
   "execution_count": 22,
   "id": "8645535f",
   "metadata": {},
   "outputs": [],
   "source": [
    "# The 2014 Dataset is obviously Wrangled, while the other years are still raw. \n",
    "#  We need to apply the same wrangling to them, because:\n",
    "#   1) The variable selection and order makes sense.\n",
    "#    2) We need homogeinity to join the datasets. \n",
    "#     3) BUT, we will be performing our own selection on top of it, dropping variables which are\n",
    "#        of no interest for our objectives, such as 'State', 'Timestamp', 'comments'.\n"
   ]
  },
  {
   "cell_type": "code",
   "execution_count": 23,
   "id": "d1464f6d",
   "metadata": {},
   "outputs": [
    {
     "name": "stdout",
     "output_type": "stream",
     "text": [
      "2016--->the columns present are:  Index(['Are you self-employed?',\n",
      "       'How many employees does your company or organization have?',\n",
      "       'Is your employer primarily a tech company/organization?',\n",
      "       'Is your primary role within your company related to tech/IT?',\n",
      "       'Does your employer provide mental health benefits as part of healthcare coverage?',\n",
      "       'Do you know the options for mental health care available under your employer-provided coverage?',\n",
      "       'Has your employer ever formally discussed mental health (for example, as part of a wellness campaign or other official communication)?',\n",
      "       'Does your employer offer resources to learn more about mental health concerns and options for seeking help?',\n",
      "       'Is your anonymity protected if you choose to take advantage of mental health or substance abuse treatment resources provided by your employer?',\n",
      "       'If a mental health issue prompted you to request a medical leave from work, asking for that leave would be:',\n",
      "       'Do you think that discussing a mental health disorder with your employer would have negative consequences?',\n",
      "       'Do you think that discussing a physical health issue with your employer would have negative consequences?',\n",
      "       'Would you feel comfortable discussing a mental health disorder with your coworkers?',\n",
      "       'Would you feel comfortable discussing a mental health disorder with your direct supervisor(s)?',\n",
      "       'Do you feel that your employer takes mental health as seriously as physical health?',\n",
      "       'Have you heard of or observed negative consequences for co-workers who have been open about mental health issues in your workplace?',\n",
      "       'Do you have medical coverage (private insurance or state-provided) which includes treatment of  mental health issues?',\n",
      "       'Do you know local or online resources to seek help for a mental health disorder?',\n",
      "       'If you have been diagnosed or treated for a mental health disorder, do you ever reveal this to clients or business contacts?',\n",
      "       'If you have revealed a mental health issue to a client or business contact, do you believe this has impacted you negatively?',\n",
      "       'If you have been diagnosed or treated for a mental health disorder, do you ever reveal this to coworkers or employees?',\n",
      "       'If you have revealed a mental health issue to a coworker or employee, do you believe this has impacted you negatively?',\n",
      "       'Do you believe your productivity is ever affected by a mental health issue?',\n",
      "       'If yes, what percentage of your work time (time performing primary or secondary job functions) is affected by a mental health issue?',\n",
      "       'Do you have previous employers?',\n",
      "       'Have your previous employers provided mental health benefits?',\n",
      "       'Were you aware of the options for mental health care provided by your previous employers?',\n",
      "       'Did your previous employers ever formally discuss mental health (as part of a wellness campaign or other official communication)?',\n",
      "       'Did your previous employers provide resources to learn more about mental health issues and how to seek help?',\n",
      "       'Was your anonymity protected if you chose to take advantage of mental health or substance abuse treatment resources with previous employers?',\n",
      "       'Do you think that discussing a mental health disorder with previous employers would have negative consequences?',\n",
      "       'Do you think that discussing a physical health issue with previous employers would have negative consequences?',\n",
      "       'Would you have been willing to discuss a mental health issue with your previous co-workers?',\n",
      "       'Would you have been willing to discuss a mental health issue with your direct supervisor(s)?',\n",
      "       'Did you feel that your previous employers took mental health as seriously as physical health?',\n",
      "       'Did you hear of or observe negative consequences for co-workers with mental health issues in your previous workplaces?',\n",
      "       'Would you be willing to bring up a physical health issue with a potential employer in an interview?',\n",
      "       'Why or why not?',\n",
      "       'Would you bring up a mental health issue with a potential employer in an interview?',\n",
      "       'Why or why not?.1',\n",
      "       'Do you feel that being identified as a person with a mental health issue would hurt your career?',\n",
      "       'Do you think that team members/co-workers would view you more negatively if they knew you suffered from a mental health issue?',\n",
      "       'How willing would you be to share with friends and family that you have a mental illness?',\n",
      "       'Have you observed or experienced an unsupportive or badly handled response to a mental health issue in your current or previous workplace?',\n",
      "       'Have your observations of how another individual who discussed a mental health disorder made you less likely to reveal a mental health issue yourself in your current workplace?',\n",
      "       'Do you have a family history of mental illness?',\n",
      "       'Have you had a mental health disorder in the past?',\n",
      "       'Do you currently have a mental health disorder?',\n",
      "       'If yes, what condition(s) have you been diagnosed with?',\n",
      "       'If maybe, what condition(s) do you believe you have?',\n",
      "       'Have you been diagnosed with a mental health condition by a medical professional?',\n",
      "       'If so, what condition(s) were you diagnosed with?',\n",
      "       'Have you ever sought treatment for a mental health issue from a mental health professional?',\n",
      "       'If you have a mental health issue, do you feel that it interferes with your work when being treated effectively?',\n",
      "       'If you have a mental health issue, do you feel that it interferes with your work when NOT being treated effectively?',\n",
      "       'What is your age?', 'What is your gender?',\n",
      "       'What country do you live in?',\n",
      "       'What US state or territory do you live in?',\n",
      "       'What country do you work in?',\n",
      "       'What US state or territory do you work in?',\n",
      "       'Which of the following best describes your work position?',\n",
      "       'Do you work remotely?'],\n",
      "      dtype='object')\n"
     ]
    }
   ],
   "source": [
    "# So lets search \"our columns\" in 2016 e.g,\n",
    "\n",
    "print(\"2016--->the columns present are: \",df2016.columns)"
   ]
  },
  {
   "cell_type": "code",
   "execution_count": null,
   "id": "ba728d33",
   "metadata": {},
   "outputs": [],
   "source": [
    "# Time to drop all other columns except the selected, from all years.\n",
    "\n",
    "# First well rename out selection, then we drop the rest."
   ]
  },
  {
   "cell_type": "code",
   "execution_count": 25,
   "id": "39fd3bfa",
   "metadata": {},
   "outputs": [],
   "source": [
    "\n",
    "df2016.rename(columns={'What is your age?':'Age', \n",
    "'What is your gender?':'Gender',\n",
    "'What country do you work in?':'Country',\n",
    "'Are you self-employed?':'self_employed',\n",
    "'Do you have a family history of mental illness?':'family_history',       \n",
    "'Have you ever sought treatment for a mental health issue from a mental health professional?':'treatment',\n",
    "'If yes, what percentage of your work time (time performing primary or secondary job functions) is affected by a mental health issue?':'work_interfere',\n",
    "'How many employees does your company or organization have?':'no_employees',\n",
    "'Do you work remotely?':'remote_work',\n",
    "'Is your employer primarily a tech company/organization?':'tech_company',\n",
    "'Does your employer provide mental health benefits as part of healthcare coverage?':'benefits',\n",
    "'Do you know the options for mental health care available under your employer-provided coverage?':'care_options',\n",
    "'Has your employer ever formally discussed mental health (for example, as part of a wellness campaign or other official communication)?':'wellness_program',\n",
    "'Does your employer offer resources to learn more about mental health concerns and options for seeking help?':'seek_help',\n",
    "'Is your anonymity protected if you choose to take advantage of mental health or substance abuse treatment resources provided by your employer?':'anonymity',\n",
    "'If a mental health issue prompted you to request a medical leave from work, asking for that leave would be:':'leave',\n",
    "'Do you think that discussing a mental health disorder with your employer would have negative consequences?':'mental_health_consequence',\n",
    "'Do you think that discussing a physical health issue with your employer would have negative consequences?':'phys_health_consequence',\n",
    "'Would you feel comfortable discussing a mental health disorder with your coworkers?':'coworkers',\n",
    "'Would you feel comfortable discussing a mental health disorder with your direct supervisor(s)?':'supervisor',\n",
    "'Would you bring up a mental health issue with a potential employer in an interview?':'mental_health_interview',\n",
    "'Would you be willing to bring up a physical health issue with a potential employer in an interview?':'phys_health_interview',\n",
    "'Do you feel that your employer takes mental health as seriously as physical health?':'mental_vs_physical',\n",
    "'Have you heard of or observed negative consequences for co-workers who have been open about mental health issues in your workplace?':'obs_consequence'}, inplace=True)"
   ]
  },
  {
   "cell_type": "code",
   "execution_count": 27,
   "id": "138284a5",
   "metadata": {},
   "outputs": [],
   "source": [
    "df2017.rename(columns={'What is your age?':'Age', \n",
    "'What is your gender?':'Gender',\n",
    "'What country do you work in?':'Country',\n",
    "'Are you self-employed?':'self_employed',\n",
    "'Do you have a family history of mental illness?':'family_history',       \n",
    "'Have you ever sought treatment for a mental health issue from a mental health professional?':'treatment',\n",
    "'If yes, what percentage of your work time (time performing primary or secondary job functions) is affected by a mental health issue?':'work_interfere',\n",
    "'How many employees does your company or organization have?':'no_employees',\n",
    "'Do you work remotely?':'remote_work',\n",
    "'Is your employer primarily a tech company/organization?':'tech_company',\n",
    "'Does your employer provide mental health benefits as part of healthcare coverage?':'benefits',\n",
    "'Do you know the options for mental health care available under your employer-provided coverage?':'care_options',\n",
    "'Has your employer ever formally discussed mental health (for example, as part of a wellness campaign or other official communication)?':'wellness_program',\n",
    "'Does your employer offer resources to learn more about mental health concerns and options for seeking help?':'seek_help',\n",
    "'Is your anonymity protected if you choose to take advantage of mental health or substance abuse treatment resources provided by your employer?':'anonymity',\n",
    "'If a mental health issue prompted you to request a medical leave from work, asking for that leave would be:':'leave',\n",
    "'Do you think that discussing a mental health disorder with your employer would have negative consequences?':'mental_health_consequence',\n",
    "'Do you think that discussing a physical health issue with your employer would have negative consequences?':'phys_health_consequence',\n",
    "'Would you feel comfortable discussing a mental health disorder with your coworkers?':'coworkers',\n",
    "'Would you feel comfortable discussing a mental health disorder with your direct supervisor(s)?':'supervisor',\n",
    "'Would you bring up a mental health issue with a potential employer in an interview?':'mental_health_interview',\n",
    "'Would you be willing to bring up a physical health issue with a potential employer in an interview?':'phys_health_interview',\n",
    "'Do you feel that your employer takes mental health as seriously as physical health?':'mental_vs_physical',\n",
    "'Have you heard of or observed negative consequences for co-workers who have been open about mental health issues in your workplace?':'obs_consequence'}, inplace=True)"
   ]
  },
  {
   "cell_type": "code",
   "execution_count": 28,
   "id": "3953ff79",
   "metadata": {},
   "outputs": [],
   "source": [
    "df2018.rename(columns={'What is your age?':'Age', \n",
    "'What is your gender?':'Gender',\n",
    "'What country do you work in?':'Country',\n",
    "'Are you self-employed?':'self_employed',\n",
    "'Do you have a family history of mental illness?':'family_history',       \n",
    "'Have you ever sought treatment for a mental health issue from a mental health professional?':'treatment',\n",
    "'If yes, what percentage of your work time (time performing primary or secondary job functions) is affected by a mental health issue?':'work_interfere',\n",
    "'How many employees does your company or organization have?':'no_employees',\n",
    "'Do you work remotely?':'remote_work',\n",
    "'Is your employer primarily a tech company/organization?':'tech_company',\n",
    "'Does your employer provide mental health benefits as part of healthcare coverage?':'benefits',\n",
    "'Do you know the options for mental health care available under your employer-provided coverage?':'care_options',\n",
    "'Has your employer ever formally discussed mental health (for example, as part of a wellness campaign or other official communication)?':'wellness_program',\n",
    "'Does your employer offer resources to learn more about mental health concerns and options for seeking help?':'seek_help',\n",
    "'Is your anonymity protected if you choose to take advantage of mental health or substance abuse treatment resources provided by your employer?':'anonymity',\n",
    "'If a mental health issue prompted you to request a medical leave from work, asking for that leave would be:':'leave',\n",
    "'Do you think that discussing a mental health disorder with your employer would have negative consequences?':'mental_health_consequence',\n",
    "'Do you think that discussing a physical health issue with your employer would have negative consequences?':'phys_health_consequence',\n",
    "'Would you feel comfortable discussing a mental health disorder with your coworkers?':'coworkers',\n",
    "'Would you feel comfortable discussing a mental health disorder with your direct supervisor(s)?':'supervisor',\n",
    "'Would you bring up a mental health issue with a potential employer in an interview?':'mental_health_interview',\n",
    "'Would you be willing to bring up a physical health issue with a potential employer in an interview?':'phys_health_interview',\n",
    "'Do you feel that your employer takes mental health as seriously as physical health?':'mental_vs_physical',\n",
    "'Have you heard of or observed negative consequences for co-workers who have been open about mental health issues in your workplace?':'obs_consequence'}, inplace=True)"
   ]
  },
  {
   "cell_type": "code",
   "execution_count": 29,
   "id": "121033f6",
   "metadata": {},
   "outputs": [],
   "source": [
    "df2019.rename(columns={'What is your age?':'Age', \n",
    "'What is your gender?':'Gender',\n",
    "'What country do you work in?':'Country',\n",
    "'Are you self-employed?':'self_employed',\n",
    "'Do you have a family history of mental illness?':'family_history',       \n",
    "'Have you ever sought treatment for a mental health issue from a mental health professional?':'treatment',\n",
    "'If yes, what percentage of your work time (time performing primary or secondary job functions) is affected by a mental health issue?':'work_interfere',\n",
    "'How many employees does your company or organization have?':'no_employees',\n",
    "'Do you work remotely?':'remote_work',\n",
    "'Is your employer primarily a tech company/organization?':'tech_company',\n",
    "'Does your employer provide mental health benefits as part of healthcare coverage?':'benefits',\n",
    "'Do you know the options for mental health care available under your employer-provided coverage?':'care_options',\n",
    "'Has your employer ever formally discussed mental health (for example, as part of a wellness campaign or other official communication)?':'wellness_program',\n",
    "'Does your employer offer resources to learn more about mental health concerns and options for seeking help?':'seek_help',\n",
    "'Is your anonymity protected if you choose to take advantage of mental health or substance abuse treatment resources provided by your employer?':'anonymity',\n",
    "'If a mental health issue prompted you to request a medical leave from work, asking for that leave would be:':'leave',\n",
    "'Do you think that discussing a mental health disorder with your employer would have negative consequences?':'mental_health_consequence',\n",
    "'Do you think that discussing a physical health issue with your employer would have negative consequences?':'phys_health_consequence',\n",
    "'Would you feel comfortable discussing a mental health disorder with your coworkers?':'coworkers',\n",
    "'Would you feel comfortable discussing a mental health disorder with your direct supervisor(s)?':'supervisor',\n",
    "'Would you bring up a mental health issue with a potential employer in an interview?':'mental_health_interview',\n",
    "'Would you be willing to bring up a physical health issue with a potential employer in an interview?':'phys_health_interview',\n",
    "'Do you feel that your employer takes mental health as seriously as physical health?':'mental_vs_physical',\n",
    "'Have you heard of or observed negative consequences for co-workers who have been open about mental health issues in your workplace?':'obs_consequence'}, inplace=True)"
   ]
  },
  {
   "cell_type": "code",
   "execution_count": 30,
   "id": "596fd61e",
   "metadata": {},
   "outputs": [],
   "source": [
    "df2019.rename(columns={'What is your age?':'Age', \n",
    "'What is your gender?':'Gender',\n",
    "'What country do you work in?':'Country',\n",
    "'Are you self-employed?':'self_employed',\n",
    "'Do you have a family history of mental illness?':'family_history',       \n",
    "'Have you ever sought treatment for a mental health issue from a mental health professional?':'treatment',\n",
    "'If yes, what percentage of your work time (time performing primary or secondary job functions) is affected by a mental health issue?':'work_interfere',\n",
    "'How many employees does your company or organization have?':'no_employees',\n",
    "'Do you work remotely?':'remote_work',\n",
    "'Is your employer primarily a tech company/organization?':'tech_company',\n",
    "'Does your employer provide mental health benefits as part of healthcare coverage?':'benefits',\n",
    "'Do you know the options for mental health care available under your employer-provided coverage?':'care_options',\n",
    "'Has your employer ever formally discussed mental health (for example, as part of a wellness campaign or other official communication)?':'wellness_program',\n",
    "'Does your employer offer resources to learn more about mental health concerns and options for seeking help?':'seek_help',\n",
    "'Is your anonymity protected if you choose to take advantage of mental health or substance abuse treatment resources provided by your employer?':'anonymity',\n",
    "'If a mental health issue prompted you to request a medical leave from work, asking for that leave would be:':'leave',\n",
    "'Do you think that discussing a mental health disorder with your employer would have negative consequences?':'mental_health_consequence',\n",
    "'Do you think that discussing a physical health issue with your employer would have negative consequences?':'phys_health_consequence',\n",
    "'Would you feel comfortable discussing a mental health disorder with your coworkers?':'coworkers',\n",
    "'Would you feel comfortable discussing a mental health disorder with your direct supervisor(s)?':'supervisor',\n",
    "'Would you bring up a mental health issue with a potential employer in an interview?':'mental_health_interview',\n",
    "'Would you be willing to bring up a physical health issue with a potential employer in an interview?':'phys_health_interview',\n",
    "'Do you feel that your employer takes mental health as seriously as physical health?':'mental_vs_physical',\n",
    "'Have you heard of or observed negative consequences for co-workers who have been open about mental health issues in your workplace?':'obs_consequence'}, inplace=True)"
   ]
  },
  {
   "cell_type": "code",
   "execution_count": 31,
   "id": "55f0edcd",
   "metadata": {},
   "outputs": [],
   "source": [
    "df2020.rename(columns={'What is your age?':'Age', \n",
    "'What is your gender?':'Gender',\n",
    "'What country do you work in?':'Country',\n",
    "'Are you self-employed?':'self_employed',\n",
    "'Do you have a family history of mental illness?':'family_history',       \n",
    "'Have you ever sought treatment for a mental health issue from a mental health professional?':'treatment',\n",
    "'If yes, what percentage of your work time (time performing primary or secondary job functions) is affected by a mental health issue?':'work_interfere',\n",
    "'How many employees does your company or organization have?':'no_employees',\n",
    "'Do you work remotely?':'remote_work',\n",
    "'Is your employer primarily a tech company/organization?':'tech_company',\n",
    "'Does your employer provide mental health benefits as part of healthcare coverage?':'benefits',\n",
    "'Do you know the options for mental health care available under your employer-provided coverage?':'care_options',\n",
    "'Has your employer ever formally discussed mental health (for example, as part of a wellness campaign or other official communication)?':'wellness_program',\n",
    "'Does your employer offer resources to learn more about mental health concerns and options for seeking help?':'seek_help',\n",
    "'Is your anonymity protected if you choose to take advantage of mental health or substance abuse treatment resources provided by your employer?':'anonymity',\n",
    "'If a mental health issue prompted you to request a medical leave from work, asking for that leave would be:':'leave',\n",
    "'Do you think that discussing a mental health disorder with your employer would have negative consequences?':'mental_health_consequence',\n",
    "'Do you think that discussing a physical health issue with your employer would have negative consequences?':'phys_health_consequence',\n",
    "'Would you feel comfortable discussing a mental health disorder with your coworkers?':'coworkers',\n",
    "'Would you feel comfortable discussing a mental health disorder with your direct supervisor(s)?':'supervisor',\n",
    "'Would you bring up a mental health issue with a potential employer in an interview?':'mental_health_interview',\n",
    "'Would you be willing to bring up a physical health issue with a potential employer in an interview?':'phys_health_interview',\n",
    "'Do you feel that your employer takes mental health as seriously as physical health?':'mental_vs_physical',\n",
    "'Have you heard of or observed negative consequences for co-workers who have been open about mental health issues in your workplace?':'obs_consequence'}, inplace=True)"
   ]
  },
  {
   "cell_type": "code",
   "execution_count": 32,
   "id": "beeb0729",
   "metadata": {},
   "outputs": [],
   "source": [
    "df2021.rename(columns={'What is your age?':'Age', \n",
    "'What is your gender?':'Gender',\n",
    "'What country do you work in?':'Country',\n",
    "'Are you self-employed?':'self_employed',\n",
    "'Do you have a family history of mental illness?':'family_history',       \n",
    "'Have you ever sought treatment for a mental health issue from a mental health professional?':'treatment',\n",
    "'If yes, what percentage of your work time (time performing primary or secondary job functions) is affected by a mental health issue?':'work_interfere',\n",
    "'How many employees does your company or organization have?':'no_employees',\n",
    "'Do you work remotely?':'remote_work',\n",
    "'Is your employer primarily a tech company/organization?':'tech_company',\n",
    "'Does your employer provide mental health benefits as part of healthcare coverage?':'benefits',\n",
    "'Do you know the options for mental health care available under your employer-provided coverage?':'care_options',\n",
    "'Has your employer ever formally discussed mental health (for example, as part of a wellness campaign or other official communication)?':'wellness_program',\n",
    "'Does your employer offer resources to learn more about mental health concerns and options for seeking help?':'seek_help',\n",
    "'Is your anonymity protected if you choose to take advantage of mental health or substance abuse treatment resources provided by your employer?':'anonymity',\n",
    "'If a mental health issue prompted you to request a medical leave from work, asking for that leave would be:':'leave',\n",
    "'Do you think that discussing a mental health disorder with your employer would have negative consequences?':'mental_health_consequence',\n",
    "'Do you think that discussing a physical health issue with your employer would have negative consequences?':'phys_health_consequence',\n",
    "'Would you feel comfortable discussing a mental health disorder with your coworkers?':'coworkers',\n",
    "'Would you feel comfortable discussing a mental health disorder with your direct supervisor(s)?':'supervisor',\n",
    "'Would you bring up a mental health issue with a potential employer in an interview?':'mental_health_interview',\n",
    "'Would you be willing to bring up a physical health issue with a potential employer in an interview?':'phys_health_interview',\n",
    "'Do you feel that your employer takes mental health as seriously as physical health?':'mental_vs_physical',\n",
    "'Have you heard of or observed negative consequences for co-workers who have been open about mental health issues in your workplace?':'obs_consequence'}, inplace=True)"
   ]
  },
  {
   "cell_type": "code",
   "execution_count": null,
   "id": "fe5e325b",
   "metadata": {},
   "outputs": [],
   "source": [
    "# Dropping Time."
   ]
  },
  {
   "cell_type": "code",
   "execution_count": 51,
   "id": "0266a240",
   "metadata": {},
   "outputs": [],
   "source": [
    "df2014.drop(['state', 'comments', 'Timestamp'], axis=1, inplace=True)\n"
   ]
  },
  {
   "cell_type": "code",
   "execution_count": null,
   "id": "beadf521",
   "metadata": {},
   "outputs": [],
   "source": [
    "df2016.drop(df2016.columns.difference(['Age', 'Gender', 'Country', 'self_employed',\n",
    "       'family_history', 'treatment', 'work_interfere', 'no_employees',\n",
    "       'remote_work', 'tech_company', 'benefits', 'care_options',\n",
    "       'wellness_program', 'seek_help', 'anonymity', 'leave',\n",
    "       'mental_health_consequence', 'phys_health_consequence', 'coworkers',\n",
    "       'supervisor', 'mental_health_interview', 'phys_health_interview',\n",
    "       'mental_vs_physical', 'obs_consequence']), 1, inplace=True)"
   ]
  },
  {
   "cell_type": "code",
   "execution_count": 64,
   "id": "98d22972",
   "metadata": {},
   "outputs": [
    {
     "name": "stderr",
     "output_type": "stream",
     "text": [
      "C:\\Users\\W10\\AppData\\Local\\Temp/ipykernel_4180/2025205338.py:1: FutureWarning: In a future version of pandas all arguments of DataFrame.drop except for the argument 'labels' will be keyword-only\n",
      "  df2017.drop(df2017.columns.difference(['Age', 'Gender', 'Country', 'self_employed',\n"
     ]
    }
   ],
   "source": [
    "\n",
    "df2017.drop(df2017.columns.difference(['Age', 'Gender', 'Country', 'self_employed',\n",
    "       'family_history', 'treatment', 'work_interfere', 'no_employees',\n",
    "       'remote_work', 'tech_company', 'benefits', 'care_options',\n",
    "       'wellness_program', 'seek_help', 'anonymity', 'leave',\n",
    "       'mental_health_consequence', 'phys_health_consequence', 'coworkers',\n",
    "       'supervisor', 'mental_health_interview', 'phys_health_interview',\n",
    "       'mental_vs_physical', 'obs_consequence']), 1, inplace=True)"
   ]
  },
  {
   "cell_type": "code",
   "execution_count": 66,
   "id": "839674f0",
   "metadata": {},
   "outputs": [
    {
     "name": "stderr",
     "output_type": "stream",
     "text": [
      "C:\\Users\\W10\\AppData\\Local\\Temp/ipykernel_4180/4155699338.py:1: FutureWarning: In a future version of pandas all arguments of DataFrame.drop except for the argument 'labels' will be keyword-only\n",
      "  df2018.drop(df2018.columns.difference(['Age', 'Gender', 'Country', 'self_employed',\n"
     ]
    }
   ],
   "source": [
    "\n",
    "df2018.drop(df2018.columns.difference(['Age', 'Gender', 'Country', 'self_employed',\n",
    "       'family_history', 'treatment', 'work_interfere', 'no_employees',\n",
    "       'remote_work', 'tech_company', 'benefits', 'care_options',\n",
    "       'wellness_program', 'seek_help', 'anonymity', 'leave',\n",
    "       'mental_health_consequence', 'phys_health_consequence', 'coworkers',\n",
    "       'supervisor', 'mental_health_interview', 'phys_health_interview',\n",
    "       'mental_vs_physical', 'obs_consequence']), 1, inplace=True)"
   ]
  },
  {
   "cell_type": "code",
   "execution_count": 72,
   "id": "86ea91e4",
   "metadata": {},
   "outputs": [
    {
     "name": "stderr",
     "output_type": "stream",
     "text": [
      "C:\\Users\\W10\\AppData\\Local\\Temp/ipykernel_4180/4257968406.py:1: FutureWarning: In a future version of pandas all arguments of DataFrame.drop except for the argument 'labels' will be keyword-only\n",
      "  df2019.drop(df2019.columns.difference(['Age', 'Gender', 'Country', 'self_employed',\n"
     ]
    }
   ],
   "source": [
    "\n",
    "df2019.drop(df2019.columns.difference(['Age', 'Gender', 'Country', 'self_employed',\n",
    "       'family_history', 'treatment', 'work_interfere', 'no_employees',\n",
    "       'remote_work', 'tech_company', 'benefits', 'care_options',\n",
    "       'wellness_program', 'seek_help', 'anonymity', 'leave',\n",
    "       'mental_health_consequence', 'phys_health_consequence', 'coworkers',\n",
    "       'supervisor', 'mental_health_interview', 'phys_health_interview',\n",
    "       'mental_vs_physical', 'obs_consequence']), 1, inplace=True)"
   ]
  },
  {
   "cell_type": "code",
   "execution_count": 68,
   "id": "b2fa1b55",
   "metadata": {},
   "outputs": [
    {
     "name": "stderr",
     "output_type": "stream",
     "text": [
      "C:\\Users\\W10\\AppData\\Local\\Temp/ipykernel_4180/3437935310.py:1: FutureWarning: In a future version of pandas all arguments of DataFrame.drop except for the argument 'labels' will be keyword-only\n",
      "  df2020.drop(df2020.columns.difference(['Age', 'Gender', 'Country', 'self_employed',\n"
     ]
    }
   ],
   "source": [
    "\n",
    "df2020.drop(df2020.columns.difference(['Age', 'Gender', 'Country', 'self_employed',\n",
    "       'family_history', 'treatment', 'work_interfere', 'no_employees',\n",
    "       'remote_work', 'tech_company', 'benefits', 'care_options',\n",
    "       'wellness_program', 'seek_help', 'anonymity', 'leave',\n",
    "       'mental_health_consequence', 'phys_health_consequence', 'coworkers',\n",
    "       'supervisor', 'mental_health_interview', 'phys_health_interview',\n",
    "       'mental_vs_physical', 'obs_consequence']), 1, inplace=True)"
   ]
  },
  {
   "cell_type": "code",
   "execution_count": 69,
   "id": "b0683f3a",
   "metadata": {},
   "outputs": [
    {
     "name": "stderr",
     "output_type": "stream",
     "text": [
      "C:\\Users\\W10\\AppData\\Local\\Temp/ipykernel_4180/381194303.py:1: FutureWarning: In a future version of pandas all arguments of DataFrame.drop except for the argument 'labels' will be keyword-only\n",
      "  df2021.drop(df2021.columns.difference(['Age', 'Gender', 'Country', 'self_employed',\n"
     ]
    }
   ],
   "source": [
    "\n",
    "df2021.drop(df2021.columns.difference(['Age', 'Gender', 'Country', 'self_employed',\n",
    "       'family_history', 'treatment', 'work_interfere', 'no_employees',\n",
    "       'remote_work', 'tech_company', 'benefits', 'care_options',\n",
    "       'wellness_program', 'seek_help', 'anonymity', 'leave',\n",
    "       'mental_health_consequence', 'phys_health_consequence', 'coworkers',\n",
    "       'supervisor', 'mental_health_interview', 'phys_health_interview',\n",
    "       'mental_vs_physical', 'obs_consequence']), 1, inplace=True)\n"
   ]
  },
  {
   "cell_type": "code",
   "execution_count": 73,
   "id": "520331a9",
   "metadata": {},
   "outputs": [
    {
     "name": "stdout",
     "output_type": "stream",
     "text": [
      "2014--->the columns present are:  (1259, 24)\n",
      "2016--->the columns present are:  (1433, 24)\n",
      "2017--->the columns present are:  (756, 9)\n",
      "2018--->the columns present are:  (417, 10)\n",
      "2019--->the columns present are:  (352, 10)\n",
      "2020--->the columns present are:  (180, 10)\n",
      "2021--->the columns present are:  (131, 10)\n"
     ]
    }
   ],
   "source": [
    "print(\"2014--->the columns present are: \",df2014.shape)\n",
    "print(\"2016--->the columns present are: \",df2016.shape)\n",
    "print(\"2017--->the columns present are: \",df2017.shape)\n",
    "print(\"2018--->the columns present are: \",df2018.shape)\n",
    "print(\"2019--->the columns present are: \",df2019.shape)\n",
    "print(\"2020--->the columns present are: \",df2020.shape)\n",
    "print(\"2021--->the columns present are: \",df2021.shape)"
   ]
  },
  {
   "cell_type": "code",
   "execution_count": null,
   "id": "60b4ff03",
   "metadata": {},
   "outputs": [],
   "source": [
    "# This means the questions changed throughout time....\n",
    "#   which pushes us to pick some years' surveys, leaving others aside,\n",
    "#      as we cannot equalize between different questions. \n",
    "#        Surely the variable measured persisted though time, \n",
    "#         while de operationalization changed (the questions' style)\n",
    "#   Note: the row number also decreases through time..registering less survey response, \n",
    "#      meaning less statistical weight. "
   ]
  },
  {
   "cell_type": "code",
   "execution_count": null,
   "id": "55786d31",
   "metadata": {},
   "outputs": [],
   "source": [
    "# First we drop 2017 from the wrangling, which wont hurt our objectives"
   ]
  },
  {
   "cell_type": "code",
   "execution_count": 75,
   "id": "fe3bba9c",
   "metadata": {},
   "outputs": [
    {
     "name": "stdout",
     "output_type": "stream",
     "text": [
      "2014--->the columns present are:  Index(['Age', 'Gender', 'Country', 'self_employed', 'family_history',\n",
      "       'treatment', 'work_interfere', 'no_employees', 'remote_work',\n",
      "       'tech_company', 'benefits', 'care_options', 'wellness_program',\n",
      "       'seek_help', 'anonymity', 'leave', 'mental_health_consequence',\n",
      "       'phys_health_consequence', 'coworkers', 'supervisor',\n",
      "       'mental_health_interview', 'phys_health_interview',\n",
      "       'mental_vs_physical', 'obs_consequence'],\n",
      "      dtype='object')\n",
      "2016--->the columns present are:  Index(['self_employed', 'no_employees', 'tech_company', 'benefits',\n",
      "       'care_options', 'wellness_program', 'seek_help', 'anonymity', 'leave',\n",
      "       'mental_health_consequence', 'phys_health_consequence', 'coworkers',\n",
      "       'supervisor', 'mental_vs_physical', 'obs_consequence', 'work_interfere',\n",
      "       'phys_health_interview', 'mental_health_interview', 'family_history',\n",
      "       'treatment', 'Age', 'Gender', 'Country', 'remote_work'],\n",
      "      dtype='object')\n",
      "2018--->the columns present are:  Index(['no_employees', 'tech_company', 'benefits', 'wellness_program',\n",
      "       'anonymity', 'work_interfere', 'family_history',\n",
      "       'phys_health_interview', 'Age', 'Gender'],\n",
      "      dtype='object')\n",
      "2019--->the columns present are:  Index(['no_employees', 'tech_company', 'benefits', 'wellness_program',\n",
      "       'anonymity', 'work_interfere', 'family_history',\n",
      "       'phys_health_interview', 'Age', 'Gender'],\n",
      "      dtype='object')\n",
      "2020--->the columns present are:  Index(['no_employees', 'tech_company', 'benefits', 'wellness_program',\n",
      "       'anonymity', 'work_interfere', 'family_history',\n",
      "       'phys_health_interview', 'Age', 'Gender'],\n",
      "      dtype='object')\n",
      "2021--->the columns present are:  Index(['no_employees', 'tech_company', 'benefits', 'wellness_program',\n",
      "       'anonymity', 'work_interfere', 'family_history',\n",
      "       'phys_health_interview', 'Age', 'Gender'],\n",
      "      dtype='object')\n"
     ]
    }
   ],
   "source": [
    "# We inspect the differences between (2014 + 2016) and (2018-2021)...\n",
    "\n",
    "print(\"2014--->the columns present are: \",df2014.columns)\n",
    "print(\"2016--->the columns present are: \",df2016.columns)\n",
    "\n",
    "print(\"2018--->the columns present are: \",df2018.columns)\n",
    "print(\"2019--->the columns present are: \",df2019.columns)\n",
    "print(\"2020--->the columns present are: \",df2020.columns)\n",
    "print(\"2021--->the columns present are: \",df2021.columns)"
   ]
  },
  {
   "cell_type": "code",
   "execution_count": 78,
   "id": "8d0ff642",
   "metadata": {},
   "outputs": [],
   "source": [
    "# We will be producing to different datasets. \n",
    "#  We will be using 2014&2016 for richer analysis,\n",
    "#   And saving 2018-2021dataset for further specific insights which may result. "
   ]
  },
  {
   "cell_type": "code",
   "execution_count": 81,
   "id": "a6c71b49",
   "metadata": {},
   "outputs": [],
   "source": [
    "frames = [df2014, df2016]\n",
    "\n",
    "df_survey = pd.concat(frames)"
   ]
  },
  {
   "cell_type": "code",
   "execution_count": 83,
   "id": "e37e80ef",
   "metadata": {},
   "outputs": [
    {
     "data": {
      "text/plain": [
       "(2692, 24)"
      ]
     },
     "execution_count": 83,
     "metadata": {},
     "output_type": "execute_result"
    }
   ],
   "source": [
    "df_survey.shape"
   ]
  },
  {
   "cell_type": "code",
   "execution_count": 85,
   "id": "ecbd5ed4",
   "metadata": {},
   "outputs": [],
   "source": [
    "df_survey.to_csv(\"M.H Survey\")"
   ]
  },
  {
   "cell_type": "code",
   "execution_count": 87,
   "id": "f8b833d6",
   "metadata": {},
   "outputs": [],
   "source": [
    "# Now, the other"
   ]
  },
  {
   "cell_type": "code",
   "execution_count": 88,
   "id": "6191342a",
   "metadata": {},
   "outputs": [],
   "source": [
    "frames2 = [df2018, df2019, df2020, df2021]\n",
    "\n",
    "df_survey2 = pd.concat(frames2)"
   ]
  },
  {
   "cell_type": "code",
   "execution_count": 90,
   "id": "b8426a1d",
   "metadata": {},
   "outputs": [
    {
     "data": {
      "text/plain": [
       "(1080, 10)"
      ]
     },
     "execution_count": 90,
     "metadata": {},
     "output_type": "execute_result"
    }
   ],
   "source": [
    "df_survey2.shape"
   ]
  },
  {
   "cell_type": "code",
   "execution_count": 91,
   "id": "a06f5cad",
   "metadata": {},
   "outputs": [],
   "source": [
    "df_survey2.to_csv(\"M.H Survey2\")"
   ]
  }
 ],
 "metadata": {
  "kernelspec": {
   "display_name": "Python 3 (ipykernel)",
   "language": "python",
   "name": "python3"
  },
  "language_info": {
   "codemirror_mode": {
    "name": "ipython",
    "version": 3
   },
   "file_extension": ".py",
   "mimetype": "text/x-python",
   "name": "python",
   "nbconvert_exporter": "python",
   "pygments_lexer": "ipython3",
   "version": "3.9.5"
  }
 },
 "nbformat": 4,
 "nbformat_minor": 5
}
