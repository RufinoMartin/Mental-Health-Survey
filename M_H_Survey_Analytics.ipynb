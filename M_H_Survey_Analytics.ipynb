{
  "cells": [
    {
      "cell_type": "markdown",
      "metadata": {
        "colab_type": "text",
        "id": "view-in-github"
      },
      "source": [
        "<a href=\"https://colab.research.google.com/github/RufinoMartin/Mental-Health-Survey/blob/main/M_H_Survey_Analytics.ipynb\" target=\"_parent\"><img src=\"https://colab.research.google.com/assets/colab-badge.svg\" alt=\"Open In Colab\"/></a>"
      ]
    },
    {
      "cell_type": "markdown",
      "metadata": {
        "id": "GpnghIcD0kkz"
      },
      "source": [
        "# Summary"
      ]
    },
    {
      "cell_type": "markdown",
      "metadata": {
        "id": "v19hYMHj0mMT"
      },
      "source": [
        "# Mental Health Survey\n",
        "\n",
        "\n",
        "The Open Source Mental Health performs anual surveys to measure mental health in the Tech Community, apart from offering other various resources. \n",
        "\n",
        "In this notebook, we will be focusing on their 2014 & 2016 datasets.\n",
        "\n",
        "The institute makes available all their datasets, which represent the 2014-2021 period (except for 2015 which was not conducted). We choose to keep the years above mentioned for analysis for statistical weight reasons:\n",
        "\n",
        "-  The survey-response volume decreased through time, thus also decreasing the number of rows in the datasets. As a consequence, the data looses statistical weight, as the sample gets significantly smaller.\n",
        "-  The operationalization of variables changed, this means, that while the interest variable may have persisted through time, the way in which it was collected (que questions' style) changed. \n",
        "-  For more details, head to the preprocessing notebook:\n",
        "\n",
        "https://github.com/RufinoMartin/Mental-Health-Survey/blob/main/M.H%20Survey%20Merge.ipynb\n",
        "\n",
        "The original datasets can be found, year by year, at the OSMH website:\n",
        "\n",
        "https://osmhhelp.org/research\n",
        "\n",
        "\n",
        "\n",
        "\n"
      ]
    },
    {
      "cell_type": "markdown",
      "metadata": {
        "id": "asvJfuzo0dS2"
      },
      "source": [
        "# Library Import\n"
      ]
    },
    {
      "cell_type": "code",
      "execution_count": 4,
      "metadata": {
        "id": "BIEmRw388BLo"
      },
      "outputs": [],
      "source": [
        "# Library Import\n",
        "\n",
        "# Data Manipulation\n",
        "\n",
        "import numpy as np\n",
        "import pandas as pd\n",
        "\n",
        "#visualization libraries\n",
        "\n",
        "import matplotlib\n",
        "import matplotlib.pyplot as plt\n",
        "import seaborn as sns\n",
        "import plotly.express as px\n",
        "import plotly.graph_objects as go\n",
        "%matplotlib inline\n",
        "\n",
        "# Warnings\n",
        "\n",
        "import warnings \n",
        "warnings.filterwarnings('ignore')"
      ]
    },
    {
      "cell_type": "markdown",
      "metadata": {
        "id": "UPI4YZAL0dVU"
      },
      "source": [
        "# Data Import\n",
        "\n",
        "Repository RAW file:\n",
        "\n",
        "https://github.com/RufinoMartin/Mental-Health-Survey/blob/main/M.H%20Survey.csv"
      ]
    },
    {
      "cell_type": "code",
      "execution_count": 5,
      "metadata": {
        "colab": {
          "base_uri": "https://localhost:8080/",
          "height": 403
        },
        "id": "4MnRjZFZ5X6r",
        "outputId": "835cd090-26e5-455c-e630-ffd875a6d093"
      },
      "outputs": [
        {
          "data": {
            "text/html": [
              "<div>\n",
              "<style scoped>\n",
              "    .dataframe tbody tr th:only-of-type {\n",
              "        vertical-align: middle;\n",
              "    }\n",
              "\n",
              "    .dataframe tbody tr th {\n",
              "        vertical-align: top;\n",
              "    }\n",
              "\n",
              "    .dataframe thead th {\n",
              "        text-align: right;\n",
              "    }\n",
              "</style>\n",
              "<table border=\"1\" class=\"dataframe\">\n",
              "  <thead>\n",
              "    <tr style=\"text-align: right;\">\n",
              "      <th></th>\n",
              "      <th>Unnamed: 0</th>\n",
              "      <th>Age</th>\n",
              "      <th>Gender</th>\n",
              "      <th>Country</th>\n",
              "      <th>self_employed</th>\n",
              "      <th>family_history</th>\n",
              "      <th>treatment</th>\n",
              "      <th>work_interfere</th>\n",
              "      <th>no_employees</th>\n",
              "      <th>remote_work</th>\n",
              "      <th>...</th>\n",
              "      <th>anonymity</th>\n",
              "      <th>leave</th>\n",
              "      <th>mental_health_consequence</th>\n",
              "      <th>phys_health_consequence</th>\n",
              "      <th>coworkers</th>\n",
              "      <th>supervisor</th>\n",
              "      <th>mental_health_interview</th>\n",
              "      <th>phys_health_interview</th>\n",
              "      <th>mental_vs_physical</th>\n",
              "      <th>obs_consequence</th>\n",
              "    </tr>\n",
              "  </thead>\n",
              "  <tbody>\n",
              "    <tr>\n",
              "      <th>0</th>\n",
              "      <td>0</td>\n",
              "      <td>37</td>\n",
              "      <td>Female</td>\n",
              "      <td>United States</td>\n",
              "      <td>NaN</td>\n",
              "      <td>No</td>\n",
              "      <td>Yes</td>\n",
              "      <td>Often</td>\n",
              "      <td>6-25</td>\n",
              "      <td>No</td>\n",
              "      <td>...</td>\n",
              "      <td>Yes</td>\n",
              "      <td>Somewhat easy</td>\n",
              "      <td>No</td>\n",
              "      <td>No</td>\n",
              "      <td>Some of them</td>\n",
              "      <td>Yes</td>\n",
              "      <td>No</td>\n",
              "      <td>Maybe</td>\n",
              "      <td>Yes</td>\n",
              "      <td>No</td>\n",
              "    </tr>\n",
              "    <tr>\n",
              "      <th>1</th>\n",
              "      <td>1</td>\n",
              "      <td>44</td>\n",
              "      <td>M</td>\n",
              "      <td>United States</td>\n",
              "      <td>NaN</td>\n",
              "      <td>No</td>\n",
              "      <td>No</td>\n",
              "      <td>Rarely</td>\n",
              "      <td>More than 1000</td>\n",
              "      <td>No</td>\n",
              "      <td>...</td>\n",
              "      <td>Don't know</td>\n",
              "      <td>Don't know</td>\n",
              "      <td>Maybe</td>\n",
              "      <td>No</td>\n",
              "      <td>No</td>\n",
              "      <td>No</td>\n",
              "      <td>No</td>\n",
              "      <td>No</td>\n",
              "      <td>Don't know</td>\n",
              "      <td>No</td>\n",
              "    </tr>\n",
              "    <tr>\n",
              "      <th>2</th>\n",
              "      <td>2</td>\n",
              "      <td>32</td>\n",
              "      <td>Male</td>\n",
              "      <td>Canada</td>\n",
              "      <td>NaN</td>\n",
              "      <td>No</td>\n",
              "      <td>No</td>\n",
              "      <td>Rarely</td>\n",
              "      <td>6-25</td>\n",
              "      <td>No</td>\n",
              "      <td>...</td>\n",
              "      <td>Don't know</td>\n",
              "      <td>Somewhat difficult</td>\n",
              "      <td>No</td>\n",
              "      <td>No</td>\n",
              "      <td>Yes</td>\n",
              "      <td>Yes</td>\n",
              "      <td>Yes</td>\n",
              "      <td>Yes</td>\n",
              "      <td>No</td>\n",
              "      <td>No</td>\n",
              "    </tr>\n",
              "    <tr>\n",
              "      <th>3</th>\n",
              "      <td>3</td>\n",
              "      <td>31</td>\n",
              "      <td>Male</td>\n",
              "      <td>United Kingdom</td>\n",
              "      <td>NaN</td>\n",
              "      <td>Yes</td>\n",
              "      <td>Yes</td>\n",
              "      <td>Often</td>\n",
              "      <td>26-100</td>\n",
              "      <td>No</td>\n",
              "      <td>...</td>\n",
              "      <td>No</td>\n",
              "      <td>Somewhat difficult</td>\n",
              "      <td>Yes</td>\n",
              "      <td>Yes</td>\n",
              "      <td>Some of them</td>\n",
              "      <td>No</td>\n",
              "      <td>Maybe</td>\n",
              "      <td>Maybe</td>\n",
              "      <td>No</td>\n",
              "      <td>Yes</td>\n",
              "    </tr>\n",
              "    <tr>\n",
              "      <th>4</th>\n",
              "      <td>4</td>\n",
              "      <td>31</td>\n",
              "      <td>Male</td>\n",
              "      <td>United States</td>\n",
              "      <td>NaN</td>\n",
              "      <td>No</td>\n",
              "      <td>No</td>\n",
              "      <td>Never</td>\n",
              "      <td>100-500</td>\n",
              "      <td>Yes</td>\n",
              "      <td>...</td>\n",
              "      <td>Don't know</td>\n",
              "      <td>Don't know</td>\n",
              "      <td>No</td>\n",
              "      <td>No</td>\n",
              "      <td>Some of them</td>\n",
              "      <td>Yes</td>\n",
              "      <td>Yes</td>\n",
              "      <td>Yes</td>\n",
              "      <td>Don't know</td>\n",
              "      <td>No</td>\n",
              "    </tr>\n",
              "  </tbody>\n",
              "</table>\n",
              "<p>5 rows × 25 columns</p>\n",
              "</div>"
            ],
            "text/plain": [
              "   Unnamed: 0  Age  Gender         Country self_employed family_history  \\\n",
              "0           0   37  Female   United States           NaN             No   \n",
              "1           1   44       M   United States           NaN             No   \n",
              "2           2   32    Male          Canada           NaN             No   \n",
              "3           3   31    Male  United Kingdom           NaN            Yes   \n",
              "4           4   31    Male   United States           NaN             No   \n",
              "\n",
              "  treatment work_interfere    no_employees remote_work  ...   anonymity  \\\n",
              "0       Yes          Often            6-25          No  ...         Yes   \n",
              "1        No         Rarely  More than 1000          No  ...  Don't know   \n",
              "2        No         Rarely            6-25          No  ...  Don't know   \n",
              "3       Yes          Often          26-100          No  ...          No   \n",
              "4        No          Never         100-500         Yes  ...  Don't know   \n",
              "\n",
              "                leave mental_health_consequence phys_health_consequence  \\\n",
              "0       Somewhat easy                        No                      No   \n",
              "1          Don't know                     Maybe                      No   \n",
              "2  Somewhat difficult                        No                      No   \n",
              "3  Somewhat difficult                       Yes                     Yes   \n",
              "4          Don't know                        No                      No   \n",
              "\n",
              "      coworkers supervisor mental_health_interview phys_health_interview  \\\n",
              "0  Some of them        Yes                      No                 Maybe   \n",
              "1            No         No                      No                    No   \n",
              "2           Yes        Yes                     Yes                   Yes   \n",
              "3  Some of them         No                   Maybe                 Maybe   \n",
              "4  Some of them        Yes                     Yes                   Yes   \n",
              "\n",
              "  mental_vs_physical obs_consequence  \n",
              "0                Yes              No  \n",
              "1         Don't know              No  \n",
              "2                 No              No  \n",
              "3                 No             Yes  \n",
              "4         Don't know              No  \n",
              "\n",
              "[5 rows x 25 columns]"
            ]
          },
          "execution_count": 5,
          "metadata": {},
          "output_type": "execute_result"
        }
      ],
      "source": [
        "df = pd.read_csv('https://raw.githubusercontent.com/RufinoMartin/Mental-Health-Survey/main/M.H%20Survey.csv')\n",
        "df.head(5)"
      ]
    },
    {
      "cell_type": "code",
      "execution_count": 6,
      "metadata": {
        "id": "VRQuVb8XcVij"
      },
      "outputs": [],
      "source": [
        "df.drop(columns={'Unnamed: 0'}, inplace=True)"
      ]
    },
    {
      "cell_type": "markdown",
      "metadata": {
        "id": "WwxYOMNS9BMU"
      },
      "source": [
        "# Data Library\n",
        "\n",
        "As fetched from the  OSMH Kaggle Dataset, this dataset contains the following data, obtained from Surveys in form of open questions: \n",
        "\n",
        "- Timestamp\n",
        "\n",
        "- Age\n",
        "\n",
        "- Gender\n",
        "\n",
        "- Country\n",
        "\n",
        "- state: If you live in the United States, which state or territory do you live in?\n",
        "\n",
        "- self_employed: Are you self-employed?\n",
        "\n",
        "- family_history: Do you have a family history of mental illness?\n",
        "\n",
        "- treatment: Have you sought treatment for a mental health condition?\n",
        "\n",
        "- work_interfere: If you have a mental health condition, do you feel that it interferes with your work?\n",
        "\n",
        "- no_employees: How many employees does your company or organization have?\n",
        "\n",
        "- remote_work: Do you work remotely (outside of an office) at least 50% of the time?\n",
        "\n",
        "- tech_company: Is your employer primarily a tech company/organization?\n",
        "\n",
        "- benefits: Does your employer provide mental health benefits?\n",
        "\n",
        "- care_options: Do you know the options for mental health care your employer provides?\n",
        "\n",
        "- wellness_program: Has your employer ever discussed mental health as part of an employee wellness program?\n",
        "\n",
        "- seek_help: Does your employer provide resources to learn more about mental health issues and how to seek help?\n",
        "\n",
        "- anonymity: Is your anonymity protected if you choose to take advantage of mental health or substance abuse treatment resources?\n",
        "\n",
        "- leave: How easy is it for you to take medical leave for a mental health condition?\n",
        "\n",
        "- mentalhealthconsequence: Do you think that discussing a mental health issue with your employer would have negative consequences?\n",
        "\n",
        "- physhealthconsequence: Do you think that discussing a physical health issue with your employer would have negative consequences?\n",
        "\n",
        "- coworkers: Would you be willing to discuss a mental health issue with your coworkers?\n",
        "\n",
        "- supervisor: Would you be willing to discuss a mental health issue with your direct supervisor(s)?\n",
        "\n",
        "- mentalhealthinterview: Would you bring up a mental health issue with a potential employer in an interview?\n",
        "\n",
        "- physhealthinterview: Would you bring up a physical health issue with a potential employer in an interview?\n",
        "\n",
        "- mentalvsphysical: Do you feel that your employer takes mental health as seriously as physical health?\n",
        "\n",
        "- obs_consequence: Have you heard of or observed negative consequences for coworkers with mental health conditions in your workplace?\n",
        "\n",
        "- comments: Any additional notes or comments\n",
        "\n",
        "In the preprocessing notebook, the columns:\n",
        "\n",
        "- \"comments\" (70% non-responses, which makes it unfit. It would ve been interesting for a WordCloudPlot, which could be tried without validity pretensions)\n",
        "-  \"state\" (as it applies only for US countries) and \n",
        "-  \"Timestamp\" (could have served well with some homogenity in quality and quantity of year-to-year survey, which is not the case)\n",
        "\n",
        "were dropped, as they do not contribute to our analysis. For the moment being, we will keep the column \"Country\", to see whether the data offers any worthy analysis. "
      ]
    },
    {
      "cell_type": "markdown",
      "metadata": {
        "id": "WSAr_L49iJx4"
      },
      "source": [
        "# Exploratory Data Analysis (EDA)"
      ]
    },
    {
      "cell_type": "code",
      "execution_count": 7,
      "metadata": {
        "colab": {
          "base_uri": "https://localhost:8080/"
        },
        "id": "M7XS_xQ1gEBz",
        "outputId": "008bd6a6-29f4-4f26-94c7-aad4db653f31"
      },
      "outputs": [
        {
          "name": "stdout",
          "output_type": "stream",
          "text": [
            "\u001b[1mEXPLORATORY DATA ANALYSIS :\u001b[0m\n",
            "\n",
            "\u001b[1mShape (rows, columns):\u001b[0m\n",
            "(2692, 24) \n",
            "------------------------------------------------------------------------------------\n",
            "\n",
            "\u001b[1mColumns :\u001b[0m\n",
            "Index(['Age', 'Gender', 'Country', 'self_employed', 'family_history',\n",
            "       'treatment', 'work_interfere', 'no_employees', 'remote_work',\n",
            "       'tech_company', 'benefits', 'care_options', 'wellness_program',\n",
            "       'seek_help', 'anonymity', 'leave', 'mental_health_consequence',\n",
            "       'phys_health_consequence', 'coworkers', 'supervisor',\n",
            "       'mental_health_interview', 'phys_health_interview',\n",
            "       'mental_vs_physical', 'obs_consequence'],\n",
            "      dtype='object') \n",
            "------------------------------------------------------------------------------------\n",
            "\n",
            "\u001b[1mDatatypes & Missing values:\u001b[0m\n",
            "<class 'pandas.core.frame.DataFrame'>\n",
            "RangeIndex: 2692 entries, 0 to 2691\n",
            "Data columns (total 24 columns):\n",
            " #   Column                     Non-Null Count  Dtype \n",
            "---  ------                     --------------  ----- \n",
            " 0   Age                        2692 non-null   int64 \n",
            " 1   Gender                     2689 non-null   object\n",
            " 2   Country                    2692 non-null   object\n",
            " 3   self_employed              2674 non-null   object\n",
            " 4   family_history             2692 non-null   object\n",
            " 5   treatment                  2692 non-null   object\n",
            " 6   work_interfere             1199 non-null   object\n",
            " 7   no_employees               2405 non-null   object\n",
            " 8   remote_work                2692 non-null   object\n",
            " 9   tech_company               2405 non-null   object\n",
            " 10  benefits                   2405 non-null   object\n",
            " 11  care_options               2272 non-null   object\n",
            " 12  wellness_program           2405 non-null   object\n",
            " 13  seek_help                  2405 non-null   object\n",
            " 14  anonymity                  2405 non-null   object\n",
            " 15  leave                      2405 non-null   object\n",
            " 16  mental_health_consequence  2405 non-null   object\n",
            " 17  phys_health_consequence    2405 non-null   object\n",
            " 18  coworkers                  2405 non-null   object\n",
            " 19  supervisor                 2405 non-null   object\n",
            " 20  mental_health_interview    2692 non-null   object\n",
            " 21  phys_health_interview      2692 non-null   object\n",
            " 22  mental_vs_physical         2405 non-null   object\n",
            " 23  obs_consequence            2405 non-null   object\n",
            "dtypes: int64(1), object(23)\n",
            "memory usage: 504.9+ KB\n",
            "None \n",
            "------------------------------------------------------------------------------------\n",
            "\n",
            "\u001b[1mUnique Values in Age :\u001b[0m 64\n",
            "\u001b[1mUnique Values in Gender :\u001b[0m 100\n",
            "\u001b[1mUnique Values in Country :\u001b[0m 67\n",
            "\u001b[1mUnique Values in self_employed :\u001b[0m 5\n",
            "\u001b[1mUnique Values in family_history :\u001b[0m 3\n",
            "\u001b[1mUnique Values in treatment :\u001b[0m 4\n",
            "\u001b[1mUnique Values in work_interfere :\u001b[0m 9\n",
            "\u001b[1mUnique Values in no_employees :\u001b[0m 7\n",
            "\u001b[1mUnique Values in remote_work :\u001b[0m 5\n",
            "\u001b[1mUnique Values in tech_company :\u001b[0m 5\n",
            "\u001b[1mUnique Values in benefits :\u001b[0m 6\n",
            "\u001b[1mUnique Values in care_options :\u001b[0m 5\n",
            "\u001b[1mUnique Values in wellness_program :\u001b[0m 5\n",
            "\u001b[1mUnique Values in seek_help :\u001b[0m 5\n",
            "\u001b[1mUnique Values in anonymity :\u001b[0m 5\n",
            "\u001b[1mUnique Values in leave :\u001b[0m 8\n",
            "\u001b[1mUnique Values in mental_health_consequence :\u001b[0m 4\n",
            "\u001b[1mUnique Values in phys_health_consequence :\u001b[0m 4\n",
            "\u001b[1mUnique Values in coworkers :\u001b[0m 5\n",
            "\u001b[1mUnique Values in supervisor :\u001b[0m 5\n",
            "\u001b[1mUnique Values in mental_health_interview :\u001b[0m 3\n",
            "\u001b[1mUnique Values in phys_health_interview :\u001b[0m 3\n",
            "\u001b[1mUnique Values in mental_vs_physical :\u001b[0m 5\n",
            "\u001b[1mUnique Values in obs_consequence :\u001b[0m 3\n",
            "\n",
            "------------------------------------------------------------------------------------\n",
            "\n",
            "\u001b[1mSummarized Statistics :\u001b[0m\n",
            "                 Age Gender                   Country self_employed  \\\n",
            "count   2.692000e+03   2689                      2692          2674   \n",
            "unique           NaN     99                        67             4   \n",
            "top              NaN   Male  United States of America             0   \n",
            "freq             NaN   1225                       851          1146   \n",
            "mean    3.714714e+07    NaN                       NaN           NaN   \n",
            "std     1.927358e+09    NaN                       NaN           NaN   \n",
            "min    -1.726000e+03    NaN                       NaN           NaN   \n",
            "25%     2.800000e+01    NaN                       NaN           NaN   \n",
            "50%     3.200000e+01    NaN                       NaN           NaN   \n",
            "75%     3.700000e+01    NaN                       NaN           NaN   \n",
            "max     1.000000e+11    NaN                       NaN           NaN   \n",
            "\n",
            "       family_history treatment work_interfere no_employees remote_work  \\\n",
            "count            2692      2692           1199         2405        2692   \n",
            "unique              3         4              8            6           5   \n",
            "top                No         1      Sometimes       26-100          No   \n",
            "freq             1255       839            465          581         883   \n",
            "mean              NaN       NaN            NaN          NaN         NaN   \n",
            "std               NaN       NaN            NaN          NaN         NaN   \n",
            "min               NaN       NaN            NaN          NaN         NaN   \n",
            "25%               NaN       NaN            NaN          NaN         NaN   \n",
            "50%               NaN       NaN            NaN          NaN         NaN   \n",
            "75%               NaN       NaN            NaN          NaN         NaN   \n",
            "max               NaN       NaN            NaN          NaN         NaN   \n",
            "\n",
            "       tech_company  ...   anonymity       leave mental_health_consequence  \\\n",
            "count          2405  ...        2405        2405                      2405   \n",
            "unique            4  ...           4           7                         3   \n",
            "top             Yes  ...  Don't know  Don't know                     Maybe   \n",
            "freq           1031  ...         819         563                       964   \n",
            "mean            NaN  ...         NaN         NaN                       NaN   \n",
            "std             NaN  ...         NaN         NaN                       NaN   \n",
            "min             NaN  ...         NaN         NaN                       NaN   \n",
            "25%             NaN  ...         NaN         NaN                       NaN   \n",
            "50%             NaN  ...         NaN         NaN                       NaN   \n",
            "75%             NaN  ...         NaN         NaN                       NaN   \n",
            "max             NaN  ...         NaN         NaN                       NaN   \n",
            "\n",
            "       phys_health_consequence     coworkers supervisor  \\\n",
            "count                     2405          2405       2405   \n",
            "unique                       3             4          4   \n",
            "top                         No  Some of them        Yes   \n",
            "freq                      1762           774        944   \n",
            "mean                       NaN           NaN        NaN   \n",
            "std                        NaN           NaN        NaN   \n",
            "min                        NaN           NaN        NaN   \n",
            "25%                        NaN           NaN        NaN   \n",
            "50%                        NaN           NaN        NaN   \n",
            "75%                        NaN           NaN        NaN   \n",
            "max                        NaN           NaN        NaN   \n",
            "\n",
            "       mental_health_interview phys_health_interview mental_vs_physical  \\\n",
            "count                     2692                  2692               2405   \n",
            "unique                       3                     3                  4   \n",
            "top                         No                 Maybe                Yes   \n",
            "freq                      1891                  1190                693   \n",
            "mean                       NaN                   NaN                NaN   \n",
            "std                        NaN                   NaN                NaN   \n",
            "min                        NaN                   NaN                NaN   \n",
            "25%                        NaN                   NaN                NaN   \n",
            "50%                        NaN                   NaN                NaN   \n",
            "75%                        NaN                   NaN                NaN   \n",
            "max                        NaN                   NaN                NaN   \n",
            "\n",
            "       obs_consequence  \n",
            "count             2405  \n",
            "unique               2  \n",
            "top                 No  \n",
            "freq              2123  \n",
            "mean               NaN  \n",
            "std                NaN  \n",
            "min                NaN  \n",
            "25%                NaN  \n",
            "50%                NaN  \n",
            "75%                NaN  \n",
            "max                NaN  \n",
            "\n",
            "[11 rows x 24 columns] \n",
            "------------------------------------------------------------------------------------\n",
            "\n",
            "\u001b[1mNumber of duplicate values :\u001b[0m\n",
            "4\n"
          ]
        }
      ],
      "source": [
        "def EDA(df):\n",
        "    \n",
        "    print('\\033[1m' +'EXPLORATORY DATA ANALYSIS :'+ '\\033[0m\\n')\n",
        "    print('\\033[1m' + 'Shape (rows, columns):' + '\\033[0m')\n",
        "    print(df.shape, \n",
        "          \n",
        "          '\\n------------------------------------------------------------------------------------\\n')\n",
        "    \n",
        "    print('\\033[1m' + 'Columns :' + '\\033[0m')\n",
        "    print(df.columns, \n",
        "          \n",
        "          '\\n------------------------------------------------------------------------------------\\n')\n",
        "    \n",
        "    print('\\033[1m' + 'Datatypes & Missing values:' + '\\033[0m')\n",
        "    print(df.info(), \n",
        "          \n",
        "          '\\n------------------------------------------------------------------------------------\\n')\n",
        "    \n",
        "    for col in df.columns:\n",
        "        print('\\033[1m' + 'Unique Values in {} :'.format(col) + '\\033[0m',len(df[col].unique()))\n",
        "\n",
        "    print('\\n------------------------------------------------------------------------------------\\n')\n",
        "    \n",
        "    print('\\033[1m' + 'Summarized Statistics :' + '\\033[0m')\n",
        "    print(df.describe(include='all'), \n",
        "          \n",
        "          '\\n------------------------------------------------------------------------------------\\n')\n",
        "    \n",
        "\n",
        "    \n",
        "    print('\\033[1m' + 'Number of duplicate values :' + '\\033[0m')\n",
        "    print(df.duplicated().sum())\n",
        "          \n",
        "EDA(df)"
      ]
    },
    {
      "cell_type": "markdown",
      "metadata": {
        "id": "OVtoUTQplYJ4"
      },
      "source": [
        "# Missing Values"
      ]
    },
    {
      "cell_type": "markdown",
      "metadata": {
        "id": "AG0jznA1lc31"
      },
      "source": [
        "## Missing Values Heatmap"
      ]
    },
    {
      "cell_type": "code",
      "execution_count": 8,
      "metadata": {
        "colab": {
          "base_uri": "https://localhost:8080/",
          "height": 1000
        },
        "id": "MCLid9C6gEPd",
        "outputId": "7e194295-bb4a-4563-fe64-682fd2863912"
      },
      "outputs": [
        {
          "data": {
            "image/png": "[encoded data removed]",
            "text/plain": [
              "<Figure size 4000x3200 with 1 Axes>"
            ]
          },
          "metadata": {
            "needs_background": "light"
          },
          "output_type": "display_data"
        }
      ],
      "source": [
        "plt.figure(figsize=(20,16) , dpi=200)\n",
        "sns.heatmap(df.isna(), cmap='tab20c', cbar = False, alpha = 0.6)\n",
        "plt.xticks(rotation=90)\n",
        "hfont = {'fontname':'monospace'}\n",
        "plt.title ('Heatmap For missing values',\n",
        "           **hfont,\n",
        "           color = 'w',\n",
        "           weight = 'semibold',\n",
        "           fontsize = 16,\n",
        "           alpha = 0.6)\n",
        "plt.xticks(**hfont, rotation='45')\n",
        "plt.show()"
      ]
    },
    {
      "cell_type": "markdown",
      "metadata": {
        "id": "HTg8rR43mxLI"
      },
      "source": [
        "## Missing Values Column Index"
      ]
    },
    {
      "cell_type": "code",
      "execution_count": 9,
      "metadata": {
        "colab": {
          "base_uri": "https://localhost:8080/",
          "height": 582
        },
        "id": "KisIgJU3jK9H",
        "outputId": "fd2d541f-82fe-4b6e-f949-bf561facb835"
      },
      "outputs": [
        {
          "data": {
            "text/html": [
              "<style type=\"text/css\">\n",
              "#T_cdff9_row0_col0, #T_cdff9_row0_col1, #T_cdff9_row1_col0, #T_cdff9_row1_col1, #T_cdff9_row2_col0, #T_cdff9_row2_col1, #T_cdff9_row3_col0, #T_cdff9_row3_col1, #T_cdff9_row4_col0, #T_cdff9_row4_col1, #T_cdff9_row5_col0, #T_cdff9_row5_col1, #T_cdff9_row6_col0, #T_cdff9_row6_col1, #T_cdff9_row7_col0, #T_cdff9_row7_col1, #T_cdff9_row8_col0, #T_cdff9_row8_col1, #T_cdff9_row9_col0, #T_cdff9_row9_col1, #T_cdff9_row10_col0, #T_cdff9_row10_col1, #T_cdff9_row11_col0, #T_cdff9_row11_col1, #T_cdff9_row12_col0, #T_cdff9_row12_col1, #T_cdff9_row13_col0, #T_cdff9_row13_col1, #T_cdff9_row14_col0, #T_cdff9_row14_col1, #T_cdff9_row15_col0, #T_cdff9_row15_col1, #T_cdff9_row16_col0, #T_cdff9_row16_col1 {\n",
              "  background-color: w;\n",
              "}\n",
              "</style>\n",
              "<table id=\"T_cdff9_\">\n",
              "  <thead>\n",
              "    <tr>\n",
              "      <th class=\"blank level0\" >&nbsp;</th>\n",
              "      <th class=\"col_heading level0 col0\" >Column</th>\n",
              "      <th class=\"col_heading level0 col1\" >Missing_Proportion</th>\n",
              "    </tr>\n",
              "  </thead>\n",
              "  <tbody>\n",
              "    <tr>\n",
              "      <th id=\"T_cdff9_level0_row0\" class=\"row_heading level0 row0\" >0</th>\n",
              "      <td id=\"T_cdff9_row0_col0\" class=\"data row0 col0\" >Gender</td>\n",
              "      <td id=\"T_cdff9_row0_col1\" class=\"data row0 col1\" >0.111441</td>\n",
              "    </tr>\n",
              "    <tr>\n",
              "      <th id=\"T_cdff9_level0_row1\" class=\"row_heading level0 row1\" >1</th>\n",
              "      <td id=\"T_cdff9_row1_col0\" class=\"data row1 col0\" >self_employed</td>\n",
              "      <td id=\"T_cdff9_row1_col1\" class=\"data row1 col1\" >0.668648</td>\n",
              "    </tr>\n",
              "    <tr>\n",
              "      <th id=\"T_cdff9_level0_row2\" class=\"row_heading level0 row2\" >2</th>\n",
              "      <td id=\"T_cdff9_row2_col0\" class=\"data row2 col0\" >supervisor</td>\n",
              "      <td id=\"T_cdff9_row2_col1\" class=\"data row2 col1\" >10.661218</td>\n",
              "    </tr>\n",
              "    <tr>\n",
              "      <th id=\"T_cdff9_level0_row3\" class=\"row_heading level0 row3\" >3</th>\n",
              "      <td id=\"T_cdff9_row3_col0\" class=\"data row3 col0\" >coworkers</td>\n",
              "      <td id=\"T_cdff9_row3_col1\" class=\"data row3 col1\" >10.661218</td>\n",
              "    </tr>\n",
              "    <tr>\n",
              "      <th id=\"T_cdff9_level0_row4\" class=\"row_heading level0 row4\" >4</th>\n",
              "      <td id=\"T_cdff9_row4_col0\" class=\"data row4 col0\" >phys_health_consequence</td>\n",
              "      <td id=\"T_cdff9_row4_col1\" class=\"data row4 col1\" >10.661218</td>\n",
              "    </tr>\n",
              "    <tr>\n",
              "      <th id=\"T_cdff9_level0_row5\" class=\"row_heading level0 row5\" >5</th>\n",
              "      <td id=\"T_cdff9_row5_col0\" class=\"data row5 col0\" >mental_health_consequence</td>\n",
              "      <td id=\"T_cdff9_row5_col1\" class=\"data row5 col1\" >10.661218</td>\n",
              "    </tr>\n",
              "    <tr>\n",
              "      <th id=\"T_cdff9_level0_row6\" class=\"row_heading level0 row6\" >6</th>\n",
              "      <td id=\"T_cdff9_row6_col0\" class=\"data row6 col0\" >leave</td>\n",
              "      <td id=\"T_cdff9_row6_col1\" class=\"data row6 col1\" >10.661218</td>\n",
              "    </tr>\n",
              "    <tr>\n",
              "      <th id=\"T_cdff9_level0_row7\" class=\"row_heading level0 row7\" >7</th>\n",
              "      <td id=\"T_cdff9_row7_col0\" class=\"data row7 col0\" >anonymity</td>\n",
              "      <td id=\"T_cdff9_row7_col1\" class=\"data row7 col1\" >10.661218</td>\n",
              "    </tr>\n",
              "    <tr>\n",
              "      <th id=\"T_cdff9_level0_row8\" class=\"row_heading level0 row8\" >8</th>\n",
              "      <td id=\"T_cdff9_row8_col0\" class=\"data row8 col0\" >seek_help</td>\n",
              "      <td id=\"T_cdff9_row8_col1\" class=\"data row8 col1\" >10.661218</td>\n",
              "    </tr>\n",
              "    <tr>\n",
              "      <th id=\"T_cdff9_level0_row9\" class=\"row_heading level0 row9\" >9</th>\n",
              "      <td id=\"T_cdff9_row9_col0\" class=\"data row9 col0\" >wellness_program</td>\n",
              "      <td id=\"T_cdff9_row9_col1\" class=\"data row9 col1\" >10.661218</td>\n",
              "    </tr>\n",
              "    <tr>\n",
              "      <th id=\"T_cdff9_level0_row10\" class=\"row_heading level0 row10\" >10</th>\n",
              "      <td id=\"T_cdff9_row10_col0\" class=\"data row10 col0\" >benefits</td>\n",
              "      <td id=\"T_cdff9_row10_col1\" class=\"data row10 col1\" >10.661218</td>\n",
              "    </tr>\n",
              "    <tr>\n",
              "      <th id=\"T_cdff9_level0_row11\" class=\"row_heading level0 row11\" >11</th>\n",
              "      <td id=\"T_cdff9_row11_col0\" class=\"data row11 col0\" >tech_company</td>\n",
              "      <td id=\"T_cdff9_row11_col1\" class=\"data row11 col1\" >10.661218</td>\n",
              "    </tr>\n",
              "    <tr>\n",
              "      <th id=\"T_cdff9_level0_row12\" class=\"row_heading level0 row12\" >12</th>\n",
              "      <td id=\"T_cdff9_row12_col0\" class=\"data row12 col0\" >no_employees</td>\n",
              "      <td id=\"T_cdff9_row12_col1\" class=\"data row12 col1\" >10.661218</td>\n",
              "    </tr>\n",
              "    <tr>\n",
              "      <th id=\"T_cdff9_level0_row13\" class=\"row_heading level0 row13\" >13</th>\n",
              "      <td id=\"T_cdff9_row13_col0\" class=\"data row13 col0\" >mental_vs_physical</td>\n",
              "      <td id=\"T_cdff9_row13_col1\" class=\"data row13 col1\" >10.661218</td>\n",
              "    </tr>\n",
              "    <tr>\n",
              "      <th id=\"T_cdff9_level0_row14\" class=\"row_heading level0 row14\" >14</th>\n",
              "      <td id=\"T_cdff9_row14_col0\" class=\"data row14 col0\" >obs_consequence</td>\n",
              "      <td id=\"T_cdff9_row14_col1\" class=\"data row14 col1\" >10.661218</td>\n",
              "    </tr>\n",
              "    <tr>\n",
              "      <th id=\"T_cdff9_level0_row15\" class=\"row_heading level0 row15\" >15</th>\n",
              "      <td id=\"T_cdff9_row15_col0\" class=\"data row15 col0\" >care_options</td>\n",
              "      <td id=\"T_cdff9_row15_col1\" class=\"data row15 col1\" >15.601783</td>\n",
              "    </tr>\n",
              "    <tr>\n",
              "      <th id=\"T_cdff9_level0_row16\" class=\"row_heading level0 row16\" >16</th>\n",
              "      <td id=\"T_cdff9_row16_col0\" class=\"data row16 col0\" >work_interfere</td>\n",
              "      <td id=\"T_cdff9_row16_col1\" class=\"data row16 col1\" >55.460624</td>\n",
              "    </tr>\n",
              "  </tbody>\n",
              "</table>\n"
            ],
            "text/plain": [
              "<pandas.io.formats.style.Styler at 0x1ec49af9fd0>"
            ]
          },
          "execution_count": 9,
          "metadata": {},
          "output_type": "execute_result"
        }
      ],
      "source": [
        "cols = []\n",
        "props = []\n",
        "prop = {'Column' : cols, 'Missing_Proportion': props}\n",
        "for col in df.columns:\n",
        "    missing_prop = df[col].isna().sum() / df.shape[0] * 100\n",
        "    if missing_prop > 0:\n",
        "        cols.append(col)\n",
        "        props.append(missing_prop)\n",
        " \n",
        "prop = pd.DataFrame(prop).sort_values('Missing_Proportion', ignore_index=True)\n",
        "prop.style.applymap(lambda x : \"background-color: w\")"
      ]
    },
    {
      "cell_type": "markdown",
      "metadata": {
        "id": "eG7pqttG0dXt"
      },
      "source": [
        "Lots of variables with a 10% MV. Yet, the biggest hole lies in 'work_interference'.\n",
        "Lets bring that variable again to the table:\n",
        "\n",
        "*work_interfere: If you have a mental health condition, do you feel that it interferes with your work?*\n",
        "\n",
        "We will proceed, as with the others, to fill them with \"random\" values."
      ]
    },
    {
      "cell_type": "code",
      "execution_count": 10,
      "metadata": {
        "colab": {
          "base_uri": "https://localhost:8080/",
          "height": 647
        },
        "id": "Bd3VuA0As6jt",
        "outputId": "651eee08-4159-4a87-9df0-99960cd7d31a"
      },
      "outputs": [
        {
          "data": {
            "text/html": [
              "<div>\n",
              "<style scoped>\n",
              "    .dataframe tbody tr th:only-of-type {\n",
              "        vertical-align: middle;\n",
              "    }\n",
              "\n",
              "    .dataframe tbody tr th {\n",
              "        vertical-align: top;\n",
              "    }\n",
              "\n",
              "    .dataframe thead th {\n",
              "        text-align: right;\n",
              "    }\n",
              "</style>\n",
              "<table border=\"1\" class=\"dataframe\">\n",
              "  <thead>\n",
              "    <tr style=\"text-align: right;\">\n",
              "      <th></th>\n",
              "      <th>Age</th>\n",
              "      <th>Gender</th>\n",
              "      <th>Country</th>\n",
              "      <th>self_employed</th>\n",
              "      <th>family_history</th>\n",
              "      <th>treatment</th>\n",
              "      <th>work_interfere</th>\n",
              "      <th>no_employees</th>\n",
              "      <th>remote_work</th>\n",
              "      <th>tech_company</th>\n",
              "      <th>...</th>\n",
              "      <th>anonymity</th>\n",
              "      <th>leave</th>\n",
              "      <th>mental_health_consequence</th>\n",
              "      <th>phys_health_consequence</th>\n",
              "      <th>coworkers</th>\n",
              "      <th>supervisor</th>\n",
              "      <th>mental_health_interview</th>\n",
              "      <th>phys_health_interview</th>\n",
              "      <th>mental_vs_physical</th>\n",
              "      <th>obs_consequence</th>\n",
              "    </tr>\n",
              "  </thead>\n",
              "  <tbody>\n",
              "    <tr>\n",
              "      <th>0</th>\n",
              "      <td>37</td>\n",
              "      <td>Female</td>\n",
              "      <td>United States</td>\n",
              "      <td>NaN</td>\n",
              "      <td>No</td>\n",
              "      <td>Yes</td>\n",
              "      <td>Often</td>\n",
              "      <td>6-25</td>\n",
              "      <td>No</td>\n",
              "      <td>Yes</td>\n",
              "      <td>...</td>\n",
              "      <td>Yes</td>\n",
              "      <td>Somewhat easy</td>\n",
              "      <td>No</td>\n",
              "      <td>No</td>\n",
              "      <td>Some of them</td>\n",
              "      <td>Yes</td>\n",
              "      <td>No</td>\n",
              "      <td>Maybe</td>\n",
              "      <td>Yes</td>\n",
              "      <td>No</td>\n",
              "    </tr>\n",
              "    <tr>\n",
              "      <th>1</th>\n",
              "      <td>44</td>\n",
              "      <td>M</td>\n",
              "      <td>United States</td>\n",
              "      <td>NaN</td>\n",
              "      <td>No</td>\n",
              "      <td>No</td>\n",
              "      <td>Rarely</td>\n",
              "      <td>More than 1000</td>\n",
              "      <td>No</td>\n",
              "      <td>No</td>\n",
              "      <td>...</td>\n",
              "      <td>Don't know</td>\n",
              "      <td>Don't know</td>\n",
              "      <td>Maybe</td>\n",
              "      <td>No</td>\n",
              "      <td>No</td>\n",
              "      <td>No</td>\n",
              "      <td>No</td>\n",
              "      <td>No</td>\n",
              "      <td>Don't know</td>\n",
              "      <td>No</td>\n",
              "    </tr>\n",
              "    <tr>\n",
              "      <th>2</th>\n",
              "      <td>32</td>\n",
              "      <td>Male</td>\n",
              "      <td>Canada</td>\n",
              "      <td>NaN</td>\n",
              "      <td>No</td>\n",
              "      <td>No</td>\n",
              "      <td>Rarely</td>\n",
              "      <td>6-25</td>\n",
              "      <td>No</td>\n",
              "      <td>Yes</td>\n",
              "      <td>...</td>\n",
              "      <td>Don't know</td>\n",
              "      <td>Somewhat difficult</td>\n",
              "      <td>No</td>\n",
              "      <td>No</td>\n",
              "      <td>Yes</td>\n",
              "      <td>Yes</td>\n",
              "      <td>Yes</td>\n",
              "      <td>Yes</td>\n",
              "      <td>No</td>\n",
              "      <td>No</td>\n",
              "    </tr>\n",
              "    <tr>\n",
              "      <th>3</th>\n",
              "      <td>31</td>\n",
              "      <td>Male</td>\n",
              "      <td>United Kingdom</td>\n",
              "      <td>NaN</td>\n",
              "      <td>Yes</td>\n",
              "      <td>Yes</td>\n",
              "      <td>Often</td>\n",
              "      <td>26-100</td>\n",
              "      <td>No</td>\n",
              "      <td>Yes</td>\n",
              "      <td>...</td>\n",
              "      <td>No</td>\n",
              "      <td>Somewhat difficult</td>\n",
              "      <td>Yes</td>\n",
              "      <td>Yes</td>\n",
              "      <td>Some of them</td>\n",
              "      <td>No</td>\n",
              "      <td>Maybe</td>\n",
              "      <td>Maybe</td>\n",
              "      <td>No</td>\n",
              "      <td>Yes</td>\n",
              "    </tr>\n",
              "    <tr>\n",
              "      <th>4</th>\n",
              "      <td>31</td>\n",
              "      <td>Male</td>\n",
              "      <td>United States</td>\n",
              "      <td>NaN</td>\n",
              "      <td>No</td>\n",
              "      <td>No</td>\n",
              "      <td>Never</td>\n",
              "      <td>100-500</td>\n",
              "      <td>Yes</td>\n",
              "      <td>Yes</td>\n",
              "      <td>...</td>\n",
              "      <td>Don't know</td>\n",
              "      <td>Don't know</td>\n",
              "      <td>No</td>\n",
              "      <td>No</td>\n",
              "      <td>Some of them</td>\n",
              "      <td>Yes</td>\n",
              "      <td>Yes</td>\n",
              "      <td>Yes</td>\n",
              "      <td>Don't know</td>\n",
              "      <td>No</td>\n",
              "    </tr>\n",
              "    <tr>\n",
              "      <th>5</th>\n",
              "      <td>33</td>\n",
              "      <td>Male</td>\n",
              "      <td>United States</td>\n",
              "      <td>NaN</td>\n",
              "      <td>Yes</td>\n",
              "      <td>No</td>\n",
              "      <td>Sometimes</td>\n",
              "      <td>6-25</td>\n",
              "      <td>No</td>\n",
              "      <td>Yes</td>\n",
              "      <td>...</td>\n",
              "      <td>Don't know</td>\n",
              "      <td>Don't know</td>\n",
              "      <td>No</td>\n",
              "      <td>No</td>\n",
              "      <td>Yes</td>\n",
              "      <td>Yes</td>\n",
              "      <td>No</td>\n",
              "      <td>Maybe</td>\n",
              "      <td>Don't know</td>\n",
              "      <td>No</td>\n",
              "    </tr>\n",
              "    <tr>\n",
              "      <th>6</th>\n",
              "      <td>35</td>\n",
              "      <td>Female</td>\n",
              "      <td>United States</td>\n",
              "      <td>NaN</td>\n",
              "      <td>Yes</td>\n",
              "      <td>Yes</td>\n",
              "      <td>Sometimes</td>\n",
              "      <td>1-5</td>\n",
              "      <td>Yes</td>\n",
              "      <td>Yes</td>\n",
              "      <td>...</td>\n",
              "      <td>No</td>\n",
              "      <td>Somewhat difficult</td>\n",
              "      <td>Maybe</td>\n",
              "      <td>Maybe</td>\n",
              "      <td>Some of them</td>\n",
              "      <td>No</td>\n",
              "      <td>No</td>\n",
              "      <td>No</td>\n",
              "      <td>Don't know</td>\n",
              "      <td>No</td>\n",
              "    </tr>\n",
              "    <tr>\n",
              "      <th>7</th>\n",
              "      <td>39</td>\n",
              "      <td>M</td>\n",
              "      <td>Canada</td>\n",
              "      <td>NaN</td>\n",
              "      <td>No</td>\n",
              "      <td>No</td>\n",
              "      <td>Never</td>\n",
              "      <td>1-5</td>\n",
              "      <td>Yes</td>\n",
              "      <td>Yes</td>\n",
              "      <td>...</td>\n",
              "      <td>Yes</td>\n",
              "      <td>Don't know</td>\n",
              "      <td>No</td>\n",
              "      <td>No</td>\n",
              "      <td>No</td>\n",
              "      <td>No</td>\n",
              "      <td>No</td>\n",
              "      <td>No</td>\n",
              "      <td>No</td>\n",
              "      <td>No</td>\n",
              "    </tr>\n",
              "    <tr>\n",
              "      <th>8</th>\n",
              "      <td>42</td>\n",
              "      <td>Female</td>\n",
              "      <td>United States</td>\n",
              "      <td>NaN</td>\n",
              "      <td>Yes</td>\n",
              "      <td>Yes</td>\n",
              "      <td>Sometimes</td>\n",
              "      <td>100-500</td>\n",
              "      <td>No</td>\n",
              "      <td>Yes</td>\n",
              "      <td>...</td>\n",
              "      <td>No</td>\n",
              "      <td>Very difficult</td>\n",
              "      <td>Maybe</td>\n",
              "      <td>No</td>\n",
              "      <td>Yes</td>\n",
              "      <td>Yes</td>\n",
              "      <td>No</td>\n",
              "      <td>Maybe</td>\n",
              "      <td>No</td>\n",
              "      <td>No</td>\n",
              "    </tr>\n",
              "    <tr>\n",
              "      <th>9</th>\n",
              "      <td>23</td>\n",
              "      <td>Male</td>\n",
              "      <td>Canada</td>\n",
              "      <td>NaN</td>\n",
              "      <td>No</td>\n",
              "      <td>No</td>\n",
              "      <td>Never</td>\n",
              "      <td>26-100</td>\n",
              "      <td>No</td>\n",
              "      <td>Yes</td>\n",
              "      <td>...</td>\n",
              "      <td>Don't know</td>\n",
              "      <td>Don't know</td>\n",
              "      <td>No</td>\n",
              "      <td>No</td>\n",
              "      <td>Yes</td>\n",
              "      <td>Yes</td>\n",
              "      <td>Maybe</td>\n",
              "      <td>Maybe</td>\n",
              "      <td>Yes</td>\n",
              "      <td>No</td>\n",
              "    </tr>\n",
              "  </tbody>\n",
              "</table>\n",
              "<p>10 rows × 24 columns</p>\n",
              "</div>"
            ],
            "text/plain": [
              "   Age  Gender         Country self_employed family_history treatment  \\\n",
              "0   37  Female   United States           NaN             No       Yes   \n",
              "1   44       M   United States           NaN             No        No   \n",
              "2   32    Male          Canada           NaN             No        No   \n",
              "3   31    Male  United Kingdom           NaN            Yes       Yes   \n",
              "4   31    Male   United States           NaN             No        No   \n",
              "5   33    Male   United States           NaN            Yes        No   \n",
              "6   35  Female   United States           NaN            Yes       Yes   \n",
              "7   39       M          Canada           NaN             No        No   \n",
              "8   42  Female   United States           NaN            Yes       Yes   \n",
              "9   23    Male          Canada           NaN             No        No   \n",
              "\n",
              "  work_interfere    no_employees remote_work tech_company  ...   anonymity  \\\n",
              "0          Often            6-25          No          Yes  ...         Yes   \n",
              "1         Rarely  More than 1000          No           No  ...  Don't know   \n",
              "2         Rarely            6-25          No          Yes  ...  Don't know   \n",
              "3          Often          26-100          No          Yes  ...          No   \n",
              "4          Never         100-500         Yes          Yes  ...  Don't know   \n",
              "5      Sometimes            6-25          No          Yes  ...  Don't know   \n",
              "6      Sometimes             1-5         Yes          Yes  ...          No   \n",
              "7          Never             1-5         Yes          Yes  ...         Yes   \n",
              "8      Sometimes         100-500          No          Yes  ...          No   \n",
              "9          Never          26-100          No          Yes  ...  Don't know   \n",
              "\n",
              "                leave mental_health_consequence phys_health_consequence  \\\n",
              "0       Somewhat easy                        No                      No   \n",
              "1          Don't know                     Maybe                      No   \n",
              "2  Somewhat difficult                        No                      No   \n",
              "3  Somewhat difficult                       Yes                     Yes   \n",
              "4          Don't know                        No                      No   \n",
              "5          Don't know                        No                      No   \n",
              "6  Somewhat difficult                     Maybe                   Maybe   \n",
              "7          Don't know                        No                      No   \n",
              "8      Very difficult                     Maybe                      No   \n",
              "9          Don't know                        No                      No   \n",
              "\n",
              "      coworkers supervisor mental_health_interview phys_health_interview  \\\n",
              "0  Some of them        Yes                      No                 Maybe   \n",
              "1            No         No                      No                    No   \n",
              "2           Yes        Yes                     Yes                   Yes   \n",
              "3  Some of them         No                   Maybe                 Maybe   \n",
              "4  Some of them        Yes                     Yes                   Yes   \n",
              "5           Yes        Yes                      No                 Maybe   \n",
              "6  Some of them         No                      No                    No   \n",
              "7            No         No                      No                    No   \n",
              "8           Yes        Yes                      No                 Maybe   \n",
              "9           Yes        Yes                   Maybe                 Maybe   \n",
              "\n",
              "  mental_vs_physical obs_consequence  \n",
              "0                Yes              No  \n",
              "1         Don't know              No  \n",
              "2                 No              No  \n",
              "3                 No             Yes  \n",
              "4         Don't know              No  \n",
              "5         Don't know              No  \n",
              "6         Don't know              No  \n",
              "7                 No              No  \n",
              "8                 No              No  \n",
              "9                Yes              No  \n",
              "\n",
              "[10 rows x 24 columns]"
            ]
          },
          "execution_count": 10,
          "metadata": {},
          "output_type": "execute_result"
        }
      ],
      "source": [
        "# We take a look at the head to see what input to randomize. \n",
        "\n",
        "df.head(10)"
      ]
    },
    {
      "cell_type": "markdown",
      "metadata": {
        "id": "j2lSE5PlwsaE"
      },
      "source": [
        "Here we go............there must be a simpler way...just cant stackoverflow enough today =)."
      ]
    },
    {
      "cell_type": "code",
      "execution_count": 11,
      "metadata": {
        "colab": {
          "base_uri": "https://localhost:8080/"
        },
        "id": "-nvqZ6XvuWtj",
        "outputId": "9ef449bb-aacf-44f3-82ce-a83a3934aa43"
      },
      "outputs": [
        {
          "name": "stdout",
          "output_type": "stream",
          "text": [
            "unique answers for 'coworkers' are:  ['Some of them' 'No' 'Yes' 'Maybe' nan]\n",
            "unique answers for 'self_employed' are:  [nan 'Yes' 'No' '0' '1']\n",
            "unique answers for 'supervisor' are:  ['Yes' 'No' 'Some of them' 'Maybe' nan]\n",
            "unique answers for 'phys_health_consequence' are:  ['No' 'Yes' 'Maybe' nan]\n",
            "unique answers for 'mental_health_consequence' are:  ['No' 'Maybe' 'Yes' nan]\n",
            "unique answers for 'leave' are:  ['Somewhat easy' \"Don't know\" 'Somewhat difficult' 'Very difficult'\n",
            " 'Very easy' 'Neither easy nor difficult' nan \"I don't know\"]\n",
            "unique answers for 'anonymity' are:  ['Yes' \"Don't know\" 'No' \"I don't know\" nan]\n",
            "unique answers for 'seek_help' are:  ['Yes' \"Don't know\" 'No' nan \"I don't know\"]\n",
            "unique answers for 'wellness_program' are:  ['No' \"Don't know\" 'Yes' nan \"I don't know\"]\n",
            "unique answers for 'benefits' are:  ['Yes' \"Don't know\" 'No' 'Not eligible for coverage / N/A' nan\n",
            " \"I don't know\"]\n",
            "unique answers for 'tech_company' are:  ['Yes' 'No' '1.0' nan '0.0']\n",
            "unique answers for 'no_employees' are:  ['6-25' 'More than 1000' '26-100' '100-500' '1-5' '500-1000' nan]\n",
            "unique answers for 'mental_vs_physical' are:  ['Yes' \"Don't know\" 'No' \"I don't know\" nan]\n",
            "unique answers for 'obs_consequence' are:  ['No' 'Yes' nan]\n",
            "unique answers for 'care_options' are:  ['Not sure' 'No' 'Yes' nan 'I am not sure']\n",
            "unique answers for 'work_interfere' are:  ['Often' 'Rarely' 'Never' 'Sometimes' nan '1-25%' '76-100%' '26-50%'\n",
            " '51-75%']\n"
          ]
        }
      ],
      "source": [
        "print(\"unique answers for 'coworkers' are: \", df['coworkers'].unique() ) \n",
        "print(\"unique answers for 'self_employed' are: \", df['self_employed'].unique() ) \n",
        "print(\"unique answers for 'supervisor' are: \", df['supervisor'].unique() ) \n",
        "print(\"unique answers for 'phys_health_consequence' are: \", df['phys_health_consequence'].unique() ) \n",
        "print(\"unique answers for 'mental_health_consequence' are: \", df['mental_health_consequence'].unique() ) \n",
        "print(\"unique answers for 'leave' are: \", df['leave'].unique() ) \n",
        "print(\"unique answers for 'anonymity' are: \", df['anonymity'].unique() ) \n",
        "print(\"unique answers for 'seek_help' are: \", df['seek_help'].unique() ) \n",
        "print(\"unique answers for 'wellness_program' are: \", df['wellness_program'].unique() ) \n",
        "print(\"unique answers for 'benefits' are: \", df['benefits'].unique() ) \n",
        "print(\"unique answers for 'tech_company' are: \", df['tech_company'].unique() ) \n",
        "print(\"unique answers for 'no_employees' are: \", df['no_employees'].unique() ) \n",
        "print(\"unique answers for 'mental_vs_physical' are: \", df['mental_vs_physical'].unique() ) \n",
        "print(\"unique answers for 'obs_consequence' are: \", df['obs_consequence'].unique() )\n",
        "print(\"unique answers for 'care_options' are: \", df['care_options'].unique() )\n",
        "print(\"unique answers for 'work_interfere' are: \", df['work_interfere'].unique() ) "
      ]
    },
    {
      "cell_type": "code",
      "execution_count": 12,
      "metadata": {
        "colab": {
          "base_uri": "https://localhost:8080/"
        },
        "id": "0gmeXHVusYmB",
        "outputId": "d3304a99-fa24-4020-900d-81d159107832"
      },
      "outputs": [
        {
          "name": "stdout",
          "output_type": "stream",
          "text": [
            "\u001b[1mTotal empty values in the Dataset :\u001b[0m 5357\n"
          ]
        }
      ],
      "source": [
        "# Imputing First Batch\n",
        "\n",
        "df['Gender'] = df['Gender']\\\n",
        "                      .fillna(pd.Series(np.random.choice(['Male', 'Female'], p=[0.117647, 0.882353], size=len(df))));  #In any case, we are grouping by these two options later. \n",
        "\n",
        "\n",
        "df['self_employed'] = df['self_employed']\\\n",
        "                      .fillna(pd.Series(np.random.choice(['Yes', 'No'], p=[0.117647, 0.882353], size=len(df))));\n",
        "\n",
        "\n",
        "df['supervisor'] = df['supervisor']\\\n",
        "                      .fillna(pd.Series(np.random.choice(['Yes', 'No', 'Some of them', 'Maybe']\n",
        "                                                         , p=[0.467337, 0.214070, 0.173869, 0.144724], size=len(df))));\n",
        "\n",
        "                \n",
        "print('\\033[1m' + 'Total empty values in the Dataset :' + '\\033[0m' , df.isnull().sum().sum())\n",
        "\n"
      ]
    },
    {
      "cell_type": "code",
      "execution_count": 13,
      "metadata": {
        "colab": {
          "base_uri": "https://localhost:8080/"
        },
        "id": "P4CXNPUF_dmR",
        "outputId": "00a2e811-951e-4828-fe6e-b6789d06d865"
      },
      "outputs": [
        {
          "name": "stdout",
          "output_type": "stream",
          "text": [
            "\u001b[1mTotal empty values in the Dataset :\u001b[0m 2429\n"
          ]
        }
      ],
      "source": [
        "# Imputing Second  Batch\n",
        "\n",
        "df['leave'] = df['leave']\\\n",
        "                      .fillna(pd.Series(np.random.choice(['Somewhat easy', 'Don´t know', 'Somewhat difficult', 'Very difficult',\n",
        " 'Very easy', 'Neither easy nor difficult' ], size=len(df))));\n",
        "\n",
        "\n",
        "df['benefits'] = df['benefits']\\\n",
        "                      .fillna(pd.Series(np.random.choice(['Yes', 'Dont know','No', 'Not eligible for coverage']\n",
        "                                                         , p=[0.467337, 0.214070, 0.173869, 0.144724], size=len(df))));\n",
        "\n",
        "df['work_interfere'] = df['work_interfere']\\\n",
        "                      .fillna(pd.Series(np.random.choice(['Sometimes', 'Never', 'Rarely', 'Often']\n",
        "                                                         , p=[0.467337, 0.214070, 0.173869, 0.144724], size=len(df))));\n",
        "                      \n",
        "df['tech_company'] = df['tech_company']\\\n",
        "                      .fillna(pd.Series(np.random.choice(['Yes', 'No'], p=[0.117647, 0.882353], size=len(df))));\n",
        "\n",
        "df['no_employees'] = df['no_employees']\\\n",
        "                      .fillna(pd.Series(np.random.choice(['6-25', 'More than 1000', '26-100' ,'100-500', '1-5' ,'500-1000'], size=len(df))));\n",
        "\n",
        "\n",
        "df['obs_consequence'] = df['obs_consequence']\\\n",
        "                      .fillna(pd.Series(np.random.choice(['Yes', 'No'], p=[0.117647, 0.882353], size=len(df))));\n",
        "\n",
        "\n",
        "\n",
        "print('\\033[1m' + 'Total empty values in the Dataset :' + '\\033[0m' , df.isnull().sum().sum())"
      ]
    },
    {
      "cell_type": "code",
      "execution_count": 14,
      "metadata": {
        "colab": {
          "base_uri": "https://localhost:8080/"
        },
        "id": "DflRAHq9_QPj",
        "outputId": "349ff91b-5038-4916-ea40-05fae3722bf7"
      },
      "outputs": [
        {
          "name": "stdout",
          "output_type": "stream",
          "text": [
            "\u001b[1mTotal empty values in the Dataset :\u001b[0m 0\n"
          ]
        }
      ],
      "source": [
        "# Imputing Third Batch\n",
        "\n",
        "df['coworkers'] = df['coworkers']\\\n",
        "                      .fillna(pd.Series(np.random.choice(['Yes', 'No', 'Some of them']\n",
        "                                                         ,size=len(df))));\n",
        "\n",
        "\n",
        "df['anonymity'] = df['anonymity']\\\n",
        "                      .fillna(pd.Series(np.random.choice(['Yes', 'No', 'Don´t know']\n",
        "                                                         ,size=len(df))));                                                        \n",
        "\n",
        "\n",
        "df['phys_health_consequence'] = df['phys_health_consequence']\\\n",
        "                      .fillna(pd.Series(np.random.choice(['Yes', 'No', 'Maybe']\n",
        "                                                         ,size=len(df))));\n",
        "\n",
        "df['mental_health_consequence'] = df['mental_health_consequence']\\\n",
        "                      .fillna(pd.Series(np.random.choice(['Yes', 'No', 'Maybe']\n",
        "                                                        , size=len(df))));\n",
        "\n",
        "\n",
        "df['seek_help'] = df['seek_help']\\\n",
        "                      .fillna(pd.Series(np.random.choice(['Yes', 'No', 'Don´t know']\n",
        "                                                         ,size=len(df))));\n",
        "\n",
        "\n",
        "df['wellness_program'] = df['wellness_program']\\\n",
        "                      .fillna(pd.Series(np.random.choice(['Yes', 'No', 'Don´t know']\n",
        "                                                         , size=len(df))));\n",
        "\n",
        "df['mental_vs_physical'] = df['mental_vs_physical']\\\n",
        "                      .fillna(pd.Series(np.random.choice(['Yes', 'No', 'Don´t know']\n",
        "                                                         , size=len(df))));\n",
        "\n",
        "df['care_options'] = df['care_options']\\\n",
        "                      .fillna(pd.Series(np.random.choice(['Yes', 'No', 'Not Sure']\n",
        "                                                         , size=len(df))));                                                         \n",
        "\n",
        "print('\\033[1m' + 'Total empty values in the Dataset :' + '\\033[0m' , df.isnull().sum().sum())\n",
        "\n",
        "\n"
      ]
    },
    {
      "cell_type": "markdown",
      "metadata": {
        "id": "gA3R11bD0jOQ"
      },
      "source": [
        "We are done with out missing values, but still preprocessing to do ahead. Lets take a took."
      ]
    },
    {
      "cell_type": "markdown",
      "metadata": {
        "id": "JyN6KhUUG2CD"
      },
      "source": [
        "## Feature Engineering"
      ]
    },
    {
      "cell_type": "markdown",
      "metadata": {
        "id": "T6TAeAuqHg8b"
      },
      "source": [
        "### Column: Gender"
      ]
    },
    {
      "cell_type": "code",
      "execution_count": 15,
      "metadata": {
        "colab": {
          "base_uri": "https://localhost:8080/"
        },
        "id": "1ZN_z9HPDC3P",
        "outputId": "72ee2a12-9221-4308-c70b-fabad849d1c3"
      },
      "outputs": [
        {
          "data": {
            "text/plain": [
              "array(['Female', 'M', 'Male', 'male', 'female', 'm', 'Male-ish', 'maile',\n",
              "       'Trans-female', 'Cis Female', 'F', 'something kinda male?',\n",
              "       'Cis Male', 'Woman', 'f', 'Mal', 'Male (CIS)', 'queer/she/they',\n",
              "       'non-binary', 'Femake', 'woman', 'Make', 'Nah', 'All', 'Enby',\n",
              "       'fluid', 'Genderqueer', 'Female ', 'Androgyne', 'Agender',\n",
              "       'cis-female/femme', 'Guy (-ish) ^_^', 'male leaning androgynous',\n",
              "       'Male ', 'Man', 'Trans woman', 'msle', 'Neuter', 'Female (trans)',\n",
              "       'queer', 'Female (cis)', 'Mail', 'cis male', 'A little about you',\n",
              "       'Malr', 'p', 'femail', 'Cis Man',\n",
              "       'ostensibly male, unsure what that really means',\n",
              "       'I identify as female.', 'female ', 'Bigender',\n",
              "       'Female assigned at birth ', 'man', 'fm', 'Cis female ',\n",
              "       'Transitioned, M2F', 'Genderfluid (born female)',\n",
              "       'Other/Transfeminine', 'Female or Multi-Gender Femme',\n",
              "       'female/woman', 'Cis male', 'Male.', 'Androgynous',\n",
              "       'male 9:1 female, roughly', 'Male (cis)', 'Other', 'nb masculine',\n",
              "       'Cisgender Female', 'Sex is male', 'none of your business',\n",
              "       'genderqueer', 'Human', 'Genderfluid', 'genderqueer woman', 'mtf',\n",
              "       'Queer', 'Dude', 'Fluid',\n",
              "       \"I'm a man why didn't you make this a drop down question. You should of asked sex? And I would of answered yes please. Seriously how much text can this take? \",\n",
              "       'mail', 'M|', 'Male/genderqueer', 'fem', 'Nonbinary', 'male ',\n",
              "       'human', 'Female (props for making this a freeform field, though)',\n",
              "       ' Female', 'Unicorn', 'Male (trans, FtM)', 'Cis-woman', 'cisdude',\n",
              "       'Genderflux demi-girl', 'female-bodied; no feelings about gender',\n",
              "       'cis man', 'AFAB', 'Transgender woman', 'MALE'], dtype=object)"
            ]
          },
          "execution_count": 15,
          "metadata": {},
          "output_type": "execute_result"
        }
      ],
      "source": [
        "#Lets see how many genders are present. \n",
        "\n",
        "df.Gender.unique()"
      ]
    },
    {
      "cell_type": "markdown",
      "metadata": {
        "id": "bxqs0EotD3Dx"
      },
      "source": [
        "Objectively, as this is not a gender-oriented reasearch, all this options must be condensed upon \"Male\", \"Female\" and \"Other\", which are the available options at a state and business level for classifying individuals. We proceed to re-categorize. Not the best idea to survey these variables with open questions... "
      ]
    },
    {
      "cell_type": "code",
      "execution_count": 16,
      "metadata": {
        "colab": {
          "base_uri": "https://localhost:8080/"
        },
        "id": "-kTKPOVgD_L4",
        "outputId": "687068d2-27c1-48f1-f89e-c71176c83e41"
      },
      "outputs": [
        {
          "name": "stdout",
          "output_type": "stream",
          "text": [
            "\u001b[1mUnique values in updated Gender column :\u001b[0m ['F' 'M' 'other']\n"
          ]
        }
      ],
      "source": [
        "other  = ['Transgender woman','AFAB','Unicorn','Cis-woman', 'cisdude', 'Genderflux demi-girl', 'female-bodied; no feelings about gender', 'cis man' 'AFAB' 'Transgender woman''Unicorn' ,'Male (trans, FtM)','human','Nonbinary','Male/genderqueer', 'mail',\"I'm a man why didn't you make this a drop down question. You should of asked sex? And I would of answered yes please. Seriously how much text can this take? \", 'none of your business', 'genderqueer', 'Human', 'Genderfluid', 'genderqueer woman', 'mtf', 'Queer', 'Dude', 'Fluid','Other','male 9:1 female, roughly','Androgynous','Transitioned, M2F', 'Genderfluid (born female)', 'Other/Transfeminine', 'Female or Multi-Gender Femme','fm','other', 'Bigender','A little about you', 'p', 'Nah', 'Enby', 'Trans-female','something kinda male?','queer/she/they','non-binary','All','fluid', 'Genderqueer','Androgyne', 'Agender','Guy (-ish) ^_^', 'male leaning androgynous','Trans woman','Neuter', 'Female (trans)','queer','ostensibly male, unsure what that really means','trans']\n",
        "male   = ['cis man','MALE','male ','M|','Sex is male','nb masculine','Male (cis)','Cis male', 'Male.','man','male', 'Male','M', 'm', 'Male-ish', 'maile','Cis Male','Mal', 'Male (CIS)','Make','Male ', 'Man', 'msle','cis male', 'Cis Man','Malr','Mail']\n",
        "female = [' Female','Female (props for making this a freeform field, though)','fem','Cisgender Female','female/woman','Cis female ','Female assigned at birth ','I identify as female.', 'female ','Female', 'female','Cis Female', 'F','f','Femake', 'woman','Female ','cis-female/femme','Female (cis)','femail','Woman','female']\n",
        "\n",
        "df['Gender'].replace(to_replace = other, value = 'other', inplace=True)\n",
        "df['Gender'].replace(to_replace = male, value = 'M', inplace=True)\n",
        "df['Gender'].replace(to_replace = female, value = 'F', inplace=True)\n",
        "\n",
        "print('\\033[1m' + 'Unique values in updated Gender column :' + '\\033[0m', df.Gender.unique())"
      ]
    },
    {
      "cell_type": "markdown",
      "metadata": {
        "id": "WpwqOssPHf4r"
      },
      "source": [
        "### Column: Age"
      ]
    },
    {
      "cell_type": "code",
      "execution_count": 17,
      "metadata": {
        "colab": {
          "base_uri": "https://localhost:8080/"
        },
        "id": "6RX3T92ZHAZT",
        "outputId": "047dfc94-62f7-4cdf-cb50-9e01abd7fdcd"
      },
      "outputs": [
        {
          "name": "stdout",
          "output_type": "stream",
          "text": [
            "\u001b[1mRange of column Age (Before) :\u001b[0m (-1726, 99999999999)\n"
          ]
        }
      ],
      "source": [
        "print('\\033[1m' + 'Range of column Age (Before) :' + '\\033[0m', (df.Age.min(), df.Age.max()))"
      ]
    },
    {
      "cell_type": "markdown",
      "metadata": {
        "id": "baL2Y8jjHotr"
      },
      "source": [
        "Again, the damage taken for not using restricted optiones to survey (0-99years). We proceed to drop <15 and 70> years. (highly unlikely to be working at that age). "
      ]
    },
    {
      "cell_type": "code",
      "execution_count": 18,
      "metadata": {
        "colab": {
          "base_uri": "https://localhost:8080/"
        },
        "id": "KMmfHPJwI5ya",
        "outputId": "375a3401-c33d-4f0e-81b4-b5bbc395ae96"
      },
      "outputs": [
        {
          "name": "stdout",
          "output_type": "stream",
          "text": [
            "\u001b[1mRange of column Age :\u001b[0m (15, 70)\n"
          ]
        }
      ],
      "source": [
        "age = []\n",
        "for i in df.Age:\n",
        "    if (i<15) or (i>70):\n",
        "        age.append(31)   # Median\n",
        "    else:\n",
        "        age.append(i)\n",
        "\n",
        "df['Age'] = age\n",
        "\n",
        "print('\\033[1m' + 'Range of column Age :' + '\\033[0m', (df.Age.min(), df.Age.max()))"
      ]
    },
    {
      "cell_type": "markdown",
      "metadata": {
        "id": "jV4BztBrB0Dt"
      },
      "source": [
        "We are done with Age column now. "
      ]
    },
    {
      "cell_type": "markdown",
      "metadata": {
        "id": "HelAuE1IP8q9"
      },
      "source": [
        "### Column: Self Employed"
      ]
    },
    {
      "cell_type": "code",
      "execution_count": 19,
      "metadata": {
        "colab": {
          "base_uri": "https://localhost:8080/"
        },
        "id": "PolwplrRQEia",
        "outputId": "1de3db9d-bf33-4ac2-b009-42547b66b91a"
      },
      "outputs": [
        {
          "name": "stdout",
          "output_type": "stream",
          "text": [
            "\u001b[1mUnique values in self_employed column :\u001b[0m ['Yes' 'No' '0' '1']\n"
          ]
        }
      ],
      "source": [
        "print('\\033[1m' + 'Unique values in self_employed column :' + '\\033[0m', df.self_employed.unique())"
      ]
    },
    {
      "cell_type": "markdown",
      "metadata": {
        "id": "gq4fYX8rQQIw"
      },
      "source": [
        "We will asume 0=no, 1=yes,"
      ]
    },
    {
      "cell_type": "code",
      "execution_count": 20,
      "metadata": {
        "colab": {
          "base_uri": "https://localhost:8080/"
        },
        "id": "aR8z5I-LQS45",
        "outputId": "f9131f9b-54ad-4a68-fd51-158867c99ee0"
      },
      "outputs": [
        {
          "name": "stdout",
          "output_type": "stream",
          "text": [
            "\u001b[1mUnique values in self_employed column :\u001b[0m ['Yes' 'No']\n"
          ]
        }
      ],
      "source": [
        "Yes = ['1']\n",
        "No = ['0']\n",
        "\n",
        "df['self_employed'].replace(to_replace = Yes, value = 'Yes', inplace=True)\n",
        "df['self_employed'].replace(to_replace = No, value = 'No', inplace=True)\n",
        "\n",
        "print('\\033[1m' + 'Unique values in self_employed column :' + '\\033[0m', df.self_employed.unique())"
      ]
    },
    {
      "cell_type": "markdown",
      "metadata": {
        "id": "Y6gwTZb-RDbC"
      },
      "source": [
        "### Column: Treatment"
      ]
    },
    {
      "cell_type": "code",
      "execution_count": 21,
      "metadata": {
        "colab": {
          "base_uri": "https://localhost:8080/"
        },
        "id": "JDuC-p4oRIQg",
        "outputId": "54f87f69-fffe-428d-8221-bc34c0c92355"
      },
      "outputs": [
        {
          "name": "stdout",
          "output_type": "stream",
          "text": [
            "\u001b[1mUnique values in treatment column :\u001b[0m ['Yes' 'No' '0' '1']\n"
          ]
        }
      ],
      "source": [
        "print('\\033[1m' + 'Unique values in treatment column :' + '\\033[0m', df.treatment.unique())"
      ]
    },
    {
      "cell_type": "code",
      "execution_count": 22,
      "metadata": {
        "colab": {
          "base_uri": "https://localhost:8080/"
        },
        "id": "Px-MCHOmRQRq",
        "outputId": "39e66c06-80f5-41b5-91c4-94f5f270b26b"
      },
      "outputs": [
        {
          "name": "stdout",
          "output_type": "stream",
          "text": [
            "\u001b[1mUnique values in treatment column :\u001b[0m ['Yes' 'No']\n"
          ]
        }
      ],
      "source": [
        "Yes = ['1']\n",
        "No = ['0']\n",
        "\n",
        "df['treatment'].replace(to_replace = Yes, value = 'Yes', inplace=True)\n",
        "df['treatment'].replace(to_replace = No, value = 'No', inplace=True)\n",
        "\n",
        "print('\\033[1m' + 'Unique values in treatment column :' + '\\033[0m', df.treatment.unique())"
      ]
    },
    {
      "cell_type": "markdown",
      "metadata": {
        "id": "CYeO-wFGRk3f"
      },
      "source": [
        "### Column: Wellness Program"
      ]
    },
    {
      "cell_type": "code",
      "execution_count": 23,
      "metadata": {
        "colab": {
          "base_uri": "https://localhost:8080/"
        },
        "id": "3nagDbWxRkAg",
        "outputId": "460e2833-a2a6-41e3-8a43-0fe512e03d5e"
      },
      "outputs": [
        {
          "name": "stdout",
          "output_type": "stream",
          "text": [
            "\u001b[1mUnique values in wellness_program column :\u001b[0m ['No' \"Don't know\" 'Yes' \"I don't know\" 'Don´t know']\n"
          ]
        }
      ],
      "source": [
        "print('\\033[1m' + 'Unique values in wellness_program column :' + '\\033[0m', df.wellness_program.unique())"
      ]
    },
    {
      "cell_type": "code",
      "execution_count": 24,
      "metadata": {
        "colab": {
          "base_uri": "https://localhost:8080/"
        },
        "id": "e1ObwXtFRynn",
        "outputId": "3ef7a427-2c27-425e-a8f4-9f52eac64b28"
      },
      "outputs": [
        {
          "name": "stdout",
          "output_type": "stream",
          "text": [
            "\u001b[1mUnique values in wellness_program column :\u001b[0m ['No' 'Don´t Know' 'Yes']\n"
          ]
        }
      ],
      "source": [
        "Dont_know = [\"Don't know\" , 'Don´t know' , \"I don't know\" ]\n",
        "\n",
        "df['wellness_program'].replace(to_replace = Dont_know, value = 'Don´t Know', inplace=True)\n",
        "\n",
        "\n",
        "print('\\033[1m' + 'Unique values in wellness_program column :' + '\\033[0m', df.wellness_program.unique())"
      ]
    },
    {
      "cell_type": "markdown",
      "metadata": {
        "id": "NhJQHXucSkrw"
      },
      "source": [
        "### Column: Seek Help"
      ]
    },
    {
      "cell_type": "code",
      "execution_count": 25,
      "metadata": {
        "colab": {
          "base_uri": "https://localhost:8080/"
        },
        "id": "H4QvuQmsSmgl",
        "outputId": "0074f498-4264-4e87-8166-e379d9889e86"
      },
      "outputs": [
        {
          "name": "stdout",
          "output_type": "stream",
          "text": [
            "\u001b[1mUnique values in seek_help column :\u001b[0m ['Yes' \"Don't know\" 'No' 'Don´t know' \"I don't know\"]\n"
          ]
        }
      ],
      "source": [
        "print('\\033[1m' + 'Unique values in seek_help column :' + '\\033[0m', df.seek_help.unique())"
      ]
    },
    {
      "cell_type": "code",
      "execution_count": 26,
      "metadata": {
        "colab": {
          "base_uri": "https://localhost:8080/"
        },
        "id": "8QFALCWVStjW",
        "outputId": "37713ea1-00ad-495a-d497-4ac9b7245e7d"
      },
      "outputs": [
        {
          "name": "stdout",
          "output_type": "stream",
          "text": [
            "\u001b[1mUnique values in seek_help column :\u001b[0m ['Yes' 'Don´t Know' 'No']\n"
          ]
        }
      ],
      "source": [
        "Dont_know = [\"Don't know\" , 'Don´t know' , \"I don't know\" ]\n",
        "\n",
        "df['seek_help'].replace(to_replace = Dont_know, value = 'Don´t Know', inplace=True)\n",
        "\n",
        "\n",
        "print('\\033[1m' + 'Unique values in seek_help column :' + '\\033[0m', df.seek_help.unique())"
      ]
    },
    {
      "cell_type": "markdown",
      "metadata": {
        "id": "tgqDpcpiTYP3"
      },
      "source": [
        "### Column: Work Interfere"
      ]
    },
    {
      "cell_type": "code",
      "execution_count": 27,
      "metadata": {
        "colab": {
          "base_uri": "https://localhost:8080/"
        },
        "id": "a_LJMiV0TakN",
        "outputId": "65d7c546-35bd-44a0-f32b-5481b3094a39"
      },
      "outputs": [
        {
          "name": "stdout",
          "output_type": "stream",
          "text": [
            "\u001b[1mUnique values in work_interfere column :\u001b[0m ['Often' 'Rarely' 'Never' 'Sometimes' '1-25%' '76-100%' '26-50%' '51-75%']\n"
          ]
        }
      ],
      "source": [
        "print('\\033[1m' + 'Unique values in work_interfere column :' + '\\033[0m', df.work_interfere.unique())"
      ]
    },
    {
      "cell_type": "markdown",
      "metadata": {
        "id": "rshUJF15Tgf-"
      },
      "source": [
        "We´ll do our own variable ops and equalize the following:\n",
        "\n",
        "- Rarely: '1-25%'\n",
        "- Sometimes: '26-50%'\n",
        "- Often: '51-75%'\n",
        "- Very Often: '76-100%'"
      ]
    },
    {
      "cell_type": "code",
      "execution_count": 28,
      "metadata": {
        "colab": {
          "base_uri": "https://localhost:8080/"
        },
        "id": "FKjOvsBOUEFl",
        "outputId": "a96d1b98-cfad-4be4-b719-fd6f1e4056b0"
      },
      "outputs": [
        {
          "name": "stdout",
          "output_type": "stream",
          "text": [
            "\u001b[1mUnique values in work_interfere column :\u001b[0m ['Often' 'Rarely' 'Never' 'Sometimes' 'Very Often']\n"
          ]
        }
      ],
      "source": [
        "Rarely = ['1-25%']\n",
        "Sometimes = ['26-50%']\n",
        "Often = [ '51-75%']\n",
        "VeryOften = ['76-100%']\n",
        "\n",
        "df['work_interfere'].replace(to_replace = Rarely, value = 'Rarely', inplace=True)\n",
        "df['work_interfere'].replace(to_replace = Sometimes, value = 'Sometimes', inplace=True)\n",
        "df['work_interfere'].replace(to_replace = Often, value = 'Often', inplace=True)\n",
        "df['work_interfere'].replace(to_replace = VeryOften, value = 'Very Often', inplace=True)\n",
        "\n",
        "print('\\033[1m' + 'Unique values in work_interfere column :' + '\\033[0m', df.work_interfere.unique())"
      ]
    },
    {
      "cell_type": "markdown",
      "metadata": {
        "id": "O0PsOBd5VBPy"
      },
      "source": [
        "### Column: Tech Company"
      ]
    },
    {
      "cell_type": "code",
      "execution_count": 29,
      "metadata": {
        "colab": {
          "base_uri": "https://localhost:8080/"
        },
        "id": "RsUSLS0tVFkL",
        "outputId": "c25d7956-7b91-4d9a-eda7-06b39710eb33"
      },
      "outputs": [
        {
          "name": "stdout",
          "output_type": "stream",
          "text": [
            "\u001b[1mUnique values in tech_company column :\u001b[0m ['Yes' 'No' '1.0' '0.0']\n"
          ]
        }
      ],
      "source": [
        "print('\\033[1m' + 'Unique values in tech_company column :' + '\\033[0m', df.tech_company.unique())"
      ]
    },
    {
      "cell_type": "code",
      "execution_count": 30,
      "metadata": {
        "colab": {
          "base_uri": "https://localhost:8080/"
        },
        "id": "PmNTIy-lVLpL",
        "outputId": "252c5dcc-2c19-4c35-ea16-a38cf96a7753"
      },
      "outputs": [
        {
          "name": "stdout",
          "output_type": "stream",
          "text": [
            "\u001b[1mUnique values in tech_company column :\u001b[0m ['Yes' 'No']\n"
          ]
        }
      ],
      "source": [
        "Yes = ['1.0']\n",
        "No = ['0.0']\n",
        "\n",
        "df['tech_company'].replace(to_replace = Yes, value = 'Yes', inplace=True)\n",
        "df['tech_company'].replace(to_replace = No, value = 'No', inplace=True)\n",
        "\n",
        "print('\\033[1m' + 'Unique values in tech_company column :' + '\\033[0m', df.tech_company.unique())"
      ]
    },
    {
      "cell_type": "markdown",
      "metadata": {
        "id": "jH9-lkmAVhMp"
      },
      "source": [
        "Column: Benefits"
      ]
    },
    {
      "cell_type": "code",
      "execution_count": 31,
      "metadata": {
        "colab": {
          "base_uri": "https://localhost:8080/"
        },
        "id": "FoB7UykKVmSp",
        "outputId": "c71595da-8b52-4a00-a9b6-72e1f65ee9a5"
      },
      "outputs": [
        {
          "name": "stdout",
          "output_type": "stream",
          "text": [
            "\u001b[1mUnique values in benefits column :\u001b[0m ['Yes' \"Don't know\" 'No' 'Not eligible for coverage / N/A' \"I don't know\"\n",
            " 'Not eligible for coverage' 'Dont know']\n"
          ]
        }
      ],
      "source": [
        "print('\\033[1m' + 'Unique values in benefits column :' + '\\033[0m', df.benefits.unique())"
      ]
    },
    {
      "cell_type": "code",
      "execution_count": 32,
      "metadata": {
        "colab": {
          "base_uri": "https://localhost:8080/"
        },
        "id": "KYnp-iTwVpkZ",
        "outputId": "584336bb-6272-4d85-d455-ccfd3e664394"
      },
      "outputs": [
        {
          "name": "stdout",
          "output_type": "stream",
          "text": [
            "\u001b[1mUnique values in benefits column :\u001b[0m ['Yes' 'Don´t Know' 'No' 'Not Elegible']\n"
          ]
        }
      ],
      "source": [
        "DontKnow = [\"Don't know\", \"I don't know\", 'Dont know']\n",
        "NotEle = ['Not eligible for coverage / N/A', 'Not eligible for coverage']\n",
        "\n",
        "\n",
        "df['benefits'].replace(to_replace = DontKnow, value = 'Don´t Know', inplace=True)\n",
        "df['benefits'].replace(to_replace = NotEle, value = 'Not Elegible', inplace=True)\n",
        "\n",
        "print('\\033[1m' + 'Unique values in benefits column :' + '\\033[0m', df.benefits.unique())"
      ]
    },
    {
      "cell_type": "markdown",
      "metadata": {
        "id": "reglBwx3W6Uo"
      },
      "source": [
        "### Column: Care Options"
      ]
    },
    {
      "cell_type": "code",
      "execution_count": 33,
      "metadata": {
        "colab": {
          "base_uri": "https://localhost:8080/"
        },
        "id": "kUi1vyw1XV2e",
        "outputId": "e6a28693-c4c9-4ec1-c013-484d021196a0"
      },
      "outputs": [
        {
          "name": "stdout",
          "output_type": "stream",
          "text": [
            "\u001b[1mUnique values in care_options column :\u001b[0m ['Not sure' 'No' 'Yes' 'Not Sure' 'I am not sure']\n"
          ]
        }
      ],
      "source": [
        "print('\\033[1m' + 'Unique values in care_options column :' + '\\033[0m', df.care_options.unique())"
      ]
    },
    {
      "cell_type": "code",
      "execution_count": 38,
      "metadata": {},
      "outputs": [
        {
          "name": "stdout",
          "output_type": "stream",
          "text": [
            "\u001b[1mUnique values in care_options column :\u001b[0m ['Not sure' 'No' 'Yes']\n"
          ]
        }
      ],
      "source": [
        "NotSure = ['Not sure', 'Not Sure', 'I am not sure']\n",
        "\n",
        "\n",
        "\n",
        "df['care_options'].replace(to_replace = NotSure, value = 'Not sure', inplace=True)\n",
        "\n",
        "\n",
        "print('\\033[1m' + 'Unique values in care_options column :' + '\\033[0m', df.care_options.unique())"
      ]
    },
    {
      "cell_type": "markdown",
      "metadata": {
        "id": "QFWG69eiW8Iq"
      },
      "source": [
        "### Column: Anonimity"
      ]
    },
    {
      "cell_type": "code",
      "execution_count": 34,
      "metadata": {
        "colab": {
          "base_uri": "https://localhost:8080/"
        },
        "id": "UF17qvEvXdLo",
        "outputId": "4e30ecd4-1a07-46d7-c1d4-c22753664c4b"
      },
      "outputs": [
        {
          "name": "stdout",
          "output_type": "stream",
          "text": [
            "\u001b[1mUnique values in anonymity column :\u001b[0m ['Yes' \"Don't know\" 'No' \"I don't know\" 'Don´t know']\n"
          ]
        }
      ],
      "source": [
        "print('\\033[1m' + 'Unique values in anonymity column :' + '\\033[0m', df.anonymity.unique())"
      ]
    },
    {
      "cell_type": "code",
      "execution_count": 40,
      "metadata": {},
      "outputs": [
        {
          "name": "stdout",
          "output_type": "stream",
          "text": [
            "\u001b[1mUnique values in anonymity column :\u001b[0m ['Yes' 'Don´t Know' 'No']\n"
          ]
        }
      ],
      "source": [
        "DontKnow = [\"Don't know\", \"I don't know\", 'Don´t know']\n",
        "\n",
        "df['anonymity'].replace(to_replace = DontKnow, value = 'Don´t Know', inplace=True)\n",
        "\n",
        "print('\\033[1m' + 'Unique values in anonymity column :' + '\\033[0m', df.anonymity.unique())"
      ]
    },
    {
      "cell_type": "markdown",
      "metadata": {
        "id": "Tm9JRxEoXAzw"
      },
      "source": [
        "### Column: Leave"
      ]
    },
    {
      "cell_type": "code",
      "execution_count": 35,
      "metadata": {
        "colab": {
          "base_uri": "https://localhost:8080/"
        },
        "id": "bdEKkjOWXmJW",
        "outputId": "c407a7fb-b5b8-4cce-8b93-2ca2b2e8b5fa"
      },
      "outputs": [
        {
          "name": "stdout",
          "output_type": "stream",
          "text": [
            "\u001b[1mUnique values in leave column :\u001b[0m ['Somewhat easy' \"Don't know\" 'Somewhat difficult' 'Very difficult'\n",
            " 'Very easy' 'Neither easy nor difficult' 'Don´t know' \"I don't know\"]\n"
          ]
        }
      ],
      "source": [
        "print('\\033[1m' + 'Unique values in leave column :' + '\\033[0m', df.leave.unique())"
      ]
    },
    {
      "cell_type": "code",
      "execution_count": 41,
      "metadata": {},
      "outputs": [
        {
          "name": "stdout",
          "output_type": "stream",
          "text": [
            "\u001b[1mUnique values in leave column :\u001b[0m ['Somewhat easy' 'Don´t Know' 'Somewhat difficult' 'Very difficult'\n",
            " 'Very easy' 'Neither easy nor difficult']\n"
          ]
        }
      ],
      "source": [
        "DontKnow = [\"Don't know\", 'Don´t know', \"I don't know\"]\n",
        "\n",
        "df['leave'].replace(to_replace = DontKnow, value = 'Don´t Know', inplace=True)\n",
        "\n",
        "print('\\033[1m' + 'Unique values in leave column :' + '\\033[0m', df.leave.unique())"
      ]
    },
    {
      "cell_type": "markdown",
      "metadata": {
        "id": "3n1fO7D2XPcB"
      },
      "source": [
        "### Column: Mental vs. Physical"
      ]
    },
    {
      "cell_type": "code",
      "execution_count": 36,
      "metadata": {
        "colab": {
          "base_uri": "https://localhost:8080/"
        },
        "id": "P3tJkR40Xr0m",
        "outputId": "c4a0a468-452e-404c-f82c-77a7b5e040ca"
      },
      "outputs": [
        {
          "name": "stdout",
          "output_type": "stream",
          "text": [
            "\u001b[1mUnique values in mental_vs_physical column :\u001b[0m ['Yes' \"Don't know\" 'No' \"I don't know\" 'Don´t know']\n"
          ]
        }
      ],
      "source": [
        "print('\\033[1m' + 'Unique values in mental_vs_physical column :' + '\\033[0m', df.mental_vs_physical.unique())"
      ]
    },
    {
      "cell_type": "code",
      "execution_count": 42,
      "metadata": {},
      "outputs": [
        {
          "name": "stdout",
          "output_type": "stream",
          "text": [
            "\u001b[1mUnique values in mental_vs_physical column :\u001b[0m ['Yes' 'Don´t Know' 'No']\n"
          ]
        }
      ],
      "source": [
        "DontKnow = [\"Don't know\", \"I don't know\", 'Don´t know']\n",
        "\n",
        "df['mental_vs_physical'].replace(to_replace = DontKnow, value = 'Don´t Know', inplace=True)\n",
        "\n",
        "print('\\033[1m' + 'Unique values in mental_vs_physical column :' + '\\033[0m', df.mental_vs_physical.unique())"
      ]
    },
    {
      "cell_type": "markdown",
      "metadata": {
        "id": "SVIMn8DSJj8W"
      },
      "source": [
        "# Data Visualization"
      ]
    },
    {
      "cell_type": "markdown",
      "metadata": {
        "id": "wM0Bn90HJpQ9"
      },
      "source": [
        "## Univariate Data Analysis"
      ]
    },
    {
      "cell_type": "markdown",
      "metadata": {
        "id": "2gwLOYRTPN3j"
      },
      "source": [
        "Categorical Variables"
      ]
    },
    {
      "cell_type": "code",
      "execution_count": 43,
      "metadata": {
        "colab": {
          "base_uri": "https://localhost:8080/",
          "height": 542
        },
        "id": "C70ePOYlPPpN",
        "outputId": "fa3f193e-e42e-4f4a-a606-20023cd7b39d"
      },
      "outputs": [
        {
          "data": {
            "application/vnd.plotly.v1+json": {
              "config": {
                "plotlyServerURL": "https://plot.ly"
              },
              "data": [
                {
                  "hole": 0.5,
                  "hoverinfo": "label+percent",
                  "labels": [
                    "M",
                    "F",
                    "other"
                  ],
                  "marker": {
                    "colors": [
                      "#5302a3",
                      "#8b0aa5",
                      "#b83289",
                      "#db5c68",
                      "#f48849",
                      "#febd2a"
                    ],
                    "line": {
                      "color": "#000000",
                      "width": 1
                    }
                  },
                  "opacity": 0.8,
                  "showlegend": false,
                  "textfont": {
                    "size": 14
                  },
                  "textinfo": "label+percent",
                  "title": {
                    "font": {
                      "size": 18
                    },
                    "text": "Distribution of Gender"
                  },
                  "type": "pie",
                  "values": [
                    2045,
                    586,
                    61
                  ]
                },
                {
                  "hole": 0.5,
                  "hoverinfo": "label+percent",
                  "labels": [
                    "No",
                    "Yes"
                  ],
                  "marker": {
                    "colors": [
                      "#5302a3",
                      "#8b0aa5",
                      "#b83289",
                      "#db5c68",
                      "#f48849",
                      "#febd2a"
                    ],
                    "line": {
                      "color": "#000000",
                      "width": 1
                    }
                  },
                  "opacity": 0.8,
                  "showlegend": false,
                  "textfont": {
                    "size": 14
                  },
                  "textinfo": "label+percent",
                  "title": {
                    "font": {
                      "size": 18
                    },
                    "text": "Distribution of self_employed"
                  },
                  "type": "pie",
                  "values": [
                    2255,
                    437
                  ],
                  "visible": false
                },
                {
                  "hole": 0.5,
                  "hoverinfo": "label+percent",
                  "labels": [
                    "No",
                    "Yes",
                    "I don't know"
                  ],
                  "marker": {
                    "colors": [
                      "#5302a3",
                      "#8b0aa5",
                      "#b83289",
                      "#db5c68",
                      "#f48849",
                      "#febd2a"
                    ],
                    "line": {
                      "color": "#000000",
                      "width": 1
                    }
                  },
                  "opacity": 0.8,
                  "showlegend": false,
                  "textfont": {
                    "size": 14
                  },
                  "textinfo": "label+percent",
                  "title": {
                    "font": {
                      "size": 18
                    },
                    "text": "Distribution of family_history"
                  },
                  "type": "pie",
                  "values": [
                    1255,
                    1162,
                    275
                  ],
                  "visible": false
                },
                {
                  "hole": 0.5,
                  "hoverinfo": "label+percent",
                  "labels": [
                    "Yes",
                    "No"
                  ],
                  "marker": {
                    "colors": [
                      "#5302a3",
                      "#8b0aa5",
                      "#b83289",
                      "#db5c68",
                      "#f48849",
                      "#febd2a"
                    ],
                    "line": {
                      "color": "#000000",
                      "width": 1
                    }
                  },
                  "opacity": 0.8,
                  "showlegend": false,
                  "textfont": {
                    "size": 14
                  },
                  "textinfo": "label+percent",
                  "title": {
                    "font": {
                      "size": 18
                    },
                    "text": "Distribution of treatment"
                  },
                  "type": "pie",
                  "values": [
                    1476,
                    1216
                  ],
                  "visible": false
                },
                {
                  "hole": 0.5,
                  "hoverinfo": "label+percent",
                  "labels": [
                    "Sometimes",
                    "Rarely",
                    "Never",
                    "Often",
                    "Very Often"
                  ],
                  "marker": {
                    "colors": [
                      "#5302a3",
                      "#8b0aa5",
                      "#b83289",
                      "#db5c68",
                      "#f48849",
                      "#febd2a"
                    ],
                    "line": {
                      "color": "#000000",
                      "width": 1
                    }
                  },
                  "opacity": 0.8,
                  "showlegend": false,
                  "textfont": {
                    "size": 14
                  },
                  "textinfo": "label+percent",
                  "title": {
                    "font": {
                      "size": 18
                    },
                    "text": "Distribution of work_interfere"
                  },
                  "type": "pie",
                  "values": [
                    1242,
                    530,
                    508,
                    398,
                    14
                  ],
                  "visible": false
                },
                {
                  "hole": 0.5,
                  "hoverinfo": "label+percent",
                  "labels": [
                    "26-100",
                    "More than 1000",
                    "6-25",
                    "100-500",
                    "1-5",
                    "500-1000"
                  ],
                  "marker": {
                    "colors": [
                      "#5302a3",
                      "#8b0aa5",
                      "#b83289",
                      "#db5c68",
                      "#f48849",
                      "#febd2a"
                    ],
                    "line": {
                      "color": "#000000",
                      "width": 1
                    }
                  },
                  "opacity": 0.8,
                  "showlegend": false,
                  "textfont": {
                    "size": 14
                  },
                  "textinfo": "label+percent",
                  "title": {
                    "font": {
                      "size": 18
                    },
                    "text": "Distribution of no_employees"
                  },
                  "type": "pie",
                  "values": [
                    631,
                    574,
                    549,
                    475,
                    277,
                    186
                  ],
                  "visible": false
                },
                {
                  "hole": 0.5,
                  "hoverinfo": "label+percent",
                  "labels": [
                    "No",
                    "Sometimes",
                    "Yes",
                    "Always",
                    "Never"
                  ],
                  "marker": {
                    "colors": [
                      "#5302a3",
                      "#8b0aa5",
                      "#b83289",
                      "#db5c68",
                      "#f48849",
                      "#febd2a"
                    ],
                    "line": {
                      "color": "#000000",
                      "width": 1
                    }
                  },
                  "opacity": 0.8,
                  "showlegend": false,
                  "textfont": {
                    "size": 14
                  },
                  "textinfo": "label+percent",
                  "title": {
                    "font": {
                      "size": 18
                    },
                    "text": "Distribution of remote_work"
                  },
                  "type": "pie",
                  "values": [
                    883,
                    757,
                    376,
                    343,
                    333
                  ],
                  "visible": false
                },
                {
                  "hole": 0.5,
                  "hoverinfo": "label+percent",
                  "labels": [
                    "Yes",
                    "No"
                  ],
                  "marker": {
                    "colors": [
                      "#5302a3",
                      "#8b0aa5",
                      "#b83289",
                      "#db5c68",
                      "#f48849",
                      "#febd2a"
                    ],
                    "line": {
                      "color": "#000000",
                      "width": 1
                    }
                  },
                  "opacity": 0.8,
                  "showlegend": false,
                  "textfont": {
                    "size": 14
                  },
                  "textinfo": "label+percent",
                  "title": {
                    "font": {
                      "size": 18
                    },
                    "text": "Distribution of tech_company"
                  },
                  "type": "pie",
                  "values": [
                    1939,
                    753
                  ],
                  "visible": false
                },
                {
                  "hole": 0.5,
                  "hoverinfo": "label+percent",
                  "labels": [
                    "Yes",
                    "Don´t Know",
                    "No",
                    "Not Elegible"
                  ],
                  "marker": {
                    "colors": [
                      "#5302a3",
                      "#8b0aa5",
                      "#b83289",
                      "#db5c68",
                      "#f48849",
                      "#febd2a"
                    ],
                    "line": {
                      "color": "#000000",
                      "width": 1
                    }
                  },
                  "opacity": 0.8,
                  "showlegend": false,
                  "textfont": {
                    "size": 14
                  },
                  "textinfo": "label+percent",
                  "title": {
                    "font": {
                      "size": 18
                    },
                    "text": "Distribution of benefits"
                  },
                  "type": "pie",
                  "values": [
                    1148,
                    779,
                    638,
                    127
                  ],
                  "visible": false
                },
                {
                  "hole": 0.5,
                  "hoverinfo": "label+percent",
                  "labels": [
                    "No",
                    "Yes",
                    "Not sure"
                  ],
                  "marker": {
                    "colors": [
                      "#5302a3",
                      "#8b0aa5",
                      "#b83289",
                      "#db5c68",
                      "#f48849",
                      "#febd2a"
                    ],
                    "line": {
                      "color": "#000000",
                      "width": 1
                    }
                  },
                  "opacity": 0.8,
                  "showlegend": false,
                  "textfont": {
                    "size": 14
                  },
                  "textinfo": "label+percent",
                  "title": {
                    "font": {
                      "size": 18
                    },
                    "text": "Distribution of care_options"
                  },
                  "type": "pie",
                  "values": [
                    1000,
                    869,
                    823
                  ],
                  "visible": false
                },
                {
                  "hole": 0.5,
                  "hoverinfo": "label+percent",
                  "labels": [
                    "No",
                    "Yes",
                    "Don´t Know"
                  ],
                  "marker": {
                    "colors": [
                      "#5302a3",
                      "#8b0aa5",
                      "#b83289",
                      "#db5c68",
                      "#f48849",
                      "#febd2a"
                    ],
                    "line": {
                      "color": "#000000",
                      "width": 1
                    }
                  },
                  "opacity": 0.8,
                  "showlegend": false,
                  "textfont": {
                    "size": 14
                  },
                  "textinfo": "label+percent",
                  "title": {
                    "font": {
                      "size": 18
                    },
                    "text": "Distribution of wellness_program"
                  },
                  "type": "pie",
                  "values": [
                    1747,
                    549,
                    396
                  ],
                  "visible": false
                },
                {
                  "hole": 0.5,
                  "hoverinfo": "label+percent",
                  "labels": [
                    "No",
                    "Don´t Know",
                    "Yes"
                  ],
                  "marker": {
                    "colors": [
                      "#5302a3",
                      "#8b0aa5",
                      "#b83289",
                      "#db5c68",
                      "#f48849",
                      "#febd2a"
                    ],
                    "line": {
                      "color": "#000000",
                      "width": 1
                    }
                  },
                  "opacity": 0.8,
                  "showlegend": false,
                  "textfont": {
                    "size": 14
                  },
                  "textinfo": "label+percent",
                  "title": {
                    "font": {
                      "size": 18
                    },
                    "text": "Distribution of seek_help"
                  },
                  "type": "pie",
                  "values": [
                    1266,
                    785,
                    641
                  ],
                  "visible": false
                },
                {
                  "hole": 0.5,
                  "hoverinfo": "label+percent",
                  "labels": [
                    "Don´t Know",
                    "Yes",
                    "No"
                  ],
                  "marker": {
                    "colors": [
                      "#5302a3",
                      "#8b0aa5",
                      "#b83289",
                      "#db5c68",
                      "#f48849",
                      "#febd2a"
                    ],
                    "line": {
                      "color": "#000000",
                      "width": 1
                    }
                  },
                  "opacity": 0.8,
                  "showlegend": false,
                  "textfont": {
                    "size": 14
                  },
                  "textinfo": "label+percent",
                  "title": {
                    "font": {
                      "size": 18
                    },
                    "text": "Distribution of anonymity"
                  },
                  "type": "pie",
                  "values": [
                    1669,
                    770,
                    253
                  ],
                  "visible": false
                },
                {
                  "hole": 0.5,
                  "hoverinfo": "label+percent",
                  "labels": [
                    "Don´t Know",
                    "Somewhat easy",
                    "Very easy",
                    "Somewhat difficult",
                    "Very difficult",
                    "Neither easy nor difficult"
                  ],
                  "marker": {
                    "colors": [
                      "#5302a3",
                      "#8b0aa5",
                      "#b83289",
                      "#db5c68",
                      "#f48849",
                      "#febd2a"
                    ],
                    "line": {
                      "color": "#000000",
                      "width": 1
                    }
                  },
                  "opacity": 0.8,
                  "showlegend": false,
                  "textfont": {
                    "size": 14
                  },
                  "textinfo": "label+percent",
                  "title": {
                    "font": {
                      "size": 18
                    },
                    "text": "Distribution of leave"
                  },
                  "type": "pie",
                  "values": [
                    767,
                    590,
                    467,
                    376,
                    267,
                    225
                  ],
                  "visible": false
                },
                {
                  "hole": 0.5,
                  "hoverinfo": "label+percent",
                  "labels": [
                    "Maybe",
                    "No",
                    "Yes"
                  ],
                  "marker": {
                    "colors": [
                      "#5302a3",
                      "#8b0aa5",
                      "#b83289",
                      "#db5c68",
                      "#f48849",
                      "#febd2a"
                    ],
                    "line": {
                      "color": "#000000",
                      "width": 1
                    }
                  },
                  "opacity": 0.8,
                  "showlegend": false,
                  "textfont": {
                    "size": 14
                  },
                  "textinfo": "label+percent",
                  "title": {
                    "font": {
                      "size": 18
                    },
                    "text": "Distribution of mental_health_consequence"
                  },
                  "type": "pie",
                  "values": [
                    1055,
                    1022,
                    615
                  ],
                  "visible": false
                },
                {
                  "hole": 0.5,
                  "hoverinfo": "label+percent",
                  "labels": [
                    "No",
                    "Maybe",
                    "Yes"
                  ],
                  "marker": {
                    "colors": [
                      "#5302a3",
                      "#8b0aa5",
                      "#b83289",
                      "#db5c68",
                      "#f48849",
                      "#febd2a"
                    ],
                    "line": {
                      "color": "#000000",
                      "width": 1
                    }
                  },
                  "opacity": 0.8,
                  "showlegend": false,
                  "textfont": {
                    "size": 14
                  },
                  "textinfo": "label+percent",
                  "title": {
                    "font": {
                      "size": 18
                    },
                    "text": "Distribution of phys_health_consequence"
                  },
                  "type": "pie",
                  "values": [
                    1877,
                    609,
                    206
                  ],
                  "visible": false
                },
                {
                  "hole": 0.5,
                  "hoverinfo": "label+percent",
                  "labels": [
                    "Some of them",
                    "No",
                    "Yes",
                    "Maybe"
                  ],
                  "marker": {
                    "colors": [
                      "#5302a3",
                      "#8b0aa5",
                      "#b83289",
                      "#db5c68",
                      "#f48849",
                      "#febd2a"
                    ],
                    "line": {
                      "color": "#000000",
                      "width": 1
                    }
                  },
                  "opacity": 0.8,
                  "showlegend": false,
                  "textfont": {
                    "size": 14
                  },
                  "textinfo": "label+percent",
                  "title": {
                    "font": {
                      "size": 18
                    },
                    "text": "Distribution of coworkers"
                  },
                  "type": "pie",
                  "values": [
                    864,
                    750,
                    599,
                    479
                  ],
                  "visible": false
                },
                {
                  "hole": 0.5,
                  "hoverinfo": "label+percent",
                  "labels": [
                    "Yes",
                    "No",
                    "Maybe",
                    "Some of them"
                  ],
                  "marker": {
                    "colors": [
                      "#5302a3",
                      "#8b0aa5",
                      "#b83289",
                      "#db5c68",
                      "#f48849",
                      "#febd2a"
                    ],
                    "line": {
                      "color": "#000000",
                      "width": 1
                    }
                  },
                  "opacity": 0.8,
                  "showlegend": false,
                  "textfont": {
                    "size": 14
                  },
                  "textinfo": "label+percent",
                  "title": {
                    "font": {
                      "size": 18
                    },
                    "text": "Distribution of supervisor"
                  },
                  "type": "pie",
                  "values": [
                    1097,
                    786,
                    418,
                    391
                  ],
                  "visible": false
                },
                {
                  "hole": 0.5,
                  "hoverinfo": "label+percent",
                  "labels": [
                    "No",
                    "Maybe",
                    "Yes"
                  ],
                  "marker": {
                    "colors": [
                      "#5302a3",
                      "#8b0aa5",
                      "#b83289",
                      "#db5c68",
                      "#f48849",
                      "#febd2a"
                    ],
                    "line": {
                      "color": "#000000",
                      "width": 1
                    }
                  },
                  "opacity": 0.8,
                  "showlegend": false,
                  "textfont": {
                    "size": 14
                  },
                  "textinfo": "label+percent",
                  "title": {
                    "font": {
                      "size": 18
                    },
                    "text": "Distribution of mental_health_interview"
                  },
                  "type": "pie",
                  "values": [
                    1891,
                    645,
                    156
                  ],
                  "visible": false
                },
                {
                  "hole": 0.5,
                  "hoverinfo": "label+percent",
                  "labels": [
                    "Maybe",
                    "No",
                    "Yes"
                  ],
                  "marker": {
                    "colors": [
                      "#5302a3",
                      "#8b0aa5",
                      "#b83289",
                      "#db5c68",
                      "#f48849",
                      "#febd2a"
                    ],
                    "line": {
                      "color": "#000000",
                      "width": 1
                    }
                  },
                  "opacity": 0.8,
                  "showlegend": false,
                  "textfont": {
                    "size": 14
                  },
                  "textinfo": "label+percent",
                  "title": {
                    "font": {
                      "size": 18
                    },
                    "text": "Distribution of phys_health_interview"
                  },
                  "type": "pie",
                  "values": [
                    1190,
                    941,
                    561
                  ],
                  "visible": false
                },
                {
                  "hole": 0.5,
                  "hoverinfo": "label+percent",
                  "labels": [
                    "Don´t Know",
                    "Yes",
                    "No"
                  ],
                  "marker": {
                    "colors": [
                      "#5302a3",
                      "#8b0aa5",
                      "#b83289",
                      "#db5c68",
                      "#f48849",
                      "#febd2a"
                    ],
                    "line": {
                      "color": "#000000",
                      "width": 1
                    }
                  },
                  "opacity": 0.8,
                  "showlegend": false,
                  "textfont": {
                    "size": 14
                  },
                  "textinfo": "label+percent",
                  "title": {
                    "font": {
                      "size": 18
                    },
                    "text": "Distribution of mental_vs_physical"
                  },
                  "type": "pie",
                  "values": [
                    1153,
                    795,
                    744
                  ],
                  "visible": false
                },
                {
                  "hole": 0.5,
                  "hoverinfo": "label+percent",
                  "labels": [
                    "No",
                    "Yes"
                  ],
                  "marker": {
                    "colors": [
                      "#5302a3",
                      "#8b0aa5",
                      "#b83289",
                      "#db5c68",
                      "#f48849",
                      "#febd2a"
                    ],
                    "line": {
                      "color": "#000000",
                      "width": 1
                    }
                  },
                  "opacity": 0.8,
                  "showlegend": false,
                  "textfont": {
                    "size": 14
                  },
                  "textinfo": "label+percent",
                  "title": {
                    "font": {
                      "size": 18
                    },
                    "text": "Distribution of obs_consequence"
                  },
                  "type": "pie",
                  "values": [
                    2384,
                    308
                  ],
                  "visible": false
                }
              ],
              "layout": {
                "annotations": [
                  {
                    "align": "left",
                    "showarrow": false,
                    "text": "<b>Choose<br>Column<b> : ",
                    "x": 1.06,
                    "y": 0.92,
                    "yref": "paper"
                  }
                ],
                "margin": {
                  "b": 0,
                  "l": 0,
                  "r": 0,
                  "t": 0
                },
                "template": {
                  "data": {
                    "bar": [
                      {
                        "error_x": {
                          "color": "#2a3f5f"
                        },
                        "error_y": {
                          "color": "#2a3f5f"
                        },
                        "marker": {
                          "line": {
                            "color": "#E5ECF6",
                            "width": 0.5
                          },
                          "pattern": {
                            "fillmode": "overlay",
                            "size": 10,
                            "solidity": 0.2
                          }
                        },
                        "type": "bar"
                      }
                    ],
                    "barpolar": [
                      {
                        "marker": {
                          "line": {
                            "color": "#E5ECF6",
                            "width": 0.5
                          },
                          "pattern": {
                            "fillmode": "overlay",
                            "size": 10,
                            "solidity": 0.2
                          }
                        },
                        "type": "barpolar"
                      }
                    ],
                    "carpet": [
                      {
                        "aaxis": {
                          "endlinecolor": "#2a3f5f",
                          "gridcolor": "white",
                          "linecolor": "white",
                          "minorgridcolor": "white",
                          "startlinecolor": "#2a3f5f"
                        },
                        "baxis": {
                          "endlinecolor": "#2a3f5f",
                          "gridcolor": "white",
                          "linecolor": "white",
                          "minorgridcolor": "white",
                          "startlinecolor": "#2a3f5f"
                        },
                        "type": "carpet"
                      }
                    ],
                    "choropleth": [
                      {
                        "colorbar": {
                          "outlinewidth": 0,
                          "ticks": ""
                        },
                        "type": "choropleth"
                      }
                    ],
                    "contour": [
                      {
                        "colorbar": {
                          "outlinewidth": 0,
                          "ticks": ""
                        },
                        "colorscale": [
                          [
                            0,
                            "#0d0887"
                          ],
                          [
                            0.1111111111111111,
                            "#46039f"
                          ],
                          [
                            0.2222222222222222,
                            "#7201a8"
                          ],
                          [
                            0.3333333333333333,
                            "#9c179e"
                          ],
                          [
                            0.4444444444444444,
                            "#bd3786"
                          ],
                          [
                            0.5555555555555556,
                            "#d8576b"
                          ],
                          [
                            0.6666666666666666,
                            "#ed7953"
                          ],
                          [
                            0.7777777777777778,
                            "#fb9f3a"
                          ],
                          [
                            0.8888888888888888,
                            "#fdca26"
                          ],
                          [
                            1,
                            "#f0f921"
                          ]
                        ],
                        "type": "contour"
                      }
                    ],
                    "contourcarpet": [
                      {
                        "colorbar": {
                          "outlinewidth": 0,
                          "ticks": ""
                        },
                        "type": "contourcarpet"
                      }
                    ],
                    "heatmap": [
                      {
                        "colorbar": {
                          "outlinewidth": 0,
                          "ticks": ""
                        },
                        "colorscale": [
                          [
                            0,
                            "#0d0887"
                          ],
                          [
                            0.1111111111111111,
                            "#46039f"
                          ],
                          [
                            0.2222222222222222,
                            "#7201a8"
                          ],
                          [
                            0.3333333333333333,
                            "#9c179e"
                          ],
                          [
                            0.4444444444444444,
                            "#bd3786"
                          ],
                          [
                            0.5555555555555556,
                            "#d8576b"
                          ],
                          [
                            0.6666666666666666,
                            "#ed7953"
                          ],
                          [
                            0.7777777777777778,
                            "#fb9f3a"
                          ],
                          [
                            0.8888888888888888,
                            "#fdca26"
                          ],
                          [
                            1,
                            "#f0f921"
                          ]
                        ],
                        "type": "heatmap"
                      }
                    ],
                    "heatmapgl": [
                      {
                        "colorbar": {
                          "outlinewidth": 0,
                          "ticks": ""
                        },
                        "colorscale": [
                          [
                            0,
                            "#0d0887"
                          ],
                          [
                            0.1111111111111111,
                            "#46039f"
                          ],
                          [
                            0.2222222222222222,
                            "#7201a8"
                          ],
                          [
                            0.3333333333333333,
                            "#9c179e"
                          ],
                          [
                            0.4444444444444444,
                            "#bd3786"
                          ],
                          [
                            0.5555555555555556,
                            "#d8576b"
                          ],
                          [
                            0.6666666666666666,
                            "#ed7953"
                          ],
                          [
                            0.7777777777777778,
                            "#fb9f3a"
                          ],
                          [
                            0.8888888888888888,
                            "#fdca26"
                          ],
                          [
                            1,
                            "#f0f921"
                          ]
                        ],
                        "type": "heatmapgl"
                      }
                    ],
                    "histogram": [
                      {
                        "marker": {
                          "pattern": {
                            "fillmode": "overlay",
                            "size": 10,
                            "solidity": 0.2
                          }
                        },
                        "type": "histogram"
                      }
                    ],
                    "histogram2d": [
                      {
                        "colorbar": {
                          "outlinewidth": 0,
                          "ticks": ""
                        },
                        "colorscale": [
                          [
                            0,
                            "#0d0887"
                          ],
                          [
                            0.1111111111111111,
                            "#46039f"
                          ],
                          [
                            0.2222222222222222,
                            "#7201a8"
                          ],
                          [
                            0.3333333333333333,
                            "#9c179e"
                          ],
                          [
                            0.4444444444444444,
                            "#bd3786"
                          ],
                          [
                            0.5555555555555556,
                            "#d8576b"
                          ],
                          [
                            0.6666666666666666,
                            "#ed7953"
                          ],
                          [
                            0.7777777777777778,
                            "#fb9f3a"
                          ],
                          [
                            0.8888888888888888,
                            "#fdca26"
                          ],
                          [
                            1,
                            "#f0f921"
                          ]
                        ],
                        "type": "histogram2d"
                      }
                    ],
                    "histogram2dcontour": [
                      {
                        "colorbar": {
                          "outlinewidth": 0,
                          "ticks": ""
                        },
                        "colorscale": [
                          [
                            0,
                            "#0d0887"
                          ],
                          [
                            0.1111111111111111,
                            "#46039f"
                          ],
                          [
                            0.2222222222222222,
                            "#7201a8"
                          ],
                          [
                            0.3333333333333333,
                            "#9c179e"
                          ],
                          [
                            0.4444444444444444,
                            "#bd3786"
                          ],
                          [
                            0.5555555555555556,
                            "#d8576b"
                          ],
                          [
                            0.6666666666666666,
                            "#ed7953"
                          ],
                          [
                            0.7777777777777778,
                            "#fb9f3a"
                          ],
                          [
                            0.8888888888888888,
                            "#fdca26"
                          ],
                          [
                            1,
                            "#f0f921"
                          ]
                        ],
                        "type": "histogram2dcontour"
                      }
                    ],
                    "mesh3d": [
                      {
                        "colorbar": {
                          "outlinewidth": 0,
                          "ticks": ""
                        },
                        "type": "mesh3d"
                      }
                    ],
                    "parcoords": [
                      {
                        "line": {
                          "colorbar": {
                            "outlinewidth": 0,
                            "ticks": ""
                          }
                        },
                        "type": "parcoords"
                      }
                    ],
                    "pie": [
                      {
                        "automargin": true,
                        "type": "pie"
                      }
                    ],
                    "scatter": [
                      {
                        "marker": {
                          "colorbar": {
                            "outlinewidth": 0,
                            "ticks": ""
                          }
                        },
                        "type": "scatter"
                      }
                    ],
                    "scatter3d": [
                      {
                        "line": {
                          "colorbar": {
                            "outlinewidth": 0,
                            "ticks": ""
                          }
                        },
                        "marker": {
                          "colorbar": {
                            "outlinewidth": 0,
                            "ticks": ""
                          }
                        },
                        "type": "scatter3d"
                      }
                    ],
                    "scattercarpet": [
                      {
                        "marker": {
                          "colorbar": {
                            "outlinewidth": 0,
                            "ticks": ""
                          }
                        },
                        "type": "scattercarpet"
                      }
                    ],
                    "scattergeo": [
                      {
                        "marker": {
                          "colorbar": {
                            "outlinewidth": 0,
                            "ticks": ""
                          }
                        },
                        "type": "scattergeo"
                      }
                    ],
                    "scattergl": [
                      {
                        "marker": {
                          "colorbar": {
                            "outlinewidth": 0,
                            "ticks": ""
                          }
                        },
                        "type": "scattergl"
                      }
                    ],
                    "scattermapbox": [
                      {
                        "marker": {
                          "colorbar": {
                            "outlinewidth": 0,
                            "ticks": ""
                          }
                        },
                        "type": "scattermapbox"
                      }
                    ],
                    "scatterpolar": [
                      {
                        "marker": {
                          "colorbar": {
                            "outlinewidth": 0,
                            "ticks": ""
                          }
                        },
                        "type": "scatterpolar"
                      }
                    ],
                    "scatterpolargl": [
                      {
                        "marker": {
                          "colorbar": {
                            "outlinewidth": 0,
                            "ticks": ""
                          }
                        },
                        "type": "scatterpolargl"
                      }
                    ],
                    "scatterternary": [
                      {
                        "marker": {
                          "colorbar": {
                            "outlinewidth": 0,
                            "ticks": ""
                          }
                        },
                        "type": "scatterternary"
                      }
                    ],
                    "surface": [
                      {
                        "colorbar": {
                          "outlinewidth": 0,
                          "ticks": ""
                        },
                        "colorscale": [
                          [
                            0,
                            "#0d0887"
                          ],
                          [
                            0.1111111111111111,
                            "#46039f"
                          ],
                          [
                            0.2222222222222222,
                            "#7201a8"
                          ],
                          [
                            0.3333333333333333,
                            "#9c179e"
                          ],
                          [
                            0.4444444444444444,
                            "#bd3786"
                          ],
                          [
                            0.5555555555555556,
                            "#d8576b"
                          ],
                          [
                            0.6666666666666666,
                            "#ed7953"
                          ],
                          [
                            0.7777777777777778,
                            "#fb9f3a"
                          ],
                          [
                            0.8888888888888888,
                            "#fdca26"
                          ],
                          [
                            1,
                            "#f0f921"
                          ]
                        ],
                        "type": "surface"
                      }
                    ],
                    "table": [
                      {
                        "cells": {
                          "fill": {
                            "color": "#EBF0F8"
                          },
                          "line": {
                            "color": "white"
                          }
                        },
                        "header": {
                          "fill": {
                            "color": "#C8D4E3"
                          },
                          "line": {
                            "color": "white"
                          }
                        },
                        "type": "table"
                      }
                    ]
                  },
                  "layout": {
                    "annotationdefaults": {
                      "arrowcolor": "#2a3f5f",
                      "arrowhead": 0,
                      "arrowwidth": 1
                    },
                    "autotypenumbers": "strict",
                    "coloraxis": {
                      "colorbar": {
                        "outlinewidth": 0,
                        "ticks": ""
                      }
                    },
                    "colorscale": {
                      "diverging": [
                        [
                          0,
                          "#8e0152"
                        ],
                        [
                          0.1,
                          "#c51b7d"
                        ],
                        [
                          0.2,
                          "#de77ae"
                        ],
                        [
                          0.3,
                          "#f1b6da"
                        ],
                        [
                          0.4,
                          "#fde0ef"
                        ],
                        [
                          0.5,
                          "#f7f7f7"
                        ],
                        [
                          0.6,
                          "#e6f5d0"
                        ],
                        [
                          0.7,
                          "#b8e186"
                        ],
                        [
                          0.8,
                          "#7fbc41"
                        ],
                        [
                          0.9,
                          "#4d9221"
                        ],
                        [
                          1,
                          "#276419"
                        ]
                      ],
                      "sequential": [
                        [
                          0,
                          "#0d0887"
                        ],
                        [
                          0.1111111111111111,
                          "#46039f"
                        ],
                        [
                          0.2222222222222222,
                          "#7201a8"
                        ],
                        [
                          0.3333333333333333,
                          "#9c179e"
                        ],
                        [
                          0.4444444444444444,
                          "#bd3786"
                        ],
                        [
                          0.5555555555555556,
                          "#d8576b"
                        ],
                        [
                          0.6666666666666666,
                          "#ed7953"
                        ],
                        [
                          0.7777777777777778,
                          "#fb9f3a"
                        ],
                        [
                          0.8888888888888888,
                          "#fdca26"
                        ],
                        [
                          1,
                          "#f0f921"
                        ]
                      ],
                      "sequentialminus": [
                        [
                          0,
                          "#0d0887"
                        ],
                        [
                          0.1111111111111111,
                          "#46039f"
                        ],
                        [
                          0.2222222222222222,
                          "#7201a8"
                        ],
                        [
                          0.3333333333333333,
                          "#9c179e"
                        ],
                        [
                          0.4444444444444444,
                          "#bd3786"
                        ],
                        [
                          0.5555555555555556,
                          "#d8576b"
                        ],
                        [
                          0.6666666666666666,
                          "#ed7953"
                        ],
                        [
                          0.7777777777777778,
                          "#fb9f3a"
                        ],
                        [
                          0.8888888888888888,
                          "#fdca26"
                        ],
                        [
                          1,
                          "#f0f921"
                        ]
                      ]
                    },
                    "colorway": [
                      "#636efa",
                      "#EF553B",
                      "#00cc96",
                      "#ab63fa",
                      "#FFA15A",
                      "#19d3f3",
                      "#FF6692",
                      "#B6E880",
                      "#FF97FF",
                      "#FECB52"
                    ],
                    "font": {
                      "color": "#2a3f5f"
                    },
                    "geo": {
                      "bgcolor": "white",
                      "lakecolor": "white",
                      "landcolor": "#E5ECF6",
                      "showlakes": true,
                      "showland": true,
                      "subunitcolor": "white"
                    },
                    "hoverlabel": {
                      "align": "left"
                    },
                    "hovermode": "closest",
                    "mapbox": {
                      "style": "light"
                    },
                    "paper_bgcolor": "white",
                    "plot_bgcolor": "#E5ECF6",
                    "polar": {
                      "angularaxis": {
                        "gridcolor": "white",
                        "linecolor": "white",
                        "ticks": ""
                      },
                      "bgcolor": "#E5ECF6",
                      "radialaxis": {
                        "gridcolor": "white",
                        "linecolor": "white",
                        "ticks": ""
                      }
                    },
                    "scene": {
                      "xaxis": {
                        "backgroundcolor": "#E5ECF6",
                        "gridcolor": "white",
                        "gridwidth": 2,
                        "linecolor": "white",
                        "showbackground": true,
                        "ticks": "",
                        "zerolinecolor": "white"
                      },
                      "yaxis": {
                        "backgroundcolor": "#E5ECF6",
                        "gridcolor": "white",
                        "gridwidth": 2,
                        "linecolor": "white",
                        "showbackground": true,
                        "ticks": "",
                        "zerolinecolor": "white"
                      },
                      "zaxis": {
                        "backgroundcolor": "#E5ECF6",
                        "gridcolor": "white",
                        "gridwidth": 2,
                        "linecolor": "white",
                        "showbackground": true,
                        "ticks": "",
                        "zerolinecolor": "white"
                      }
                    },
                    "shapedefaults": {
                      "line": {
                        "color": "#2a3f5f"
                      }
                    },
                    "ternary": {
                      "aaxis": {
                        "gridcolor": "white",
                        "linecolor": "white",
                        "ticks": ""
                      },
                      "baxis": {
                        "gridcolor": "white",
                        "linecolor": "white",
                        "ticks": ""
                      },
                      "bgcolor": "#E5ECF6",
                      "caxis": {
                        "gridcolor": "white",
                        "linecolor": "white",
                        "ticks": ""
                      }
                    },
                    "title": {
                      "x": 0.05
                    },
                    "xaxis": {
                      "automargin": true,
                      "gridcolor": "white",
                      "linecolor": "white",
                      "ticks": "",
                      "title": {
                        "standoff": 15
                      },
                      "zerolinecolor": "white",
                      "zerolinewidth": 2
                    },
                    "yaxis": {
                      "automargin": true,
                      "gridcolor": "white",
                      "linecolor": "white",
                      "ticks": "",
                      "title": {
                        "standoff": 15
                      },
                      "zerolinecolor": "white",
                      "zerolinewidth": 2
                    }
                  }
                },
                "updatemenus": [
                  {
                    "active": 0,
                    "buttons": [
                      {
                        "args": [
                          {
                            "visible": [
                              true,
                              false,
                              false,
                              false,
                              false,
                              false,
                              false,
                              false,
                              false,
                              false,
                              false,
                              false,
                              false,
                              false,
                              false,
                              false,
                              false,
                              false,
                              false,
                              false,
                              false,
                              false,
                              false,
                              false
                            ]
                          },
                          {
                            "title": "Gender"
                          }
                        ],
                        "label": "Gender",
                        "method": "update"
                      },
                      {
                        "args": [
                          {
                            "visible": [
                              false,
                              true,
                              false,
                              false,
                              false,
                              false,
                              false,
                              false,
                              false,
                              false,
                              false,
                              false,
                              false,
                              false,
                              false,
                              false,
                              false,
                              false,
                              false,
                              false,
                              false,
                              false,
                              false,
                              false
                            ]
                          },
                          {
                            "title": "self_employed"
                          }
                        ],
                        "label": "self_employed",
                        "method": "update"
                      },
                      {
                        "args": [
                          {
                            "visible": [
                              false,
                              false,
                              true,
                              false,
                              false,
                              false,
                              false,
                              false,
                              false,
                              false,
                              false,
                              false,
                              false,
                              false,
                              false,
                              false,
                              false,
                              false,
                              false,
                              false,
                              false,
                              false,
                              false,
                              false
                            ]
                          },
                          {
                            "title": "family_history"
                          }
                        ],
                        "label": "family_history",
                        "method": "update"
                      },
                      {
                        "args": [
                          {
                            "visible": [
                              false,
                              false,
                              false,
                              true,
                              false,
                              false,
                              false,
                              false,
                              false,
                              false,
                              false,
                              false,
                              false,
                              false,
                              false,
                              false,
                              false,
                              false,
                              false,
                              false,
                              false,
                              false,
                              false,
                              false
                            ]
                          },
                          {
                            "title": "treatment"
                          }
                        ],
                        "label": "treatment",
                        "method": "update"
                      },
                      {
                        "args": [
                          {
                            "visible": [
                              false,
                              false,
                              false,
                              false,
                              true,
                              false,
                              false,
                              false,
                              false,
                              false,
                              false,
                              false,
                              false,
                              false,
                              false,
                              false,
                              false,
                              false,
                              false,
                              false,
                              false,
                              false,
                              false,
                              false
                            ]
                          },
                          {
                            "title": "work_interfere"
                          }
                        ],
                        "label": "work_interfere",
                        "method": "update"
                      },
                      {
                        "args": [
                          {
                            "visible": [
                              false,
                              false,
                              false,
                              false,
                              false,
                              true,
                              false,
                              false,
                              false,
                              false,
                              false,
                              false,
                              false,
                              false,
                              false,
                              false,
                              false,
                              false,
                              false,
                              false,
                              false,
                              false,
                              false,
                              false
                            ]
                          },
                          {
                            "title": "no_employees"
                          }
                        ],
                        "label": "no_employees",
                        "method": "update"
                      },
                      {
                        "args": [
                          {
                            "visible": [
                              false,
                              false,
                              false,
                              false,
                              false,
                              false,
                              true,
                              false,
                              false,
                              false,
                              false,
                              false,
                              false,
                              false,
                              false,
                              false,
                              false,
                              false,
                              false,
                              false,
                              false,
                              false,
                              false,
                              false
                            ]
                          },
                          {
                            "title": "remote_work"
                          }
                        ],
                        "label": "remote_work",
                        "method": "update"
                      },
                      {
                        "args": [
                          {
                            "visible": [
                              false,
                              false,
                              false,
                              false,
                              false,
                              false,
                              false,
                              true,
                              false,
                              false,
                              false,
                              false,
                              false,
                              false,
                              false,
                              false,
                              false,
                              false,
                              false,
                              false,
                              false,
                              false,
                              false,
                              false
                            ]
                          },
                          {
                            "title": "tech_company"
                          }
                        ],
                        "label": "tech_company",
                        "method": "update"
                      },
                      {
                        "args": [
                          {
                            "visible": [
                              false,
                              false,
                              false,
                              false,
                              false,
                              false,
                              false,
                              false,
                              true,
                              false,
                              false,
                              false,
                              false,
                              false,
                              false,
                              false,
                              false,
                              false,
                              false,
                              false,
                              false,
                              false,
                              false,
                              false
                            ]
                          },
                          {
                            "title": "benefits"
                          }
                        ],
                        "label": "benefits",
                        "method": "update"
                      },
                      {
                        "args": [
                          {
                            "visible": [
                              false,
                              false,
                              false,
                              false,
                              false,
                              false,
                              false,
                              false,
                              false,
                              true,
                              false,
                              false,
                              false,
                              false,
                              false,
                              false,
                              false,
                              false,
                              false,
                              false,
                              false,
                              false,
                              false,
                              false
                            ]
                          },
                          {
                            "title": "care_options"
                          }
                        ],
                        "label": "care_options",
                        "method": "update"
                      },
                      {
                        "args": [
                          {
                            "visible": [
                              false,
                              false,
                              false,
                              false,
                              false,
                              false,
                              false,
                              false,
                              false,
                              false,
                              true,
                              false,
                              false,
                              false,
                              false,
                              false,
                              false,
                              false,
                              false,
                              false,
                              false,
                              false,
                              false,
                              false
                            ]
                          },
                          {
                            "title": "wellness_program"
                          }
                        ],
                        "label": "wellness_program",
                        "method": "update"
                      },
                      {
                        "args": [
                          {
                            "visible": [
                              false,
                              false,
                              false,
                              false,
                              false,
                              false,
                              false,
                              false,
                              false,
                              false,
                              false,
                              true,
                              false,
                              false,
                              false,
                              false,
                              false,
                              false,
                              false,
                              false,
                              false,
                              false,
                              false,
                              false
                            ]
                          },
                          {
                            "title": "seek_help"
                          }
                        ],
                        "label": "seek_help",
                        "method": "update"
                      },
                      {
                        "args": [
                          {
                            "visible": [
                              false,
                              false,
                              false,
                              false,
                              false,
                              false,
                              false,
                              false,
                              false,
                              false,
                              false,
                              false,
                              true,
                              false,
                              false,
                              false,
                              false,
                              false,
                              false,
                              false,
                              false,
                              false,
                              false,
                              false
                            ]
                          },
                          {
                            "title": "anonymity"
                          }
                        ],
                        "label": "anonymity",
                        "method": "update"
                      },
                      {
                        "args": [
                          {
                            "visible": [
                              false,
                              false,
                              false,
                              false,
                              false,
                              false,
                              false,
                              false,
                              false,
                              false,
                              false,
                              false,
                              false,
                              true,
                              false,
                              false,
                              false,
                              false,
                              false,
                              false,
                              false,
                              false,
                              false,
                              false
                            ]
                          },
                          {
                            "title": "leave"
                          }
                        ],
                        "label": "leave",
                        "method": "update"
                      },
                      {
                        "args": [
                          {
                            "visible": [
                              false,
                              false,
                              false,
                              false,
                              false,
                              false,
                              false,
                              false,
                              false,
                              false,
                              false,
                              false,
                              false,
                              false,
                              true,
                              false,
                              false,
                              false,
                              false,
                              false,
                              false,
                              false,
                              false,
                              false
                            ]
                          },
                          {
                            "title": "mental_health_consequence"
                          }
                        ],
                        "label": "mental_health_consequence",
                        "method": "update"
                      },
                      {
                        "args": [
                          {
                            "visible": [
                              false,
                              false,
                              false,
                              false,
                              false,
                              false,
                              false,
                              false,
                              false,
                              false,
                              false,
                              false,
                              false,
                              false,
                              false,
                              true,
                              false,
                              false,
                              false,
                              false,
                              false,
                              false,
                              false,
                              false
                            ]
                          },
                          {
                            "title": "phys_health_consequence"
                          }
                        ],
                        "label": "phys_health_consequence",
                        "method": "update"
                      },
                      {
                        "args": [
                          {
                            "visible": [
                              false,
                              false,
                              false,
                              false,
                              false,
                              false,
                              false,
                              false,
                              false,
                              false,
                              false,
                              false,
                              false,
                              false,
                              false,
                              false,
                              true,
                              false,
                              false,
                              false,
                              false,
                              false,
                              false,
                              false
                            ]
                          },
                          {
                            "title": "coworkers"
                          }
                        ],
                        "label": "coworkers",
                        "method": "update"
                      },
                      {
                        "args": [
                          {
                            "visible": [
                              false,
                              false,
                              false,
                              false,
                              false,
                              false,
                              false,
                              false,
                              false,
                              false,
                              false,
                              false,
                              false,
                              false,
                              false,
                              false,
                              false,
                              true,
                              false,
                              false,
                              false,
                              false,
                              false,
                              false
                            ]
                          },
                          {
                            "title": "supervisor"
                          }
                        ],
                        "label": "supervisor",
                        "method": "update"
                      },
                      {
                        "args": [
                          {
                            "visible": [
                              false,
                              false,
                              false,
                              false,
                              false,
                              false,
                              false,
                              false,
                              false,
                              false,
                              false,
                              false,
                              false,
                              false,
                              false,
                              false,
                              false,
                              false,
                              true,
                              false,
                              false,
                              false,
                              false,
                              false
                            ]
                          },
                          {
                            "title": "mental_health_interview"
                          }
                        ],
                        "label": "mental_health_interview",
                        "method": "update"
                      },
                      {
                        "args": [
                          {
                            "visible": [
                              false,
                              false,
                              false,
                              false,
                              false,
                              false,
                              false,
                              false,
                              false,
                              false,
                              false,
                              false,
                              false,
                              false,
                              false,
                              false,
                              false,
                              false,
                              false,
                              true,
                              false,
                              false,
                              false,
                              false
                            ]
                          },
                          {
                            "title": "phys_health_interview"
                          }
                        ],
                        "label": "phys_health_interview",
                        "method": "update"
                      },
                      {
                        "args": [
                          {
                            "visible": [
                              false,
                              false,
                              false,
                              false,
                              false,
                              false,
                              false,
                              false,
                              false,
                              false,
                              false,
                              false,
                              false,
                              false,
                              false,
                              false,
                              false,
                              false,
                              false,
                              false,
                              true,
                              false,
                              false,
                              false
                            ]
                          },
                          {
                            "title": "mental_vs_physical"
                          }
                        ],
                        "label": "mental_vs_physical",
                        "method": "update"
                      },
                      {
                        "args": [
                          {
                            "visible": [
                              false,
                              false,
                              false,
                              false,
                              false,
                              false,
                              false,
                              false,
                              false,
                              false,
                              false,
                              false,
                              false,
                              false,
                              false,
                              false,
                              false,
                              false,
                              false,
                              false,
                              false,
                              true,
                              false,
                              false
                            ]
                          },
                          {
                            "title": "obs_consequence"
                          }
                        ],
                        "label": "obs_consequence",
                        "method": "update"
                      }
                    ],
                    "showactive": true,
                    "type": "dropdown",
                    "x": 1.15,
                    "y": 0.85
                  }
                ]
              }
            }
          },
          "metadata": {},
          "output_type": "display_data"
        }
      ],
      "source": [
        "df_ = df.drop(['Age', 'Country'], axis=1)\n",
        "\n",
        "buttons = []\n",
        "i = 0\n",
        "vis = [False] * 24\n",
        "\n",
        "for col in df_.columns:\n",
        "    vis[i] = True\n",
        "    buttons.append({'label' : col,\n",
        "             'method' : 'update',\n",
        "             'args'   : [{'visible' : vis},\n",
        "             {'title'  : col}] })\n",
        "    i+=1\n",
        "    vis = [False] * 24\n",
        "\n",
        "fig = go.Figure()\n",
        "\n",
        "for col in df_.columns:\n",
        "    fig.add_trace(go.Pie(\n",
        "             values = df_[col].value_counts(),\n",
        "             labels = df_[col].value_counts().index,\n",
        "             title = dict(text = 'Distribution of {}'.format(col),\n",
        "                          font = dict(size=18), \n",
        "                          ),\n",
        "             hole = 0.5,\n",
        "             hoverinfo='label+percent',))\n",
        "\n",
        "fig.update_traces(hoverinfo='label+percent',\n",
        "                  textinfo='label+percent',\n",
        "                  textfont_size=14,\n",
        "                  opacity = 0.8,\n",
        "                  showlegend = False,\n",
        "                  marker = dict(colors = sns.color_palette('plasma').as_hex(),\n",
        "                              line=dict(color='#000000', width=1)))\n",
        "              \n",
        "\n",
        "fig.update_layout(margin=dict(t=0, b=0, l=0, r=0),\n",
        "                  updatemenus = [dict(\n",
        "                        type = 'dropdown',\n",
        "                        x = 1.15,\n",
        "                        y = 0.85,\n",
        "                        showactive = True,\n",
        "                        active = 0,\n",
        "                        buttons = buttons)],\n",
        "                 annotations=[\n",
        "                             dict(text = \"<b>Choose<br>Column<b> : \",\n",
        "                             showarrow=False,\n",
        "                             x = 1.06, y = 0.92, yref = \"paper\", align = \"left\")])\n",
        "\n",
        "for i in range(1,22):\n",
        "    fig.data[i].visible = False\n",
        "\n",
        "fig.show()"
      ]
    }
  ],
  "metadata": {
    "colab": {
      "authorship_tag": "ABX9TyO7D2iGMCP8Rp9yoOoWPqk0",
      "collapsed_sections": [],
      "include_colab_link": true,
      "name": "M.H Survey Analytics",
      "provenance": [],
      "toc_visible": true
    },
    "interpreter": {
      "hash": "e71105030528c4e27e8b033f278aa9cb5e151b858e61f034f2561e27d3b47fae"
    },
    "kernelspec": {
      "display_name": "Python 3.9.5 ('base')",
      "language": "python",
      "name": "python3"
    },
    "language_info": {
      "codemirror_mode": {
        "name": "ipython",
        "version": 3
      },
      "file_extension": ".py",
      "mimetype": "text/x-python",
      "name": "python",
      "nbconvert_exporter": "python",
      "pygments_lexer": "ipython3",
      "version": "3.9.5"
    }
  },
  "nbformat": 4,
  "nbformat_minor": 0
}
