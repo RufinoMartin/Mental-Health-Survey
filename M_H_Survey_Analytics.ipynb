{
  "nbformat": 4,
  "nbformat_minor": 0,
  "metadata": {
    "colab": {
      "name": "M.H Survey Analytics",
      "provenance": [],
      "collapsed_sections": [],
      "authorship_tag": "ABX9TyMTPIfb/CdgGFpeuky7MCYj",
      "include_colab_link": true
    },
    "kernelspec": {
      "name": "python3",
      "display_name": "Python 3"
    },
    "language_info": {
      "name": "python"
    }
  },
  "cells": [
    {
      "cell_type": "markdown",
      "metadata": {
        "id": "view-in-github",
        "colab_type": "text"
      },
      "source": [
        "<a href=\"https://colab.research.google.com/github/RufinoMartin/Mental-Health-Survey/blob/main/M_H_Survey_Analytics.ipynb\" target=\"_parent\"><img src=\"https://colab.research.google.com/assets/colab-badge.svg\" alt=\"Open In Colab\"/></a>"
      ]
    },
    {
      "cell_type": "markdown",
      "source": [
        "# Summary"
      ],
      "metadata": {
        "id": "GpnghIcD0kkz"
      }
    },
    {
      "cell_type": "markdown",
      "source": [
        "# Mental Health Survey\n",
        "\n",
        "\n",
        "The Open Source Mental Health performs anual surveys to measure mental health in the Tech Community, apart from offering other various resources. \n",
        "\n",
        "In this notebook, we will be focusing on their 2014 & 2016 datasets.\n",
        "\n",
        "The institute makes available all their datasets, which represent the 2014-2021 period (except for 2015 which was not conducted). We choose to keep the years above mentioned for analysis for statistical weight reasons:\n",
        "\n",
        "-  the survey response volume decreased thorugh time, offering us therefore unsufficient data. \n",
        "-  The operationalization of variables changed, this means, that while the wanted information persisted through time, the way in which collected (que question style) changed. \n",
        "-  For more details, head to the preprocessing notebook:\n",
        "\n",
        "https://github.com/RufinoMartin/Mental-Health-Survey/blob/main/M.H%20Survey%20Merge.ipynb\n",
        "\n",
        "The original datasets can be found, year by year, at the OSMH website:\n",
        "\n",
        "https://osmhhelp.org/research\n",
        "\n",
        "\n",
        "\n",
        "\n"
      ],
      "metadata": {
        "id": "v19hYMHj0mMT"
      }
    },
    {
      "cell_type": "markdown",
      "source": [
        "# Library Import\n"
      ],
      "metadata": {
        "id": "asvJfuzo0dS2"
      }
    },
    {
      "cell_type": "code",
      "source": [
        "# Library Import\n",
        "\n",
        "import pandas as pd\n",
        "import numpy as np"
      ],
      "metadata": {
        "id": "BIEmRw388BLo"
      },
      "execution_count": 1,
      "outputs": []
    },
    {
      "cell_type": "markdown",
      "source": [
        "# Data Import\n",
        "\n",
        "Repository RAW file:\n",
        "\n",
        "https://github.com/RufinoMartin/Mental-Health-Survey/blob/main/M.H%20Survey.csv"
      ],
      "metadata": {
        "id": "UPI4YZAL0dVU"
      }
    },
    {
      "cell_type": "code",
      "source": [
        "df = pd.read_csv('https://raw.githubusercontent.com/RufinoMartin/Mental-Health-Survey/main/M.H%20Survey.csv')\n",
        "df.head(5)"
      ],
      "metadata": {
        "colab": {
          "base_uri": "https://localhost:8080/",
          "height": 403
        },
        "id": "4MnRjZFZ5X6r",
        "outputId": "6395dd54-01be-4a04-983c-1d2573ad63e4"
      },
      "execution_count": 2,
      "outputs": [
        {
          "output_type": "execute_result",
          "data": {
            "text/plain": [
              "   Unnamed: 0  Age  Gender         Country self_employed family_history  \\\n",
              "0           0   37  Female   United States           NaN             No   \n",
              "1           1   44       M   United States           NaN             No   \n",
              "2           2   32    Male          Canada           NaN             No   \n",
              "3           3   31    Male  United Kingdom           NaN            Yes   \n",
              "4           4   31    Male   United States           NaN             No   \n",
              "\n",
              "  treatment work_interfere    no_employees remote_work  ...   anonymity  \\\n",
              "0       Yes          Often            6-25          No  ...         Yes   \n",
              "1        No         Rarely  More than 1000          No  ...  Don't know   \n",
              "2        No         Rarely            6-25          No  ...  Don't know   \n",
              "3       Yes          Often          26-100          No  ...          No   \n",
              "4        No          Never         100-500         Yes  ...  Don't know   \n",
              "\n",
              "                leave mental_health_consequence phys_health_consequence  \\\n",
              "0       Somewhat easy                        No                      No   \n",
              "1          Don't know                     Maybe                      No   \n",
              "2  Somewhat difficult                        No                      No   \n",
              "3  Somewhat difficult                       Yes                     Yes   \n",
              "4          Don't know                        No                      No   \n",
              "\n",
              "      coworkers supervisor mental_health_interview phys_health_interview  \\\n",
              "0  Some of them        Yes                      No                 Maybe   \n",
              "1            No         No                      No                    No   \n",
              "2           Yes        Yes                     Yes                   Yes   \n",
              "3  Some of them         No                   Maybe                 Maybe   \n",
              "4  Some of them        Yes                     Yes                   Yes   \n",
              "\n",
              "  mental_vs_physical obs_consequence  \n",
              "0                Yes              No  \n",
              "1         Don't know              No  \n",
              "2                 No              No  \n",
              "3                 No             Yes  \n",
              "4         Don't know              No  \n",
              "\n",
              "[5 rows x 25 columns]"
            ],
            "text/html": [
              "\n",
              "  <div id=\"df-6d7a8d0f-c7bb-46f5-a255-1f119b39beee\">\n",
              "    <div class=\"colab-df-container\">\n",
              "      <div>\n",
              "<style scoped>\n",
              "    .dataframe tbody tr th:only-of-type {\n",
              "        vertical-align: middle;\n",
              "    }\n",
              "\n",
              "    .dataframe tbody tr th {\n",
              "        vertical-align: top;\n",
              "    }\n",
              "\n",
              "    .dataframe thead th {\n",
              "        text-align: right;\n",
              "    }\n",
              "</style>\n",
              "<table border=\"1\" class=\"dataframe\">\n",
              "  <thead>\n",
              "    <tr style=\"text-align: right;\">\n",
              "      <th></th>\n",
              "      <th>Unnamed: 0</th>\n",
              "      <th>Age</th>\n",
              "      <th>Gender</th>\n",
              "      <th>Country</th>\n",
              "      <th>self_employed</th>\n",
              "      <th>family_history</th>\n",
              "      <th>treatment</th>\n",
              "      <th>work_interfere</th>\n",
              "      <th>no_employees</th>\n",
              "      <th>remote_work</th>\n",
              "      <th>...</th>\n",
              "      <th>anonymity</th>\n",
              "      <th>leave</th>\n",
              "      <th>mental_health_consequence</th>\n",
              "      <th>phys_health_consequence</th>\n",
              "      <th>coworkers</th>\n",
              "      <th>supervisor</th>\n",
              "      <th>mental_health_interview</th>\n",
              "      <th>phys_health_interview</th>\n",
              "      <th>mental_vs_physical</th>\n",
              "      <th>obs_consequence</th>\n",
              "    </tr>\n",
              "  </thead>\n",
              "  <tbody>\n",
              "    <tr>\n",
              "      <th>0</th>\n",
              "      <td>0</td>\n",
              "      <td>37</td>\n",
              "      <td>Female</td>\n",
              "      <td>United States</td>\n",
              "      <td>NaN</td>\n",
              "      <td>No</td>\n",
              "      <td>Yes</td>\n",
              "      <td>Often</td>\n",
              "      <td>6-25</td>\n",
              "      <td>No</td>\n",
              "      <td>...</td>\n",
              "      <td>Yes</td>\n",
              "      <td>Somewhat easy</td>\n",
              "      <td>No</td>\n",
              "      <td>No</td>\n",
              "      <td>Some of them</td>\n",
              "      <td>Yes</td>\n",
              "      <td>No</td>\n",
              "      <td>Maybe</td>\n",
              "      <td>Yes</td>\n",
              "      <td>No</td>\n",
              "    </tr>\n",
              "    <tr>\n",
              "      <th>1</th>\n",
              "      <td>1</td>\n",
              "      <td>44</td>\n",
              "      <td>M</td>\n",
              "      <td>United States</td>\n",
              "      <td>NaN</td>\n",
              "      <td>No</td>\n",
              "      <td>No</td>\n",
              "      <td>Rarely</td>\n",
              "      <td>More than 1000</td>\n",
              "      <td>No</td>\n",
              "      <td>...</td>\n",
              "      <td>Don't know</td>\n",
              "      <td>Don't know</td>\n",
              "      <td>Maybe</td>\n",
              "      <td>No</td>\n",
              "      <td>No</td>\n",
              "      <td>No</td>\n",
              "      <td>No</td>\n",
              "      <td>No</td>\n",
              "      <td>Don't know</td>\n",
              "      <td>No</td>\n",
              "    </tr>\n",
              "    <tr>\n",
              "      <th>2</th>\n",
              "      <td>2</td>\n",
              "      <td>32</td>\n",
              "      <td>Male</td>\n",
              "      <td>Canada</td>\n",
              "      <td>NaN</td>\n",
              "      <td>No</td>\n",
              "      <td>No</td>\n",
              "      <td>Rarely</td>\n",
              "      <td>6-25</td>\n",
              "      <td>No</td>\n",
              "      <td>...</td>\n",
              "      <td>Don't know</td>\n",
              "      <td>Somewhat difficult</td>\n",
              "      <td>No</td>\n",
              "      <td>No</td>\n",
              "      <td>Yes</td>\n",
              "      <td>Yes</td>\n",
              "      <td>Yes</td>\n",
              "      <td>Yes</td>\n",
              "      <td>No</td>\n",
              "      <td>No</td>\n",
              "    </tr>\n",
              "    <tr>\n",
              "      <th>3</th>\n",
              "      <td>3</td>\n",
              "      <td>31</td>\n",
              "      <td>Male</td>\n",
              "      <td>United Kingdom</td>\n",
              "      <td>NaN</td>\n",
              "      <td>Yes</td>\n",
              "      <td>Yes</td>\n",
              "      <td>Often</td>\n",
              "      <td>26-100</td>\n",
              "      <td>No</td>\n",
              "      <td>...</td>\n",
              "      <td>No</td>\n",
              "      <td>Somewhat difficult</td>\n",
              "      <td>Yes</td>\n",
              "      <td>Yes</td>\n",
              "      <td>Some of them</td>\n",
              "      <td>No</td>\n",
              "      <td>Maybe</td>\n",
              "      <td>Maybe</td>\n",
              "      <td>No</td>\n",
              "      <td>Yes</td>\n",
              "    </tr>\n",
              "    <tr>\n",
              "      <th>4</th>\n",
              "      <td>4</td>\n",
              "      <td>31</td>\n",
              "      <td>Male</td>\n",
              "      <td>United States</td>\n",
              "      <td>NaN</td>\n",
              "      <td>No</td>\n",
              "      <td>No</td>\n",
              "      <td>Never</td>\n",
              "      <td>100-500</td>\n",
              "      <td>Yes</td>\n",
              "      <td>...</td>\n",
              "      <td>Don't know</td>\n",
              "      <td>Don't know</td>\n",
              "      <td>No</td>\n",
              "      <td>No</td>\n",
              "      <td>Some of them</td>\n",
              "      <td>Yes</td>\n",
              "      <td>Yes</td>\n",
              "      <td>Yes</td>\n",
              "      <td>Don't know</td>\n",
              "      <td>No</td>\n",
              "    </tr>\n",
              "  </tbody>\n",
              "</table>\n",
              "<p>5 rows × 25 columns</p>\n",
              "</div>\n",
              "      <button class=\"colab-df-convert\" onclick=\"convertToInteractive('df-6d7a8d0f-c7bb-46f5-a255-1f119b39beee')\"\n",
              "              title=\"Convert this dataframe to an interactive table.\"\n",
              "              style=\"display:none;\">\n",
              "        \n",
              "  <svg xmlns=\"http://www.w3.org/2000/svg\" height=\"24px\"viewBox=\"0 0 24 24\"\n",
              "       width=\"24px\">\n",
              "    <path d=\"M0 0h24v24H0V0z\" fill=\"none\"/>\n",
              "    <path d=\"M18.56 5.44l.94 2.06.94-2.06 2.06-.94-2.06-.94-.94-2.06-.94 2.06-2.06.94zm-11 1L8.5 8.5l.94-2.06 2.06-.94-2.06-.94L8.5 2.5l-.94 2.06-2.06.94zm10 10l.94 2.06.94-2.06 2.06-.94-2.06-.94-.94-2.06-.94 2.06-2.06.94z\"/><path d=\"M17.41 7.96l-1.37-1.37c-.4-.4-.92-.59-1.43-.59-.52 0-1.04.2-1.43.59L10.3 9.45l-7.72 7.72c-.78.78-.78 2.05 0 2.83L4 21.41c.39.39.9.59 1.41.59.51 0 1.02-.2 1.41-.59l7.78-7.78 2.81-2.81c.8-.78.8-2.07 0-2.86zM5.41 20L4 18.59l7.72-7.72 1.47 1.35L5.41 20z\"/>\n",
              "  </svg>\n",
              "      </button>\n",
              "      \n",
              "  <style>\n",
              "    .colab-df-container {\n",
              "      display:flex;\n",
              "      flex-wrap:wrap;\n",
              "      gap: 12px;\n",
              "    }\n",
              "\n",
              "    .colab-df-convert {\n",
              "      background-color: #E8F0FE;\n",
              "      border: none;\n",
              "      border-radius: 50%;\n",
              "      cursor: pointer;\n",
              "      display: none;\n",
              "      fill: #1967D2;\n",
              "      height: 32px;\n",
              "      padding: 0 0 0 0;\n",
              "      width: 32px;\n",
              "    }\n",
              "\n",
              "    .colab-df-convert:hover {\n",
              "      background-color: #E2EBFA;\n",
              "      box-shadow: 0px 1px 2px rgba(60, 64, 67, 0.3), 0px 1px 3px 1px rgba(60, 64, 67, 0.15);\n",
              "      fill: #174EA6;\n",
              "    }\n",
              "\n",
              "    [theme=dark] .colab-df-convert {\n",
              "      background-color: #3B4455;\n",
              "      fill: #D2E3FC;\n",
              "    }\n",
              "\n",
              "    [theme=dark] .colab-df-convert:hover {\n",
              "      background-color: #434B5C;\n",
              "      box-shadow: 0px 1px 3px 1px rgba(0, 0, 0, 0.15);\n",
              "      filter: drop-shadow(0px 1px 2px rgba(0, 0, 0, 0.3));\n",
              "      fill: #FFFFFF;\n",
              "    }\n",
              "  </style>\n",
              "\n",
              "      <script>\n",
              "        const buttonEl =\n",
              "          document.querySelector('#df-6d7a8d0f-c7bb-46f5-a255-1f119b39beee button.colab-df-convert');\n",
              "        buttonEl.style.display =\n",
              "          google.colab.kernel.accessAllowed ? 'block' : 'none';\n",
              "\n",
              "        async function convertToInteractive(key) {\n",
              "          const element = document.querySelector('#df-6d7a8d0f-c7bb-46f5-a255-1f119b39beee');\n",
              "          const dataTable =\n",
              "            await google.colab.kernel.invokeFunction('convertToInteractive',\n",
              "                                                     [key], {});\n",
              "          if (!dataTable) return;\n",
              "\n",
              "          const docLinkHtml = 'Like what you see? Visit the ' +\n",
              "            '<a target=\"_blank\" href=https://colab.research.google.com/notebooks/data_table.ipynb>data table notebook</a>'\n",
              "            + ' to learn more about interactive tables.';\n",
              "          element.innerHTML = '';\n",
              "          dataTable['output_type'] = 'display_data';\n",
              "          await google.colab.output.renderOutput(dataTable, element);\n",
              "          const docLink = document.createElement('div');\n",
              "          docLink.innerHTML = docLinkHtml;\n",
              "          element.appendChild(docLink);\n",
              "        }\n",
              "      </script>\n",
              "    </div>\n",
              "  </div>\n",
              "  "
            ]
          },
          "metadata": {},
          "execution_count": 2
        }
      ]
    },
    {
      "cell_type": "code",
      "source": [
        "print(\"The shape of the dataset is (rows, columns): \", df.shape)"
      ],
      "metadata": {
        "colab": {
          "base_uri": "https://localhost:8080/"
        },
        "id": "HsTn-0fT8Iu3",
        "outputId": "2ba08dd0-b22f-440d-f06a-236d563488cf"
      },
      "execution_count": 3,
      "outputs": [
        {
          "output_type": "stream",
          "name": "stdout",
          "text": [
            "The shape of the dataset is (rows, columns):  (2692, 25)\n"
          ]
        }
      ]
    },
    {
      "cell_type": "code",
      "source": [
        "df.columns"
      ],
      "metadata": {
        "colab": {
          "base_uri": "https://localhost:8080/"
        },
        "id": "rhenZzbq89Kn",
        "outputId": "535a0863-474a-4a66-ac5f-4fadbff89fad"
      },
      "execution_count": 4,
      "outputs": [
        {
          "output_type": "execute_result",
          "data": {
            "text/plain": [
              "Index(['Unnamed: 0', 'Age', 'Gender', 'Country', 'self_employed',\n",
              "       'family_history', 'treatment', 'work_interfere', 'no_employees',\n",
              "       'remote_work', 'tech_company', 'benefits', 'care_options',\n",
              "       'wellness_program', 'seek_help', 'anonymity', 'leave',\n",
              "       'mental_health_consequence', 'phys_health_consequence', 'coworkers',\n",
              "       'supervisor', 'mental_health_interview', 'phys_health_interview',\n",
              "       'mental_vs_physical', 'obs_consequence'],\n",
              "      dtype='object')"
            ]
          },
          "metadata": {},
          "execution_count": 4
        }
      ]
    },
    {
      "cell_type": "markdown",
      "source": [
        "Data Library\n",
        "\n",
        "This dataset contains the following data, obtained from Surveys in form of open questions. \n",
        "\n",
        "- Timestamp\n",
        "\n",
        "- Age\n",
        "\n",
        "- Gender\n",
        "\n",
        "- Country\n",
        "\n",
        "- state: If you live in the United States, which state or territory do you live in?\n",
        "\n",
        "- self_employed: Are you self-employed?\n",
        "\n",
        "- family_history: Do you have a family history of mental illness?\n",
        "\n",
        "- treatment: Have you sought treatment for a mental health condition?\n",
        "\n",
        "- work_interfere: If you have a mental health condition, do you feel that it interferes with your work?\n",
        "\n",
        "- no_employees: How many employees does your company or organization have?\n",
        "\n",
        "- remote_work: Do you work remotely (outside of an office) at least 50% of the time?\n",
        "\n",
        "- tech_company: Is your employer primarily a tech company/organization?\n",
        "\n",
        "- benefits: Does your employer provide mental health benefits?\n",
        "\n",
        "- care_options: Do you know the options for mental health care your employer provides?\n",
        "\n",
        "- wellness_program: Has your employer ever discussed mental health as part of an employee wellness program?\n",
        "\n",
        "- seek_help: Does your employer provide resources to learn more about mental health issues and how to seek help?\n",
        "\n",
        "- anonymity: Is your anonymity protected if you choose to take advantage of mental health or substance abuse treatment resources?\n",
        "\n",
        "- leave: How easy is it for you to take medical leave for a mental health condition?\n",
        "\n",
        "- mentalhealthconsequence: Do you think that discussing a mental health issue with your employer would have negative consequences?\n",
        "\n",
        "- physhealthconsequence: Do you think that discussing a physical health issue with your employer would have negative consequences?\n",
        "\n",
        "- coworkers: Would you be willing to discuss a mental health issue with your coworkers?\n",
        "\n",
        "- supervisor: Would you be willing to discuss a mental health issue with your direct supervisor(s)?\n",
        "\n",
        "- mentalhealthinterview: Would you bring up a mental health issue with a potential employer in an interview?\n",
        "\n",
        "- physhealthinterview: Would you bring up a physical health issue with a potential employer in an interview?\n",
        "\n",
        "- mentalvsphysical: Do you feel that your employer takes mental health as seriously as physical health?\n",
        "\n",
        "- obs_consequence: Have you heard of or observed negative consequences for coworkers with mental health conditions in your workplace?\n",
        "\n",
        "- comments: Any additional notes or comments"
      ],
      "metadata": {
        "id": "WwxYOMNS9BMU"
      }
    },
    {
      "cell_type": "markdown",
      "source": [
        ""
      ],
      "metadata": {
        "id": "eG7pqttG0dXt"
      }
    },
    {
      "cell_type": "markdown",
      "source": [
        ""
      ],
      "metadata": {
        "id": "gA3R11bD0jOQ"
      }
    }
  ]
}